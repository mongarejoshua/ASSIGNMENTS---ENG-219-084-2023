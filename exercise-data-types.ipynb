{
 "cells": [
  {
   "cell_type": "markdown",
   "id": "be096dc1",
   "metadata": {
    "papermill": {
     "duration": 0.006982,
     "end_time": "2025-02-19T23:18:13.846501",
     "exception": false,
     "start_time": "2025-02-19T23:18:13.839519",
     "status": "completed"
    },
    "tags": []
   },
   "source": [
    "**This notebook is an exercise in the [Intro to Programming](https://www.kaggle.com/learn/intro-to-programming) course.  You can reference the tutorial at [this link](https://www.kaggle.com/alexisbcook/data-types).**\n",
    "\n",
    "---\n"
   ]
  },
  {
   "cell_type": "markdown",
   "id": "e96ef512",
   "metadata": {
    "papermill": {
     "duration": 0.005477,
     "end_time": "2025-02-19T23:18:13.857882",
     "exception": false,
     "start_time": "2025-02-19T23:18:13.852405",
     "status": "completed"
    },
    "tags": []
   },
   "source": [
    "In the tutorial, you learned about four different data types: floats, integers, strings, and booleans.  In this exercise, you'll experiment with them.\n",
    "\n",
    "# Set up the notebook\n",
    "\n",
    "Run the next code cell without changes to set up the notebook."
   ]
  },
  {
   "cell_type": "code",
   "execution_count": 1,
   "id": "e8ce2ee3",
   "metadata": {
    "execution": {
     "iopub.execute_input": "2025-02-19T23:18:13.871106Z",
     "iopub.status.busy": "2025-02-19T23:18:13.870604Z",
     "iopub.status.idle": "2025-02-19T23:18:14.935616Z",
     "shell.execute_reply": "2025-02-19T23:18:14.933912Z"
    },
    "papermill": {
     "duration": 1.074078,
     "end_time": "2025-02-19T23:18:14.937595",
     "exception": false,
     "start_time": "2025-02-19T23:18:13.863517",
     "status": "completed"
    },
    "tags": []
   },
   "outputs": [
    {
     "name": "stdout",
     "output_type": "stream",
     "text": [
      "Setup complete.\n"
     ]
    }
   ],
   "source": [
    "# Set up the exercise\n",
    "from learntools.core import binder\n",
    "binder.bind(globals())\n",
    "from learntools.intro_to_programming.ex3 import *\n",
    "print('Setup complete.')"
   ]
  },
  {
   "cell_type": "markdown",
   "id": "82854356",
   "metadata": {
    "papermill": {
     "duration": 0.006039,
     "end_time": "2025-02-19T23:18:14.950155",
     "exception": false,
     "start_time": "2025-02-19T23:18:14.944116",
     "status": "completed"
    },
    "tags": []
   },
   "source": [
    "# Question 1\n",
    "\n",
    "You have seen how to convert a float to an integer with the `int` function.  Try this out yourself by running the code cell below."
   ]
  },
  {
   "cell_type": "code",
   "execution_count": 2,
   "id": "c6427bde",
   "metadata": {
    "execution": {
     "iopub.execute_input": "2025-02-19T23:18:14.964306Z",
     "iopub.status.busy": "2025-02-19T23:18:14.963595Z",
     "iopub.status.idle": "2025-02-19T23:18:14.971950Z",
     "shell.execute_reply": "2025-02-19T23:18:14.970605Z"
    },
    "papermill": {
     "duration": 0.017736,
     "end_time": "2025-02-19T23:18:14.974039",
     "exception": false,
     "start_time": "2025-02-19T23:18:14.956303",
     "status": "completed"
    },
    "tags": []
   },
   "outputs": [
    {
     "name": "stdout",
     "output_type": "stream",
     "text": [
      "1.0\n",
      "<class 'float'>\n",
      "1\n",
      "<class 'int'>\n"
     ]
    }
   ],
   "source": [
    "# Define a float\n",
    "y = 1.\n",
    "print(y)\n",
    "print(type(y))\n",
    "\n",
    "# Convert float to integer with the int function\n",
    "z = int(y)\n",
    "print(z)\n",
    "print(type(z))"
   ]
  },
  {
   "cell_type": "code",
   "execution_count": 3,
   "id": "ba669a67",
   "metadata": {
    "execution": {
     "iopub.execute_input": "2025-02-19T23:18:14.988153Z",
     "iopub.status.busy": "2025-02-19T23:18:14.987665Z",
     "iopub.status.idle": "2025-02-19T23:18:14.994733Z",
     "shell.execute_reply": "2025-02-19T23:18:14.993130Z"
    },
    "papermill": {
     "duration": 0.016481,
     "end_time": "2025-02-19T23:18:14.996847",
     "exception": false,
     "start_time": "2025-02-19T23:18:14.980366",
     "status": "completed"
    },
    "tags": []
   },
   "outputs": [
    {
     "name": "stdout",
     "output_type": "stream",
     "text": [
      "10 <class 'int'>\n",
      "132.0 <class 'float'>\n"
     ]
    }
   ],
   "source": [
    "num1 = 10\n",
    "print(num1, type(num1))\n",
    "\n",
    "num2 = float(132)\n",
    "print(num2, type(num2))"
   ]
  },
  {
   "cell_type": "markdown",
   "id": "81f4f228",
   "metadata": {
    "papermill": {
     "duration": 0.006081,
     "end_time": "2025-02-19T23:18:15.010260",
     "exception": false,
     "start_time": "2025-02-19T23:18:15.004179",
     "status": "completed"
    },
    "tags": []
   },
   "source": [
    "In this case, the float you are using has no numbers after the decimal.  \n",
    "- But what happens when you try to convert a float with a fractional part to an integer?  \n",
    "- How does the outcome of the `int` function change for positive and negative numbers?\n",
    "\n",
    "Use the next code cell to investigate and answer these questions.  Feel free to add or remove any lines of code -- it is your workspace!"
   ]
  },
  {
   "cell_type": "code",
   "execution_count": 4,
   "id": "16bbdd7d",
   "metadata": {
    "execution": {
     "iopub.execute_input": "2025-02-19T23:18:15.024442Z",
     "iopub.status.busy": "2025-02-19T23:18:15.023985Z",
     "iopub.status.idle": "2025-02-19T23:18:15.030470Z",
     "shell.execute_reply": "2025-02-19T23:18:15.028798Z"
    },
    "papermill": {
     "duration": 0.015914,
     "end_time": "2025-02-19T23:18:15.032476",
     "exception": false,
     "start_time": "2025-02-19T23:18:15.016562",
     "status": "completed"
    },
    "tags": []
   },
   "outputs": [
    {
     "name": "stdout",
     "output_type": "stream",
     "text": [
      "1\n",
      "1\n",
      "-3\n",
      "-2\n"
     ]
    }
   ],
   "source": [
    "# Uncomment and run this code to get started!\n",
    "print(int(1.2321))\n",
    "print(int(1.747))\n",
    "print(int(-3.94535))\n",
    "print(int(-2.19774))"
   ]
  },
  {
   "cell_type": "markdown",
   "id": "7da361f3",
   "metadata": {
    "papermill": {
     "duration": 0.005844,
     "end_time": "2025-02-19T23:18:15.044952",
     "exception": false,
     "start_time": "2025-02-19T23:18:15.039108",
     "status": "completed"
    },
    "tags": []
   },
   "source": [
    "Once you have an answer, run the code cell below to see the solution.  Viewing the solution will give you credit for answering the problem."
   ]
  },
  {
   "cell_type": "code",
   "execution_count": 5,
   "id": "81a75e55",
   "metadata": {
    "execution": {
     "iopub.execute_input": "2025-02-19T23:18:15.058914Z",
     "iopub.status.busy": "2025-02-19T23:18:15.058570Z",
     "iopub.status.idle": "2025-02-19T23:18:15.067842Z",
     "shell.execute_reply": "2025-02-19T23:18:15.066559Z"
    },
    "papermill": {
     "duration": 0.018303,
     "end_time": "2025-02-19T23:18:15.069854",
     "exception": false,
     "start_time": "2025-02-19T23:18:15.051551",
     "status": "completed"
    },
    "tags": []
   },
   "outputs": [
    {
     "data": {
      "application/javascript": [
       "parent.postMessage({\"jupyterEvent\": \"custom.exercise_interaction\", \"data\": {\"outcomeType\": 1, \"valueTowardsCompletion\": 0.2, \"interactionType\": 1, \"questionType\": 4, \"questionId\": \"1_FloatToInt\", \"learnToolsVersion\": \"0.3.4\", \"failureMessage\": \"\", \"exceptionClass\": \"\", \"trace\": \"\"}}, \"*\")"
      ],
      "text/plain": [
       "<IPython.core.display.Javascript object>"
      ]
     },
     "metadata": {},
     "output_type": "display_data"
    },
    {
     "data": {
      "text/markdown": [
       "<span style=\"color:#33cc33\">Correct:</span> \n",
       "\n",
       "Negative floats are always rounded UP to the closest integer (for instance, both -1.1 and -1.9 are rounded up to -1). Positive floats are always rounded DOWN to the closest integer (for instance, 2.1 and 2.9 are rounded down to 2)."
      ],
      "text/plain": [
       "Correct: \n",
       "\n",
       "Negative floats are always rounded UP to the closest integer (for instance, both -1.1 and -1.9 are rounded up to -1). Positive floats are always rounded DOWN to the closest integer (for instance, 2.1 and 2.9 are rounded down to 2)."
      ]
     },
     "metadata": {},
     "output_type": "display_data"
    }
   ],
   "source": [
    "# Check your answer (Run this code cell to receive credit!)\n",
    "q1.check()"
   ]
  },
  {
   "cell_type": "markdown",
   "id": "b36f4a18",
   "metadata": {
    "papermill": {
     "duration": 0.006422,
     "end_time": "2025-02-19T23:18:15.083059",
     "exception": false,
     "start_time": "2025-02-19T23:18:15.076637",
     "status": "completed"
    },
    "tags": []
   },
   "source": [
    "# Question 2\n",
    "\n",
    "In the tutorial, you learned about booleans (which can take a value of `True` or `False`), in addition to integers, floats, and strings.  For this question, your goal is to determine what happens when you multiply a boolean by any of these data types.  Specifically, \n",
    "- What happens when you multiply an integer or float by `True`?  What happens when you multiply them by `False`?  How does the answer change if the numbers are positive or negative?\n",
    "- What happens when you multiply a string by `True`?  By `False`?\n",
    "\n",
    "Use the next code cell for your investigation. "
   ]
  },
  {
   "cell_type": "code",
   "execution_count": 6,
   "id": "f9588de8",
   "metadata": {
    "execution": {
     "iopub.execute_input": "2025-02-19T23:18:15.097085Z",
     "iopub.status.busy": "2025-02-19T23:18:15.096660Z",
     "iopub.status.idle": "2025-02-19T23:18:15.103852Z",
     "shell.execute_reply": "2025-02-19T23:18:15.102595Z"
    },
    "papermill": {
     "duration": 0.016361,
     "end_time": "2025-02-19T23:18:15.105809",
     "exception": false,
     "start_time": "2025-02-19T23:18:15.089448",
     "status": "completed"
    },
    "tags": []
   },
   "outputs": [
    {
     "name": "stdout",
     "output_type": "stream",
     "text": [
      "3\n",
      "-3.1\n",
      "<class 'str'>\n",
      "0\n"
     ]
    }
   ],
   "source": [
    "# Uncomment and run this code to get started!\n",
    "print(3 * True)\n",
    "print(-3.1 * True)\n",
    "print(type(\"abc\" * False))\n",
    "print(len(\"abc\" * False))"
   ]
  },
  {
   "cell_type": "markdown",
   "id": "fabb7b06",
   "metadata": {
    "papermill": {
     "duration": 0.007102,
     "end_time": "2025-02-19T23:18:15.119837",
     "exception": false,
     "start_time": "2025-02-19T23:18:15.112735",
     "status": "completed"
    },
    "tags": []
   },
   "source": [
    "Once you have an answer, run the code cell below to see the solution.  Viewing the solution will give you credit for answering the problem."
   ]
  },
  {
   "cell_type": "code",
   "execution_count": 7,
   "id": "12fee0e6",
   "metadata": {
    "execution": {
     "iopub.execute_input": "2025-02-19T23:18:15.134870Z",
     "iopub.status.busy": "2025-02-19T23:18:15.134488Z",
     "iopub.status.idle": "2025-02-19T23:18:15.142404Z",
     "shell.execute_reply": "2025-02-19T23:18:15.141305Z"
    },
    "papermill": {
     "duration": 0.017485,
     "end_time": "2025-02-19T23:18:15.144257",
     "exception": false,
     "start_time": "2025-02-19T23:18:15.126772",
     "status": "completed"
    },
    "tags": []
   },
   "outputs": [
    {
     "data": {
      "application/javascript": [
       "parent.postMessage({\"jupyterEvent\": \"custom.exercise_interaction\", \"data\": {\"outcomeType\": 1, \"valueTowardsCompletion\": 0.2, \"interactionType\": 1, \"questionType\": 4, \"questionId\": \"2_MultiplyBooleans\", \"learnToolsVersion\": \"0.3.4\", \"failureMessage\": \"\", \"exceptionClass\": \"\", \"trace\": \"\"}}, \"*\")"
      ],
      "text/plain": [
       "<IPython.core.display.Javascript object>"
      ]
     },
     "metadata": {},
     "output_type": "display_data"
    },
    {
     "data": {
      "text/markdown": [
       "<span style=\"color:#33cc33\">Correct:</span> \n",
       "\n",
       "When you multiple an integer or float by a boolean with value `True`, it just returns that same integer or float (and is equivalent to multiplying by 1).  If you multiply an integer or float by a boolean with value `False`, it always returns 0.  This is true for both positive and negative numbers.  If you multiply a string by a boolean with value `True`, it just returns that same string.  And if you multiply a string by a boolean with value `False`, it returns an empty string (or a string with length zero)."
      ],
      "text/plain": [
       "Correct: \n",
       "\n",
       "When you multiple an integer or float by a boolean with value `True`, it just returns that same integer or float (and is equivalent to multiplying by 1).  If you multiply an integer or float by a boolean with value `False`, it always returns 0.  This is true for both positive and negative numbers.  If you multiply a string by a boolean with value `True`, it just returns that same string.  And if you multiply a string by a boolean with value `False`, it returns an empty string (or a string with length zero)."
      ]
     },
     "metadata": {},
     "output_type": "display_data"
    }
   ],
   "source": [
    "# Check your answer (Run this code cell to receive credit!)\n",
    "q2.check()"
   ]
  },
  {
   "cell_type": "markdown",
   "id": "d54b3803",
   "metadata": {
    "papermill": {
     "duration": 0.006421,
     "end_time": "2025-02-19T23:18:15.157804",
     "exception": false,
     "start_time": "2025-02-19T23:18:15.151383",
     "status": "completed"
    },
    "tags": []
   },
   "source": [
    "# Question 3\n",
    "\n",
    "In this question, you will build off your work from the previous exercise to write a function that estimates the value of a house.\n",
    "\n",
    "Use the next code cell to create a function `get_expected_cost` that takes as input three variables:\n",
    "- `beds` - number of bedrooms (data type float)\n",
    "- `baths` - number of bathrooms (data type float)\n",
    "- `has_basement` - whether or not the house has a basement (data type boolean)\n",
    "\n",
    "It should return the expected cost of a house with those characteristics. Assume that:\n",
    "- the expected cost for a house with 0 bedrooms and 0 bathrooms, and no basement is 80000, \n",
    "- each bedroom adds 30000 to the expected cost,\n",
    "- each bathroom adds 10000 to the expected cost, and\n",
    "- a basement adds 40000 to the expected cost.\n",
    "\n",
    "For instance,\n",
    "- a house with 1 bedroom, 1 bathroom, and no basement has an expected cost of 80000 + 30000 + 10000 = 120000.  This value will be calculated with `get_expected_cost(1, 1, False)`.\n",
    "- a house with 2 bedrooms, 1 bathroom, and a basement has an expected cost of 80000 + 2*30000 + 10000 + 40000 = 190000.  This value will be calculated with `get_expected_cost(2, 1, True)`.\n",
    "\n",
    "Remember you can always get a hint by uncommenting `q3.hint()` in the code cell following the next!"
   ]
  },
  {
   "cell_type": "code",
   "execution_count": 8,
   "id": "0f062257",
   "metadata": {
    "execution": {
     "iopub.execute_input": "2025-02-19T23:18:15.173033Z",
     "iopub.status.busy": "2025-02-19T23:18:15.172659Z",
     "iopub.status.idle": "2025-02-19T23:18:15.182212Z",
     "shell.execute_reply": "2025-02-19T23:18:15.180719Z"
    },
    "papermill": {
     "duration": 0.019813,
     "end_time": "2025-02-19T23:18:15.184383",
     "exception": false,
     "start_time": "2025-02-19T23:18:15.164570",
     "status": "completed"
    },
    "tags": []
   },
   "outputs": [
    {
     "data": {
      "application/javascript": [
       "parent.postMessage({\"jupyterEvent\": \"custom.exercise_interaction\", \"data\": {\"outcomeType\": 1, \"valueTowardsCompletion\": 0.2, \"interactionType\": 1, \"questionType\": 2, \"questionId\": \"3_EstimateHouseValueBool\", \"learnToolsVersion\": \"0.3.4\", \"failureMessage\": \"\", \"exceptionClass\": \"\", \"trace\": \"\"}}, \"*\")"
      ],
      "text/plain": [
       "<IPython.core.display.Javascript object>"
      ]
     },
     "metadata": {},
     "output_type": "display_data"
    },
    {
     "data": {
      "text/markdown": [
       "<span style=\"color:#33cc33\">Correct</span>"
      ],
      "text/plain": [
       "Correct"
      ]
     },
     "metadata": {},
     "output_type": "display_data"
    }
   ],
   "source": [
    "# TODO: Complete the function\n",
    "def get_expected_cost(beds, baths, has_basement):\n",
    "    value = value = 80000 + 30000 * beds + 10000*baths + 40000*has_basement\n",
    "    return value\n",
    "\n",
    "# Check your answer \n",
    "q3.check()"
   ]
  },
  {
   "cell_type": "code",
   "execution_count": 9,
   "id": "b786c07b",
   "metadata": {
    "execution": {
     "iopub.execute_input": "2025-02-19T23:18:15.200485Z",
     "iopub.status.busy": "2025-02-19T23:18:15.200144Z",
     "iopub.status.idle": "2025-02-19T23:18:15.204253Z",
     "shell.execute_reply": "2025-02-19T23:18:15.203119Z"
    },
    "papermill": {
     "duration": 0.014365,
     "end_time": "2025-02-19T23:18:15.206276",
     "exception": false,
     "start_time": "2025-02-19T23:18:15.191911",
     "status": "completed"
    },
    "tags": []
   },
   "outputs": [],
   "source": [
    "# Uncomment to see a hint\n",
    "#q3.hint()\n",
    "\n",
    "# Uncomment to view the solution\n",
    "#q3.solution()"
   ]
  },
  {
   "cell_type": "markdown",
   "id": "a71be072",
   "metadata": {
    "papermill": {
     "duration": 0.006687,
     "end_time": "2025-02-19T23:18:15.221041",
     "exception": false,
     "start_time": "2025-02-19T23:18:15.214354",
     "status": "completed"
    },
    "tags": []
   },
   "source": [
    "# Question 4\n",
    "\n",
    "We'll continue our study of boolean arithmetic.  For this question, your task is to provide a description of what happpens when you add booleans. \n",
    "\n",
    "Use the next code cell for your investigation.  Feel free to add or remove any lines of code - use it as your workspace!"
   ]
  },
  {
   "cell_type": "code",
   "execution_count": 10,
   "id": "ff72a4e9",
   "metadata": {
    "execution": {
     "iopub.execute_input": "2025-02-19T23:18:15.236520Z",
     "iopub.status.busy": "2025-02-19T23:18:15.236166Z",
     "iopub.status.idle": "2025-02-19T23:18:15.243746Z",
     "shell.execute_reply": "2025-02-19T23:18:15.242344Z"
    },
    "papermill": {
     "duration": 0.017499,
     "end_time": "2025-02-19T23:18:15.245630",
     "exception": false,
     "start_time": "2025-02-19T23:18:15.228131",
     "status": "completed"
    },
    "tags": []
   },
   "outputs": [
    {
     "name": "stdout",
     "output_type": "stream",
     "text": [
      "0\n",
      "1\n",
      "1\n",
      "2\n",
      "3\n"
     ]
    }
   ],
   "source": [
    "print(False + False)\n",
    "print(True + False)\n",
    "print(False + True)\n",
    "print(True + True)\n",
    "print(False + True + True + True)"
   ]
  },
  {
   "cell_type": "code",
   "execution_count": 11,
   "id": "4e4e8cc1",
   "metadata": {
    "execution": {
     "iopub.execute_input": "2025-02-19T23:18:15.261335Z",
     "iopub.status.busy": "2025-02-19T23:18:15.260965Z",
     "iopub.status.idle": "2025-02-19T23:18:15.265442Z",
     "shell.execute_reply": "2025-02-19T23:18:15.264159Z"
    },
    "papermill": {
     "duration": 0.014511,
     "end_time": "2025-02-19T23:18:15.267414",
     "exception": false,
     "start_time": "2025-02-19T23:18:15.252903",
     "status": "completed"
    },
    "tags": []
   },
   "outputs": [],
   "source": [
    "# False has a value of 1, True has a value of 0."
   ]
  },
  {
   "cell_type": "markdown",
   "id": "f1f28fc8",
   "metadata": {
    "papermill": {
     "duration": 0.006328,
     "end_time": "2025-02-19T23:18:15.280813",
     "exception": false,
     "start_time": "2025-02-19T23:18:15.274485",
     "status": "completed"
    },
    "tags": []
   },
   "source": [
    "Once you have an answer, run the code cell below to see the solution.  Viewing the solution will give you credit for answering the problem."
   ]
  },
  {
   "cell_type": "code",
   "execution_count": 12,
   "id": "25cc8532",
   "metadata": {
    "execution": {
     "iopub.execute_input": "2025-02-19T23:18:15.296042Z",
     "iopub.status.busy": "2025-02-19T23:18:15.295589Z",
     "iopub.status.idle": "2025-02-19T23:18:15.305468Z",
     "shell.execute_reply": "2025-02-19T23:18:15.303925Z"
    },
    "papermill": {
     "duration": 0.020168,
     "end_time": "2025-02-19T23:18:15.307667",
     "exception": false,
     "start_time": "2025-02-19T23:18:15.287499",
     "status": "completed"
    },
    "tags": []
   },
   "outputs": [
    {
     "data": {
      "application/javascript": [
       "parent.postMessage({\"jupyterEvent\": \"custom.exercise_interaction\", \"data\": {\"outcomeType\": 1, \"valueTowardsCompletion\": 0.2, \"interactionType\": 1, \"questionType\": 4, \"questionId\": \"4_AddingBooleans\", \"learnToolsVersion\": \"0.3.4\", \"failureMessage\": \"\", \"exceptionClass\": \"\", \"trace\": \"\"}}, \"*\")"
      ],
      "text/plain": [
       "<IPython.core.display.Javascript object>"
      ]
     },
     "metadata": {},
     "output_type": "display_data"
    },
    {
     "data": {
      "text/markdown": [
       "<span style=\"color:#33cc33\">Correct:</span> \n",
       "\n",
       "When you add booleans, adding `False` is equivalent to adding 0, and adding `True` is equivalent to adding 1."
      ],
      "text/plain": [
       "Correct: \n",
       "\n",
       "When you add booleans, adding `False` is equivalent to adding 0, and adding `True` is equivalent to adding 1."
      ]
     },
     "metadata": {},
     "output_type": "display_data"
    }
   ],
   "source": [
    "# Check your answer (Run this code cell to receive credit!)\n",
    "q4.check()"
   ]
  },
  {
   "cell_type": "markdown",
   "id": "57d6f047",
   "metadata": {
    "papermill": {
     "duration": 0.006657,
     "end_time": "2025-02-19T23:18:15.321469",
     "exception": false,
     "start_time": "2025-02-19T23:18:15.314812",
     "status": "completed"
    },
    "tags": []
   },
   "source": [
    "# 🌶️ Question 5\n",
    "\n",
    "You own an online shop where you sell rings with custom engravings.  You offer both gold plated and solid gold rings.\n",
    "- Gold plated rings have a base cost of \\\\$50, and you charge \\\\$7 per engraved unit.  \n",
    "- Solid gold rings have a base cost of \\\\$100, and you charge \\\\$10 per engraved unit.\n",
    "- Spaces and punctuation are counted as engraved units.\n",
    "\n",
    "Write a function `cost_of_project()` that takes two arguments:\n",
    "- `engraving` - a Python string with the text of the engraving\n",
    "- `solid_gold` - a Boolean that indicates whether the ring is solid gold\n",
    "\n",
    "It should return the cost of the project.  This question should be fairly challenging, and you may need a hint."
   ]
  },
  {
   "cell_type": "code",
   "execution_count": 13,
   "id": "270ed97c",
   "metadata": {
    "execution": {
     "iopub.execute_input": "2025-02-19T23:18:15.337061Z",
     "iopub.status.busy": "2025-02-19T23:18:15.336579Z",
     "iopub.status.idle": "2025-02-19T23:18:15.346101Z",
     "shell.execute_reply": "2025-02-19T23:18:15.344911Z"
    },
    "papermill": {
     "duration": 0.019696,
     "end_time": "2025-02-19T23:18:15.348217",
     "exception": false,
     "start_time": "2025-02-19T23:18:15.328521",
     "status": "completed"
    },
    "tags": []
   },
   "outputs": [
    {
     "data": {
      "application/javascript": [
       "parent.postMessage({\"jupyterEvent\": \"custom.exercise_interaction\", \"data\": {\"outcomeType\": 1, \"valueTowardsCompletion\": 0.2, \"interactionType\": 1, \"questionType\": 2, \"questionId\": \"5_CustomEngravings\", \"learnToolsVersion\": \"0.3.4\", \"failureMessage\": \"\", \"exceptionClass\": \"\", \"trace\": \"\"}}, \"*\")"
      ],
      "text/plain": [
       "<IPython.core.display.Javascript object>"
      ]
     },
     "metadata": {},
     "output_type": "display_data"
    },
    {
     "data": {
      "text/markdown": [
       "<span style=\"color:#33cc33\">Correct</span>"
      ],
      "text/plain": [
       "Correct"
      ]
     },
     "metadata": {},
     "output_type": "display_data"
    }
   ],
   "source": [
    "def cost_of_project(engraving, solid_gold):\n",
    "    cost = solid_gold * (100 + 10*len(engraving)) + (not solid_gold) * (50 + 7 *len(engraving))\n",
    "    return cost\n",
    "\n",
    "# Check your answer\n",
    "q5.check()"
   ]
  },
  {
   "cell_type": "code",
   "execution_count": 14,
   "id": "2a7cbc2b",
   "metadata": {
    "execution": {
     "iopub.execute_input": "2025-02-19T23:18:15.365653Z",
     "iopub.status.busy": "2025-02-19T23:18:15.365182Z",
     "iopub.status.idle": "2025-02-19T23:18:15.369818Z",
     "shell.execute_reply": "2025-02-19T23:18:15.368589Z"
    },
    "papermill": {
     "duration": 0.015482,
     "end_time": "2025-02-19T23:18:15.371706",
     "exception": false,
     "start_time": "2025-02-19T23:18:15.356224",
     "status": "completed"
    },
    "tags": []
   },
   "outputs": [],
   "source": [
    "# Uncomment to see a hint\n",
    "#q5.hint()\n",
    "\n",
    "# Uncomment to view the solution\n",
    "#q5.solution()"
   ]
  },
  {
   "cell_type": "markdown",
   "id": "a488d331",
   "metadata": {
    "papermill": {
     "duration": 0.007795,
     "end_time": "2025-02-19T23:18:15.391135",
     "exception": false,
     "start_time": "2025-02-19T23:18:15.383340",
     "status": "completed"
    },
    "tags": []
   },
   "source": [
    "Run the next code cell to calculate the cost of engraving `Charlie+Denver` on a solid gold ring."
   ]
  },
  {
   "cell_type": "code",
   "execution_count": 15,
   "id": "ca99f179",
   "metadata": {
    "execution": {
     "iopub.execute_input": "2025-02-19T23:18:15.407977Z",
     "iopub.status.busy": "2025-02-19T23:18:15.407583Z",
     "iopub.status.idle": "2025-02-19T23:18:15.413673Z",
     "shell.execute_reply": "2025-02-19T23:18:15.412137Z"
    },
    "papermill": {
     "duration": 0.016677,
     "end_time": "2025-02-19T23:18:15.415491",
     "exception": false,
     "start_time": "2025-02-19T23:18:15.398814",
     "status": "completed"
    },
    "tags": []
   },
   "outputs": [
    {
     "name": "stdout",
     "output_type": "stream",
     "text": [
      "240\n"
     ]
    }
   ],
   "source": [
    "project_one = cost_of_project(\"Charlie+Denver\", True)\n",
    "print(project_one)"
   ]
  },
  {
   "cell_type": "markdown",
   "id": "6414ab09",
   "metadata": {
    "papermill": {
     "duration": 0.007364,
     "end_time": "2025-02-19T23:18:15.430461",
     "exception": false,
     "start_time": "2025-02-19T23:18:15.423097",
     "status": "completed"
    },
    "tags": []
   },
   "source": [
    "Use the next code cell to calculate the cost of engraving `08/10/2000` on a gold plated ring."
   ]
  },
  {
   "cell_type": "code",
   "execution_count": 16,
   "id": "111f64bb",
   "metadata": {
    "execution": {
     "iopub.execute_input": "2025-02-19T23:18:15.447055Z",
     "iopub.status.busy": "2025-02-19T23:18:15.446622Z",
     "iopub.status.idle": "2025-02-19T23:18:15.452920Z",
     "shell.execute_reply": "2025-02-19T23:18:15.451166Z"
    },
    "papermill": {
     "duration": 0.017338,
     "end_time": "2025-02-19T23:18:15.455302",
     "exception": false,
     "start_time": "2025-02-19T23:18:15.437964",
     "status": "completed"
    },
    "tags": []
   },
   "outputs": [
    {
     "name": "stdout",
     "output_type": "stream",
     "text": [
      "120\n"
     ]
    }
   ],
   "source": [
    "project_two = cost_of_project(\"08/10/2000\", False)\n",
    "print(project_two)"
   ]
  },
  {
   "cell_type": "markdown",
   "id": "1d51d310",
   "metadata": {
    "papermill": {
     "duration": 0.006838,
     "end_time": "2025-02-19T23:18:15.469921",
     "exception": false,
     "start_time": "2025-02-19T23:18:15.463083",
     "status": "completed"
    },
    "tags": []
   },
   "source": [
    "# Keep going\n",
    "\n",
    "Continue to the next lesson to **[learn about conditions and conditional statements](https://www.kaggle.com/alexisbcook/conditions-and-conditional-statements)**."
   ]
  },
  {
   "cell_type": "markdown",
   "id": "16ed7f70",
   "metadata": {
    "papermill": {
     "duration": 0.00735,
     "end_time": "2025-02-19T23:18:15.484428",
     "exception": false,
     "start_time": "2025-02-19T23:18:15.477078",
     "status": "completed"
    },
    "tags": []
   },
   "source": [
    "---\n",
    "\n",
    "\n",
    "\n",
    "\n",
    "*Have questions or comments? Visit the [course discussion forum](https://www.kaggle.com/learn/intro-to-programming/discussion) to chat with other learners.*"
   ]
  }
 ],
 "metadata": {
  "kaggle": {
   "accelerator": "none",
   "dataSources": [],
   "isGpuEnabled": false,
   "isInternetEnabled": false,
   "language": "python",
   "sourceType": "notebook"
  },
  "kernelspec": {
   "display_name": "Python 3",
   "language": "python",
   "name": "python3"
  },
  "language_info": {
   "codemirror_mode": {
    "name": "ipython",
    "version": 3
   },
   "file_extension": ".py",
   "mimetype": "text/x-python",
   "name": "python",
   "nbconvert_exporter": "python",
   "pygments_lexer": "ipython3",
   "version": "3.10.12"
  },
  "papermill": {
   "default_parameters": {},
   "duration": 6.046535,
   "end_time": "2025-02-19T23:18:16.214650",
   "environment_variables": {},
   "exception": null,
   "input_path": "__notebook__.ipynb",
   "output_path": "__notebook__.ipynb",
   "parameters": {},
   "start_time": "2025-02-19T23:18:10.168115",
   "version": "2.3.3"
  }
 },
 "nbformat": 4,
 "nbformat_minor": 5
}
