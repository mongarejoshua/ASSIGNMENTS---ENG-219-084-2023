{
 "cells": [
  {
   "cell_type": "markdown",
   "id": "94287941",
   "metadata": {
    "papermill": {
     "duration": 0.00484,
     "end_time": "2025-02-25T21:06:23.456431",
     "exception": false,
     "start_time": "2025-02-25T21:06:23.451591",
     "status": "completed"
    },
    "tags": []
   },
   "source": [
    "**This notebook is an exercise in the [Intro to Programming](https://www.kaggle.com/learn/intro-to-programming) course.  You can reference the tutorial at [this link](https://www.kaggle.com/alexisbcook/data-types).**\n",
    "\n",
    "---\n"
   ]
  },
  {
   "cell_type": "markdown",
   "id": "fba5f55c",
   "metadata": {
    "papermill": {
     "duration": 0.003879,
     "end_time": "2025-02-25T21:06:23.464625",
     "exception": false,
     "start_time": "2025-02-25T21:06:23.460746",
     "status": "completed"
    },
    "tags": []
   },
   "source": [
    "In the tutorial, you learned about four different data types: floats, integers, strings, and booleans.  In this exercise, you'll experiment with them.\n",
    "\n",
    "# Set up the notebook\n",
    "\n",
    "Run the next code cell without changes to set up the notebook."
   ]
  },
  {
   "cell_type": "code",
   "execution_count": 1,
   "id": "188584b3",
   "metadata": {
    "execution": {
     "iopub.execute_input": "2025-02-25T21:06:23.474068Z",
     "iopub.status.busy": "2025-02-25T21:06:23.473724Z",
     "iopub.status.idle": "2025-02-25T21:06:24.614335Z",
     "shell.execute_reply": "2025-02-25T21:06:24.613178Z"
    },
    "papermill": {
     "duration": 1.147313,
     "end_time": "2025-02-25T21:06:24.615994",
     "exception": false,
     "start_time": "2025-02-25T21:06:23.468681",
     "status": "completed"
    },
    "tags": []
   },
   "outputs": [
    {
     "name": "stdout",
     "output_type": "stream",
     "text": [
      "Setup complete.\n"
     ]
    }
   ],
   "source": [
    "# Set up the exercise\n",
    "from learntools.core import binder\n",
    "binder.bind(globals())\n",
    "from learntools.intro_to_programming.ex3 import *\n",
    "print('Setup complete.')"
   ]
  },
  {
   "cell_type": "markdown",
   "id": "057a1beb",
   "metadata": {
    "papermill": {
     "duration": 0.0039,
     "end_time": "2025-02-25T21:06:24.624403",
     "exception": false,
     "start_time": "2025-02-25T21:06:24.620503",
     "status": "completed"
    },
    "tags": []
   },
   "source": [
    "# Question 1\n",
    "\n",
    "You have seen how to convert a float to an integer with the `int` function.  Try this out yourself by running the code cell below."
   ]
  },
  {
   "cell_type": "code",
   "execution_count": 2,
   "id": "3cbc1b50",
   "metadata": {
    "execution": {
     "iopub.execute_input": "2025-02-25T21:06:24.633543Z",
     "iopub.status.busy": "2025-02-25T21:06:24.633181Z",
     "iopub.status.idle": "2025-02-25T21:06:24.638769Z",
     "shell.execute_reply": "2025-02-25T21:06:24.637616Z"
    },
    "papermill": {
     "duration": 0.012215,
     "end_time": "2025-02-25T21:06:24.640644",
     "exception": false,
     "start_time": "2025-02-25T21:06:24.628429",
     "status": "completed"
    },
    "tags": []
   },
   "outputs": [
    {
     "name": "stdout",
     "output_type": "stream",
     "text": [
      "1.0\n",
      "<class 'float'>\n",
      "1\n",
      "<class 'int'>\n"
     ]
    }
   ],
   "source": [
    "# Define a float\n",
    "y = 1.\n",
    "print(y)\n",
    "print(type(y))\n",
    "\n",
    "# Convert float to integer with the int function\n",
    "z = int(y)\n",
    "print(z)\n",
    "print(type(z))"
   ]
  },
  {
   "cell_type": "code",
   "execution_count": 3,
   "id": "32f60110",
   "metadata": {
    "execution": {
     "iopub.execute_input": "2025-02-25T21:06:24.650883Z",
     "iopub.status.busy": "2025-02-25T21:06:24.650590Z",
     "iopub.status.idle": "2025-02-25T21:06:24.656586Z",
     "shell.execute_reply": "2025-02-25T21:06:24.655283Z"
    },
    "papermill": {
     "duration": 0.012366,
     "end_time": "2025-02-25T21:06:24.657892",
     "exception": false,
     "start_time": "2025-02-25T21:06:24.645526",
     "status": "completed"
    },
    "tags": []
   },
   "outputs": [
    {
     "name": "stdout",
     "output_type": "stream",
     "text": [
      "10 <class 'int'>\n",
      "132.0 <class 'float'>\n"
     ]
    }
   ],
   "source": [
    "num1 = 10\n",
    "print(num1, type(num1))\n",
    "\n",
    "num2 = float(132)\n",
    "print(num2, type(num2))"
   ]
  },
  {
   "cell_type": "markdown",
   "id": "d8f97534",
   "metadata": {
    "papermill": {
     "duration": 0.003899,
     "end_time": "2025-02-25T21:06:24.666311",
     "exception": false,
     "start_time": "2025-02-25T21:06:24.662412",
     "status": "completed"
    },
    "tags": []
   },
   "source": [
    "In this case, the float you are using has no numbers after the decimal.  \n",
    "- But what happens when you try to convert a float with a fractional part to an integer?  \n",
    "- How does the outcome of the `int` function change for positive and negative numbers?\n",
    "\n",
    "Use the next code cell to investigate and answer these questions.  Feel free to add or remove any lines of code -- it is your workspace!"
   ]
  },
  {
   "cell_type": "code",
   "execution_count": 4,
   "id": "0c85dffb",
   "metadata": {
    "execution": {
     "iopub.execute_input": "2025-02-25T21:06:24.675696Z",
     "iopub.status.busy": "2025-02-25T21:06:24.675402Z",
     "iopub.status.idle": "2025-02-25T21:06:24.681185Z",
     "shell.execute_reply": "2025-02-25T21:06:24.679926Z"
    },
    "papermill": {
     "duration": 0.012449,
     "end_time": "2025-02-25T21:06:24.682789",
     "exception": false,
     "start_time": "2025-02-25T21:06:24.670340",
     "status": "completed"
    },
    "tags": []
   },
   "outputs": [
    {
     "name": "stdout",
     "output_type": "stream",
     "text": [
      "1\n",
      "1\n",
      "-3\n",
      "-2\n"
     ]
    }
   ],
   "source": [
    "# Uncomment and run this code to get started!\n",
    "print(int(1.2321))\n",
    "print(int(1.747))\n",
    "print(int(-3.94535))\n",
    "print(int(-2.19774))"
   ]
  },
  {
   "cell_type": "code",
   "execution_count": 5,
   "id": "6a439407",
   "metadata": {
    "execution": {
     "iopub.execute_input": "2025-02-25T21:06:24.692784Z",
     "iopub.status.busy": "2025-02-25T21:06:24.692521Z",
     "iopub.status.idle": "2025-02-25T21:06:24.697367Z",
     "shell.execute_reply": "2025-02-25T21:06:24.696073Z"
    },
    "papermill": {
     "duration": 0.01143,
     "end_time": "2025-02-25T21:06:24.698875",
     "exception": false,
     "start_time": "2025-02-25T21:06:24.687445",
     "status": "completed"
    },
    "tags": []
   },
   "outputs": [
    {
     "name": "stdout",
     "output_type": "stream",
     "text": [
      "2.0\n",
      "100.0\n"
     ]
    }
   ],
   "source": [
    "# my practice code block\n",
    "print(float(2))\n",
    "print(float(100))"
   ]
  },
  {
   "cell_type": "markdown",
   "id": "075fa81d",
   "metadata": {
    "papermill": {
     "duration": 0.004096,
     "end_time": "2025-02-25T21:06:24.707790",
     "exception": false,
     "start_time": "2025-02-25T21:06:24.703694",
     "status": "completed"
    },
    "tags": []
   },
   "source": [
    "Once you have an answer, run the code cell below to see the solution.  Viewing the solution will give you credit for answering the problem."
   ]
  },
  {
   "cell_type": "code",
   "execution_count": 6,
   "id": "ea89d4b8",
   "metadata": {
    "execution": {
     "iopub.execute_input": "2025-02-25T21:06:24.718475Z",
     "iopub.status.busy": "2025-02-25T21:06:24.718189Z",
     "iopub.status.idle": "2025-02-25T21:06:24.726118Z",
     "shell.execute_reply": "2025-02-25T21:06:24.725219Z"
    },
    "papermill": {
     "duration": 0.014631,
     "end_time": "2025-02-25T21:06:24.727493",
     "exception": false,
     "start_time": "2025-02-25T21:06:24.712862",
     "status": "completed"
    },
    "tags": []
   },
   "outputs": [
    {
     "data": {
      "application/javascript": [
       "parent.postMessage({\"jupyterEvent\": \"custom.exercise_interaction\", \"data\": {\"outcomeType\": 1, \"valueTowardsCompletion\": 0.2, \"interactionType\": 1, \"questionType\": 4, \"questionId\": \"1_FloatToInt\", \"learnToolsVersion\": \"0.3.4\", \"failureMessage\": \"\", \"exceptionClass\": \"\", \"trace\": \"\"}}, \"*\")"
      ],
      "text/plain": [
       "<IPython.core.display.Javascript object>"
      ]
     },
     "metadata": {},
     "output_type": "display_data"
    },
    {
     "data": {
      "text/markdown": [
       "<span style=\"color:#33cc33\">Correct:</span> \n",
       "\n",
       "Negative floats are always rounded UP to the closest integer (for instance, both -1.1 and -1.9 are rounded up to -1). Positive floats are always rounded DOWN to the closest integer (for instance, 2.1 and 2.9 are rounded down to 2)."
      ],
      "text/plain": [
       "Correct: \n",
       "\n",
       "Negative floats are always rounded UP to the closest integer (for instance, both -1.1 and -1.9 are rounded up to -1). Positive floats are always rounded DOWN to the closest integer (for instance, 2.1 and 2.9 are rounded down to 2)."
      ]
     },
     "metadata": {},
     "output_type": "display_data"
    }
   ],
   "source": [
    "# Check your answer (Run this code cell to receive credit!)\n",
    "q1.check()"
   ]
  },
  {
   "cell_type": "markdown",
   "id": "4a8640b9",
   "metadata": {
    "papermill": {
     "duration": 0.004359,
     "end_time": "2025-02-25T21:06:24.736949",
     "exception": false,
     "start_time": "2025-02-25T21:06:24.732590",
     "status": "completed"
    },
    "tags": []
   },
   "source": [
    "# Question 2\n",
    "\n",
    "In the tutorial, you learned about booleans (which can take a value of `True` or `False`), in addition to integers, floats, and strings.  For this question, your goal is to determine what happens when you multiply a boolean by any of these data types.  Specifically, \n",
    "- What happens when you multiply an integer or float by `True`?  What happens when you multiply them by `False`?  How does the answer change if the numbers are positive or negative?\n",
    "- What happens when you multiply a string by `True`?  By `False`?\n",
    "\n",
    "Use the next code cell for your investigation. "
   ]
  },
  {
   "cell_type": "code",
   "execution_count": 7,
   "id": "9f4e19d3",
   "metadata": {
    "execution": {
     "iopub.execute_input": "2025-02-25T21:06:24.747192Z",
     "iopub.status.busy": "2025-02-25T21:06:24.746871Z",
     "iopub.status.idle": "2025-02-25T21:06:24.751812Z",
     "shell.execute_reply": "2025-02-25T21:06:24.750407Z"
    },
    "papermill": {
     "duration": 0.012658,
     "end_time": "2025-02-25T21:06:24.754109",
     "exception": false,
     "start_time": "2025-02-25T21:06:24.741451",
     "status": "completed"
    },
    "tags": []
   },
   "outputs": [
    {
     "name": "stdout",
     "output_type": "stream",
     "text": [
      "3\n",
      "-3.1\n",
      "<class 'str'>\n",
      "0\n"
     ]
    }
   ],
   "source": [
    "# Uncomment and run this code to get started!\n",
    "print(3 * True)\n",
    "print(-3.1 * True)\n",
    "print(type(\"abc\" * False))\n",
    "print(len(\"abc\" * False))"
   ]
  },
  {
   "cell_type": "markdown",
   "id": "2ae481a3",
   "metadata": {
    "papermill": {
     "duration": 0.004138,
     "end_time": "2025-02-25T21:06:24.763399",
     "exception": false,
     "start_time": "2025-02-25T21:06:24.759261",
     "status": "completed"
    },
    "tags": []
   },
   "source": [
    "Once you have an answer, run the code cell below to see the solution.  Viewing the solution will give you credit for answering the problem."
   ]
  },
  {
   "cell_type": "code",
   "execution_count": 8,
   "id": "92364af7",
   "metadata": {
    "execution": {
     "iopub.execute_input": "2025-02-25T21:06:24.773667Z",
     "iopub.status.busy": "2025-02-25T21:06:24.773396Z",
     "iopub.status.idle": "2025-02-25T21:06:24.780415Z",
     "shell.execute_reply": "2025-02-25T21:06:24.778903Z"
    },
    "papermill": {
     "duration": 0.013993,
     "end_time": "2025-02-25T21:06:24.782201",
     "exception": false,
     "start_time": "2025-02-25T21:06:24.768208",
     "status": "completed"
    },
    "tags": []
   },
   "outputs": [
    {
     "data": {
      "application/javascript": [
       "parent.postMessage({\"jupyterEvent\": \"custom.exercise_interaction\", \"data\": {\"outcomeType\": 1, \"valueTowardsCompletion\": 0.2, \"interactionType\": 1, \"questionType\": 4, \"questionId\": \"2_MultiplyBooleans\", \"learnToolsVersion\": \"0.3.4\", \"failureMessage\": \"\", \"exceptionClass\": \"\", \"trace\": \"\"}}, \"*\")"
      ],
      "text/plain": [
       "<IPython.core.display.Javascript object>"
      ]
     },
     "metadata": {},
     "output_type": "display_data"
    },
    {
     "data": {
      "text/markdown": [
       "<span style=\"color:#33cc33\">Correct:</span> \n",
       "\n",
       "When you multiple an integer or float by a boolean with value `True`, it just returns that same integer or float (and is equivalent to multiplying by 1).  If you multiply an integer or float by a boolean with value `False`, it always returns 0.  This is true for both positive and negative numbers.  If you multiply a string by a boolean with value `True`, it just returns that same string.  And if you multiply a string by a boolean with value `False`, it returns an empty string (or a string with length zero)."
      ],
      "text/plain": [
       "Correct: \n",
       "\n",
       "When you multiple an integer or float by a boolean with value `True`, it just returns that same integer or float (and is equivalent to multiplying by 1).  If you multiply an integer or float by a boolean with value `False`, it always returns 0.  This is true for both positive and negative numbers.  If you multiply a string by a boolean with value `True`, it just returns that same string.  And if you multiply a string by a boolean with value `False`, it returns an empty string (or a string with length zero)."
      ]
     },
     "metadata": {},
     "output_type": "display_data"
    }
   ],
   "source": [
    "# Check your answer (Run this code cell to receive credit!)\n",
    "q2.check()"
   ]
  },
  {
   "cell_type": "markdown",
   "id": "afb54806",
   "metadata": {
    "papermill": {
     "duration": 0.004548,
     "end_time": "2025-02-25T21:06:24.792096",
     "exception": false,
     "start_time": "2025-02-25T21:06:24.787548",
     "status": "completed"
    },
    "tags": []
   },
   "source": [
    "# Question 3\n",
    "\n",
    "In this question, you will build off your work from the previous exercise to write a function that estimates the value of a house.\n",
    "\n",
    "Use the next code cell to create a function `get_expected_cost` that takes as input three variables:\n",
    "- `beds` - number of bedrooms (data type float)\n",
    "- `baths` - number of bathrooms (data type float)\n",
    "- `has_basement` - whether or not the house has a basement (data type boolean)\n",
    "\n",
    "It should return the expected cost of a house with those characteristics. Assume that:\n",
    "- the expected cost for a house with 0 bedrooms and 0 bathrooms, and no basement is 80000, \n",
    "- each bedroom adds 30000 to the expected cost,\n",
    "- each bathroom adds 10000 to the expected cost, and\n",
    "- a basement adds 40000 to the expected cost.\n",
    "\n",
    "For instance,\n",
    "- a house with 1 bedroom, 1 bathroom, and no basement has an expected cost of 80000 + 30000 + 10000 = 120000.  This value will be calculated with `get_expected_cost(1, 1, False)`.\n",
    "- a house with 2 bedrooms, 1 bathroom, and a basement has an expected cost of 80000 + 2*30000 + 10000 + 40000 = 190000.  This value will be calculated with `get_expected_cost(2, 1, True)`.\n",
    "\n",
    "Remember you can always get a hint by uncommenting `q3.hint()` in the code cell following the next!"
   ]
  },
  {
   "cell_type": "code",
   "execution_count": 9,
   "id": "0336ab2a",
   "metadata": {
    "execution": {
     "iopub.execute_input": "2025-02-25T21:06:24.802556Z",
     "iopub.status.busy": "2025-02-25T21:06:24.802247Z",
     "iopub.status.idle": "2025-02-25T21:06:24.809337Z",
     "shell.execute_reply": "2025-02-25T21:06:24.808216Z"
    },
    "papermill": {
     "duration": 0.013945,
     "end_time": "2025-02-25T21:06:24.810629",
     "exception": false,
     "start_time": "2025-02-25T21:06:24.796684",
     "status": "completed"
    },
    "tags": []
   },
   "outputs": [
    {
     "data": {
      "application/javascript": [
       "parent.postMessage({\"jupyterEvent\": \"custom.exercise_interaction\", \"data\": {\"outcomeType\": 1, \"valueTowardsCompletion\": 0.2, \"interactionType\": 1, \"questionType\": 2, \"questionId\": \"3_EstimateHouseValueBool\", \"learnToolsVersion\": \"0.3.4\", \"failureMessage\": \"\", \"exceptionClass\": \"\", \"trace\": \"\"}}, \"*\")"
      ],
      "text/plain": [
       "<IPython.core.display.Javascript object>"
      ]
     },
     "metadata": {},
     "output_type": "display_data"
    },
    {
     "data": {
      "text/markdown": [
       "<span style=\"color:#33cc33\">Correct</span>"
      ],
      "text/plain": [
       "Correct"
      ]
     },
     "metadata": {},
     "output_type": "display_data"
    }
   ],
   "source": [
    "# TODO: Complete the function\n",
    "def get_expected_cost(beds, baths, has_basement):\n",
    "    value = value = 80000 + 30000 * beds + 10000*baths + 40000*has_basement\n",
    "    return value\n",
    "\n",
    "# Check your answer \n",
    "q3.check()"
   ]
  },
  {
   "cell_type": "code",
   "execution_count": 10,
   "id": "f1061e07",
   "metadata": {
    "execution": {
     "iopub.execute_input": "2025-02-25T21:06:24.821523Z",
     "iopub.status.busy": "2025-02-25T21:06:24.821222Z",
     "iopub.status.idle": "2025-02-25T21:06:24.825183Z",
     "shell.execute_reply": "2025-02-25T21:06:24.823806Z"
    },
    "papermill": {
     "duration": 0.011303,
     "end_time": "2025-02-25T21:06:24.827094",
     "exception": false,
     "start_time": "2025-02-25T21:06:24.815791",
     "status": "completed"
    },
    "tags": []
   },
   "outputs": [],
   "source": [
    "# Uncomment to see a hint\n",
    "#q3.hint()\n",
    "\n",
    "# Uncomment to view the solution\n",
    "#q3.solution()"
   ]
  },
  {
   "cell_type": "markdown",
   "id": "9d6fc2f4",
   "metadata": {
    "papermill": {
     "duration": 0.004419,
     "end_time": "2025-02-25T21:06:24.836722",
     "exception": false,
     "start_time": "2025-02-25T21:06:24.832303",
     "status": "completed"
    },
    "tags": []
   },
   "source": [
    "# Question 4\n",
    "\n",
    "We'll continue our study of boolean arithmetic.  For this question, your task is to provide a description of what happpens when you add booleans. \n",
    "\n",
    "Use the next code cell for your investigation.  Feel free to add or remove any lines of code - use it as your workspace!"
   ]
  },
  {
   "cell_type": "code",
   "execution_count": 11,
   "id": "c694720d",
   "metadata": {
    "execution": {
     "iopub.execute_input": "2025-02-25T21:06:24.846996Z",
     "iopub.status.busy": "2025-02-25T21:06:24.846631Z",
     "iopub.status.idle": "2025-02-25T21:06:24.852033Z",
     "shell.execute_reply": "2025-02-25T21:06:24.851194Z"
    },
    "papermill": {
     "duration": 0.012091,
     "end_time": "2025-02-25T21:06:24.853358",
     "exception": false,
     "start_time": "2025-02-25T21:06:24.841267",
     "status": "completed"
    },
    "tags": []
   },
   "outputs": [
    {
     "name": "stdout",
     "output_type": "stream",
     "text": [
      "0\n",
      "1\n",
      "1\n",
      "2\n",
      "3\n"
     ]
    }
   ],
   "source": [
    "print(False + False)\n",
    "print(True + False)\n",
    "print(False + True)\n",
    "print(True + True)\n",
    "print(False + True + True + True)"
   ]
  },
  {
   "cell_type": "code",
   "execution_count": 12,
   "id": "76f11d05",
   "metadata": {
    "execution": {
     "iopub.execute_input": "2025-02-25T21:06:24.865107Z",
     "iopub.status.busy": "2025-02-25T21:06:24.864710Z",
     "iopub.status.idle": "2025-02-25T21:06:24.868149Z",
     "shell.execute_reply": "2025-02-25T21:06:24.867242Z"
    },
    "papermill": {
     "duration": 0.010748,
     "end_time": "2025-02-25T21:06:24.869618",
     "exception": false,
     "start_time": "2025-02-25T21:06:24.858870",
     "status": "completed"
    },
    "tags": []
   },
   "outputs": [],
   "source": [
    "# False has a value of 1, True has a value of 0."
   ]
  },
  {
   "cell_type": "markdown",
   "id": "d1d790ba",
   "metadata": {
    "papermill": {
     "duration": 0.004538,
     "end_time": "2025-02-25T21:06:24.879179",
     "exception": false,
     "start_time": "2025-02-25T21:06:24.874641",
     "status": "completed"
    },
    "tags": []
   },
   "source": [
    "Once you have an answer, run the code cell below to see the solution.  Viewing the solution will give you credit for answering the problem."
   ]
  },
  {
   "cell_type": "code",
   "execution_count": 13,
   "id": "2b573ede",
   "metadata": {
    "execution": {
     "iopub.execute_input": "2025-02-25T21:06:24.890594Z",
     "iopub.status.busy": "2025-02-25T21:06:24.890335Z",
     "iopub.status.idle": "2025-02-25T21:06:24.897202Z",
     "shell.execute_reply": "2025-02-25T21:06:24.896071Z"
    },
    "papermill": {
     "duration": 0.014085,
     "end_time": "2025-02-25T21:06:24.898647",
     "exception": false,
     "start_time": "2025-02-25T21:06:24.884562",
     "status": "completed"
    },
    "tags": []
   },
   "outputs": [
    {
     "data": {
      "application/javascript": [
       "parent.postMessage({\"jupyterEvent\": \"custom.exercise_interaction\", \"data\": {\"outcomeType\": 1, \"valueTowardsCompletion\": 0.2, \"interactionType\": 1, \"questionType\": 4, \"questionId\": \"4_AddingBooleans\", \"learnToolsVersion\": \"0.3.4\", \"failureMessage\": \"\", \"exceptionClass\": \"\", \"trace\": \"\"}}, \"*\")"
      ],
      "text/plain": [
       "<IPython.core.display.Javascript object>"
      ]
     },
     "metadata": {},
     "output_type": "display_data"
    },
    {
     "data": {
      "text/markdown": [
       "<span style=\"color:#33cc33\">Correct:</span> \n",
       "\n",
       "When you add booleans, adding `False` is equivalent to adding 0, and adding `True` is equivalent to adding 1."
      ],
      "text/plain": [
       "Correct: \n",
       "\n",
       "When you add booleans, adding `False` is equivalent to adding 0, and adding `True` is equivalent to adding 1."
      ]
     },
     "metadata": {},
     "output_type": "display_data"
    }
   ],
   "source": [
    "# Check your answer (Run this code cell to receive credit!)\n",
    "q4.check()"
   ]
  },
  {
   "cell_type": "markdown",
   "id": "8463ab9b",
   "metadata": {
    "papermill": {
     "duration": 0.004767,
     "end_time": "2025-02-25T21:06:24.909142",
     "exception": false,
     "start_time": "2025-02-25T21:06:24.904375",
     "status": "completed"
    },
    "tags": []
   },
   "source": [
    "# 🌶️ Question 5\n",
    "\n",
    "You own an online shop where you sell rings with custom engravings.  You offer both gold plated and solid gold rings.\n",
    "- Gold plated rings have a base cost of \\\\$50, and you charge \\\\$7 per engraved unit.  \n",
    "- Solid gold rings have a base cost of \\\\$100, and you charge \\\\$10 per engraved unit.\n",
    "- Spaces and punctuation are counted as engraved units.\n",
    "\n",
    "Write a function `cost_of_project()` that takes two arguments:\n",
    "- `engraving` - a Python string with the text of the engraving\n",
    "- `solid_gold` - a Boolean that indicates whether the ring is solid gold\n",
    "\n",
    "It should return the cost of the project.  This question should be fairly challenging, and you may need a hint."
   ]
  },
  {
   "cell_type": "code",
   "execution_count": 14,
   "id": "0ed8b84f",
   "metadata": {
    "execution": {
     "iopub.execute_input": "2025-02-25T21:06:24.921625Z",
     "iopub.status.busy": "2025-02-25T21:06:24.921337Z",
     "iopub.status.idle": "2025-02-25T21:06:24.928840Z",
     "shell.execute_reply": "2025-02-25T21:06:24.928051Z"
    },
    "papermill": {
     "duration": 0.016161,
     "end_time": "2025-02-25T21:06:24.930463",
     "exception": false,
     "start_time": "2025-02-25T21:06:24.914302",
     "status": "completed"
    },
    "tags": []
   },
   "outputs": [
    {
     "data": {
      "application/javascript": [
       "parent.postMessage({\"jupyterEvent\": \"custom.exercise_interaction\", \"data\": {\"outcomeType\": 1, \"valueTowardsCompletion\": 0.2, \"interactionType\": 1, \"questionType\": 2, \"questionId\": \"5_CustomEngravings\", \"learnToolsVersion\": \"0.3.4\", \"failureMessage\": \"\", \"exceptionClass\": \"\", \"trace\": \"\"}}, \"*\")"
      ],
      "text/plain": [
       "<IPython.core.display.Javascript object>"
      ]
     },
     "metadata": {},
     "output_type": "display_data"
    },
    {
     "data": {
      "text/markdown": [
       "<span style=\"color:#33cc33\">Correct</span>"
      ],
      "text/plain": [
       "Correct"
      ]
     },
     "metadata": {},
     "output_type": "display_data"
    }
   ],
   "source": [
    "def cost_of_project(engraving, solid_gold):\n",
    "    cost = solid_gold * (100 + 10*len(engraving)) + (not solid_gold) * (50 + 7 *len(engraving))\n",
    "    return cost\n",
    "\n",
    "# Check your answer\n",
    "q5.check()"
   ]
  },
  {
   "cell_type": "code",
   "execution_count": 15,
   "id": "d6a3f656",
   "metadata": {
    "execution": {
     "iopub.execute_input": "2025-02-25T21:06:24.942314Z",
     "iopub.status.busy": "2025-02-25T21:06:24.941982Z",
     "iopub.status.idle": "2025-02-25T21:06:24.946036Z",
     "shell.execute_reply": "2025-02-25T21:06:24.944852Z"
    },
    "papermill": {
     "duration": 0.011953,
     "end_time": "2025-02-25T21:06:24.947791",
     "exception": false,
     "start_time": "2025-02-25T21:06:24.935838",
     "status": "completed"
    },
    "tags": []
   },
   "outputs": [],
   "source": [
    "# Uncomment to see a hint\n",
    "#q5.hint()\n",
    "\n",
    "# Uncomment to view the solution\n",
    "#q5.solution()"
   ]
  },
  {
   "cell_type": "markdown",
   "id": "96c4e308",
   "metadata": {
    "papermill": {
     "duration": 0.005042,
     "end_time": "2025-02-25T21:06:24.958689",
     "exception": false,
     "start_time": "2025-02-25T21:06:24.953647",
     "status": "completed"
    },
    "tags": []
   },
   "source": [
    "Run the next code cell to calculate the cost of engraving `Charlie+Denver` on a solid gold ring."
   ]
  },
  {
   "cell_type": "code",
   "execution_count": 16,
   "id": "7ec5a8f3",
   "metadata": {
    "execution": {
     "iopub.execute_input": "2025-02-25T21:06:24.970820Z",
     "iopub.status.busy": "2025-02-25T21:06:24.970541Z",
     "iopub.status.idle": "2025-02-25T21:06:24.975182Z",
     "shell.execute_reply": "2025-02-25T21:06:24.974028Z"
    },
    "papermill": {
     "duration": 0.012754,
     "end_time": "2025-02-25T21:06:24.976829",
     "exception": false,
     "start_time": "2025-02-25T21:06:24.964075",
     "status": "completed"
    },
    "tags": []
   },
   "outputs": [
    {
     "name": "stdout",
     "output_type": "stream",
     "text": [
      "240\n"
     ]
    }
   ],
   "source": [
    "project_one = cost_of_project(\"Charlie+Denver\", True)\n",
    "print(project_one)"
   ]
  },
  {
   "cell_type": "markdown",
   "id": "cf867893",
   "metadata": {
    "papermill": {
     "duration": 0.005336,
     "end_time": "2025-02-25T21:06:24.988502",
     "exception": false,
     "start_time": "2025-02-25T21:06:24.983166",
     "status": "completed"
    },
    "tags": []
   },
   "source": [
    "Use the next code cell to calculate the cost of engraving `08/10/2000` on a gold plated ring."
   ]
  },
  {
   "cell_type": "code",
   "execution_count": 17,
   "id": "1c157b9c",
   "metadata": {
    "execution": {
     "iopub.execute_input": "2025-02-25T21:06:24.999910Z",
     "iopub.status.busy": "2025-02-25T21:06:24.999651Z",
     "iopub.status.idle": "2025-02-25T21:06:25.003909Z",
     "shell.execute_reply": "2025-02-25T21:06:25.002989Z"
    },
    "papermill": {
     "duration": 0.011844,
     "end_time": "2025-02-25T21:06:25.005560",
     "exception": false,
     "start_time": "2025-02-25T21:06:24.993716",
     "status": "completed"
    },
    "tags": []
   },
   "outputs": [
    {
     "name": "stdout",
     "output_type": "stream",
     "text": [
      "120\n"
     ]
    }
   ],
   "source": [
    "project_two = cost_of_project(\"08/10/2000\", False)\n",
    "print(project_two)"
   ]
  },
  {
   "cell_type": "markdown",
   "id": "7e0806ec",
   "metadata": {
    "papermill": {
     "duration": 0.005087,
     "end_time": "2025-02-25T21:06:25.016409",
     "exception": false,
     "start_time": "2025-02-25T21:06:25.011322",
     "status": "completed"
    },
    "tags": []
   },
   "source": [
    "# Keep going\n",
    "\n",
    "Continue to the next lesson to **[learn about conditions and conditional statements](https://www.kaggle.com/alexisbcook/conditions-and-conditional-statements)**."
   ]
  },
  {
   "cell_type": "markdown",
   "id": "e41c25df",
   "metadata": {
    "papermill": {
     "duration": 0.004806,
     "end_time": "2025-02-25T21:06:25.026330",
     "exception": false,
     "start_time": "2025-02-25T21:06:25.021524",
     "status": "completed"
    },
    "tags": []
   },
   "source": [
    "---\n",
    "\n",
    "\n",
    "\n",
    "\n",
    "*Have questions or comments? Visit the [course discussion forum](https://www.kaggle.com/learn/intro-to-programming/discussion) to chat with other learners.*"
   ]
  }
 ],
 "metadata": {
  "kaggle": {
   "accelerator": "none",
   "dataSources": [],
   "isGpuEnabled": false,
   "isInternetEnabled": false,
   "language": "python",
   "sourceType": "notebook"
  },
  "kernelspec": {
   "display_name": "Python 3",
   "language": "python",
   "name": "python3"
  },
  "language_info": {
   "codemirror_mode": {
    "name": "ipython",
    "version": 3
   },
   "file_extension": ".py",
   "mimetype": "text/x-python",
   "name": "python",
   "nbconvert_exporter": "python",
   "pygments_lexer": "ipython3",
   "version": "3.10.12"
  },
  "papermill": {
   "default_parameters": {},
   "duration": 4.483802,
   "end_time": "2025-02-25T21:06:25.550567",
   "environment_variables": {},
   "exception": null,
   "input_path": "__notebook__.ipynb",
   "output_path": "__notebook__.ipynb",
   "parameters": {},
   "start_time": "2025-02-25T21:06:21.066765",
   "version": "2.3.3"
  }
 },
 "nbformat": 4,
 "nbformat_minor": 5
}
