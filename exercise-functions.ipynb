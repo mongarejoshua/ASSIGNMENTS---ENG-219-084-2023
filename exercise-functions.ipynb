{
 "cells": [
  {
   "cell_type": "markdown",
   "id": "547d98fa",
   "metadata": {
    "papermill": {
     "duration": 0.005702,
     "end_time": "2025-02-19T23:05:38.461423",
     "exception": false,
     "start_time": "2025-02-19T23:05:38.455721",
     "status": "completed"
    },
    "tags": []
   },
   "source": [
    "**This notebook is an exercise in the [Intro to Programming](https://www.kaggle.com/learn/intro-to-programming) course.  You can reference the tutorial at [this link](https://www.kaggle.com/alexisbcook/functions).**\n",
    "\n",
    "---\n"
   ]
  },
  {
   "cell_type": "markdown",
   "id": "5647e9e2",
   "metadata": {
    "papermill": {
     "duration": 0.005209,
     "end_time": "2025-02-19T23:05:38.471809",
     "exception": false,
     "start_time": "2025-02-19T23:05:38.466600",
     "status": "completed"
    },
    "tags": []
   },
   "source": [
    "In the tutorial, you learned about functions. In this exercise, you'll write some of your own!\n",
    "\n",
    "# Set up the notebook\n",
    "\n",
    "Run the next code cell without changes to set up the notebook."
   ]
  },
  {
   "cell_type": "code",
   "execution_count": 1,
   "id": "a438168a",
   "metadata": {
    "execution": {
     "iopub.execute_input": "2025-02-19T23:05:38.483897Z",
     "iopub.status.busy": "2025-02-19T23:05:38.483523Z",
     "iopub.status.idle": "2025-02-19T23:05:39.721973Z",
     "shell.execute_reply": "2025-02-19T23:05:39.720636Z"
    },
    "papermill": {
     "duration": 1.246503,
     "end_time": "2025-02-19T23:05:39.723859",
     "exception": false,
     "start_time": "2025-02-19T23:05:38.477356",
     "status": "completed"
    },
    "tags": []
   },
   "outputs": [
    {
     "name": "stdout",
     "output_type": "stream",
     "text": [
      "Setup complete.\n"
     ]
    }
   ],
   "source": [
    "# Set up the exercise\n",
    "import math\n",
    "from learntools.core import binder\n",
    "binder.bind(globals())\n",
    "from learntools.intro_to_programming.ex2 import *\n",
    "print('Setup complete.')"
   ]
  },
  {
   "cell_type": "markdown",
   "id": "3746ace2",
   "metadata": {
    "papermill": {
     "duration": 0.005617,
     "end_time": "2025-02-19T23:05:39.735463",
     "exception": false,
     "start_time": "2025-02-19T23:05:39.729846",
     "status": "completed"
    },
    "tags": []
   },
   "source": [
    "# Question 1\n",
    "\n",
    "In the [House Prices - Advanced Regression Techniques competition](https://www.kaggle.com/c/house-prices-advanced-regression-techniques/overview), you need to use information like the number of bedrooms and bathrooms to predict the price of a house.  Inspired by this competition, you'll write your own function to do this.\n",
    "\n",
    "In the next code cell, create a function `get_expected_cost()` that has two arguments:\n",
    "- `beds` - number of bedrooms \n",
    "- `baths` - number of bathrooms\n",
    "\n",
    "It should return the expected cost of a house with that number of bedrooms and bathrooms.  Assume that:\n",
    "- the expected cost for a house with 0 bedrooms and 0 bathrooms is `80000`.  \n",
    "- each bedroom adds `30000` to the expected cost\n",
    "- each bathroom adds `10000` to the expected cost.\n",
    "\n",
    "For instance, \n",
    "- a house with 1 bedroom and 1 bathroom has an expected cost of `120000`, and \n",
    "- a house with 2 bedrooms and 1 bathroom has an expected cost of `150000`."
   ]
  },
  {
   "cell_type": "code",
   "execution_count": 2,
   "id": "ee862893",
   "metadata": {
    "execution": {
     "iopub.execute_input": "2025-02-19T23:05:39.750858Z",
     "iopub.status.busy": "2025-02-19T23:05:39.750103Z",
     "iopub.status.idle": "2025-02-19T23:05:39.762109Z",
     "shell.execute_reply": "2025-02-19T23:05:39.760771Z"
    },
    "papermill": {
     "duration": 0.021932,
     "end_time": "2025-02-19T23:05:39.764150",
     "exception": false,
     "start_time": "2025-02-19T23:05:39.742218",
     "status": "completed"
    },
    "tags": []
   },
   "outputs": [
    {
     "data": {
      "application/javascript": [
       "parent.postMessage({\"jupyterEvent\": \"custom.exercise_interaction\", \"data\": {\"outcomeType\": 1, \"valueTowardsCompletion\": 0.2, \"interactionType\": 1, \"questionType\": 2, \"questionId\": \"1_GetExpectedCost\", \"learnToolsVersion\": \"0.3.4\", \"failureMessage\": \"\", \"exceptionClass\": \"\", \"trace\": \"\"}}, \"*\")"
      ],
      "text/plain": [
       "<IPython.core.display.Javascript object>"
      ]
     },
     "metadata": {},
     "output_type": "display_data"
    },
    {
     "data": {
      "text/markdown": [
       "<span style=\"color:#33cc33\">Correct</span>"
      ],
      "text/plain": [
       "Correct"
      ]
     },
     "metadata": {},
     "output_type": "display_data"
    }
   ],
   "source": [
    "# TODO: Complete the function\n",
    "def get_expected_cost(beds, baths):\n",
    "    value = 80000 + (30000 * beds) + (10000 * baths)\n",
    "    return value\n",
    "\n",
    "# Check your answer \n",
    "q1.check()"
   ]
  },
  {
   "cell_type": "code",
   "execution_count": 3,
   "id": "ee31dc81",
   "metadata": {
    "execution": {
     "iopub.execute_input": "2025-02-19T23:05:39.777366Z",
     "iopub.status.busy": "2025-02-19T23:05:39.777018Z",
     "iopub.status.idle": "2025-02-19T23:05:39.781560Z",
     "shell.execute_reply": "2025-02-19T23:05:39.780146Z"
    },
    "papermill": {
     "duration": 0.013414,
     "end_time": "2025-02-19T23:05:39.783607",
     "exception": false,
     "start_time": "2025-02-19T23:05:39.770193",
     "status": "completed"
    },
    "tags": []
   },
   "outputs": [],
   "source": [
    "# Uncomment to see a hint\n",
    "#q1.hint()\n",
    "\n",
    "# Uncomment to view the solution\n",
    "#q1.solution()"
   ]
  },
  {
   "cell_type": "markdown",
   "id": "24808a05",
   "metadata": {
    "papermill": {
     "duration": 0.005016,
     "end_time": "2025-02-19T23:05:39.794577",
     "exception": false,
     "start_time": "2025-02-19T23:05:39.789561",
     "status": "completed"
    },
    "tags": []
   },
   "source": [
    "# Question 2\n",
    "\n",
    "You are thinking about buying a home and want to get an idea of how much you will spend, based on the number of bedrooms and bathrooms.  You are trying to decide between four different options:\n",
    "- Option 1: house with two bedrooms and three bathrooms\n",
    "- Option 2: house with three bedrooms and two bathrooms\n",
    "- Option 3: house with three bedrooms and three bathrooms\n",
    "- Option 4: house with three bedrooms and four bathrooms\n",
    "\n",
    "Use the `get_expected_cost()` function you defined in question 1 to set `option_1`, `option_2`, `option_3`, and `option_4` to the expected cost of each option."
   ]
  },
  {
   "cell_type": "code",
   "execution_count": 4,
   "id": "2f86cd0f",
   "metadata": {
    "execution": {
     "iopub.execute_input": "2025-02-19T23:05:39.807378Z",
     "iopub.status.busy": "2025-02-19T23:05:39.807032Z",
     "iopub.status.idle": "2025-02-19T23:05:39.818038Z",
     "shell.execute_reply": "2025-02-19T23:05:39.816833Z"
    },
    "papermill": {
     "duration": 0.019623,
     "end_time": "2025-02-19T23:05:39.819762",
     "exception": false,
     "start_time": "2025-02-19T23:05:39.800139",
     "status": "completed"
    },
    "tags": []
   },
   "outputs": [
    {
     "name": "stdout",
     "output_type": "stream",
     "text": [
      "170000\n",
      "190000\n",
      "200000\n",
      "210000\n"
     ]
    },
    {
     "data": {
      "application/javascript": [
       "parent.postMessage({\"jupyterEvent\": \"custom.exercise_interaction\", \"data\": {\"outcomeType\": 1, \"valueTowardsCompletion\": 0.2, \"interactionType\": 1, \"questionType\": 1, \"questionId\": \"2_RunGetExpectedCost\", \"learnToolsVersion\": \"0.3.4\", \"failureMessage\": \"\", \"exceptionClass\": \"\", \"trace\": \"\"}}, \"*\")"
      ],
      "text/plain": [
       "<IPython.core.display.Javascript object>"
      ]
     },
     "metadata": {},
     "output_type": "display_data"
    },
    {
     "data": {
      "text/markdown": [
       "<span style=\"color:#33cc33\">Correct</span>"
      ],
      "text/plain": [
       "Correct"
      ]
     },
     "metadata": {},
     "output_type": "display_data"
    }
   ],
   "source": [
    "# TODO: Use the get_expected_cost function to fill in each value\n",
    "option_one = get_expected_cost(2, 3)\n",
    "option_two = get_expected_cost(3, 2)\n",
    "option_three = get_expected_cost(3, 3)\n",
    "option_four = get_expected_cost(3, 4)\n",
    "\n",
    "print(option_one)\n",
    "print(option_two)\n",
    "print(option_three)\n",
    "print(option_four)\n",
    "\n",
    "# Check your answer\n",
    "q2.check()"
   ]
  },
  {
   "cell_type": "code",
   "execution_count": 5,
   "id": "3304eac5",
   "metadata": {
    "execution": {
     "iopub.execute_input": "2025-02-19T23:05:39.832247Z",
     "iopub.status.busy": "2025-02-19T23:05:39.831892Z",
     "iopub.status.idle": "2025-02-19T23:05:39.836021Z",
     "shell.execute_reply": "2025-02-19T23:05:39.834803Z"
    },
    "papermill": {
     "duration": 0.012458,
     "end_time": "2025-02-19T23:05:39.837898",
     "exception": false,
     "start_time": "2025-02-19T23:05:39.825440",
     "status": "completed"
    },
    "tags": []
   },
   "outputs": [],
   "source": [
    "# Uncomment to see a hint\n",
    "#q2.hint()\n",
    "\n",
    "# Uncomment to view the solution\n",
    "#q2.solution()"
   ]
  },
  {
   "cell_type": "markdown",
   "id": "4d192d5b",
   "metadata": {
    "papermill": {
     "duration": 0.005655,
     "end_time": "2025-02-19T23:05:39.849498",
     "exception": false,
     "start_time": "2025-02-19T23:05:39.843843",
     "status": "completed"
    },
    "tags": []
   },
   "source": [
    "# Question 3\n",
    "\n",
    "You're a home decorator, and you'd like to use Python to streamline some of your work.  Specifically, you're creating a tool that you intend to use to calculate the cost of painting a room.\n",
    "\n",
    "As a first step, define a function `get_cost()` that takes as input:\n",
    "- `sqft_walls` = total square feet of walls to be painted\n",
    "- `sqft_ceiling` = square feet of ceiling to be painted\n",
    "- `sqft_per_gallon` = number of square feet that you can cover with one gallon of paint\n",
    "- `cost_per_gallon` = cost (in dollars) of one gallon of paint\n",
    "\n",
    "It should return the cost (in dollars) of putting one coat of paint on all walls and the ceiling.  Assume you can buy the exact amount of paint that you need, so you can buy partial gallons (e.g., if you need 7.523 gallons, you can buy that exact amount, instead of needing to buy 8 gallons and waste some paint).  Do not round your answer."
   ]
  },
  {
   "cell_type": "code",
   "execution_count": 6,
   "id": "b849501a",
   "metadata": {
    "execution": {
     "iopub.execute_input": "2025-02-19T23:05:39.861884Z",
     "iopub.status.busy": "2025-02-19T23:05:39.861433Z",
     "iopub.status.idle": "2025-02-19T23:05:39.869912Z",
     "shell.execute_reply": "2025-02-19T23:05:39.868841Z"
    },
    "papermill": {
     "duration": 0.01652,
     "end_time": "2025-02-19T23:05:39.871521",
     "exception": false,
     "start_time": "2025-02-19T23:05:39.855001",
     "status": "completed"
    },
    "tags": []
   },
   "outputs": [
    {
     "data": {
      "application/javascript": [
       "parent.postMessage({\"jupyterEvent\": \"custom.exercise_interaction\", \"data\": {\"outcomeType\": 1, \"valueTowardsCompletion\": 0.2, \"interactionType\": 1, \"questionType\": 2, \"questionId\": \"3_GetCostPaint\", \"learnToolsVersion\": \"0.3.4\", \"failureMessage\": \"\", \"exceptionClass\": \"\", \"trace\": \"\"}}, \"*\")"
      ],
      "text/plain": [
       "<IPython.core.display.Javascript object>"
      ]
     },
     "metadata": {},
     "output_type": "display_data"
    },
    {
     "data": {
      "text/markdown": [
       "<span style=\"color:#33cc33\">Correct</span>"
      ],
      "text/plain": [
       "Correct"
      ]
     },
     "metadata": {},
     "output_type": "display_data"
    }
   ],
   "source": [
    "# TODO: Finish defining the function\n",
    "def get_cost(sqft_walls, sqft_ceiling, sqft_per_gallon, cost_per_gallon):\n",
    "    total_sqft = sqft_walls + sqft_ceiling\n",
    "    gallons_needed = total_sqft / sqft_per_gallon\n",
    "    cost = cost_per_gallon * gallons_needed\n",
    "    return cost\n",
    "\n",
    "# Check your answer\n",
    "q3.check()"
   ]
  },
  {
   "cell_type": "code",
   "execution_count": 7,
   "id": "9f4e9943",
   "metadata": {
    "execution": {
     "iopub.execute_input": "2025-02-19T23:05:39.884733Z",
     "iopub.status.busy": "2025-02-19T23:05:39.884307Z",
     "iopub.status.idle": "2025-02-19T23:05:39.888554Z",
     "shell.execute_reply": "2025-02-19T23:05:39.887286Z"
    },
    "papermill": {
     "duration": 0.013011,
     "end_time": "2025-02-19T23:05:39.890615",
     "exception": false,
     "start_time": "2025-02-19T23:05:39.877604",
     "status": "completed"
    },
    "tags": []
   },
   "outputs": [],
   "source": [
    "# Uncomment to see a hint\n",
    "#q3.hint()\n",
    "\n",
    "# Uncomment to view the solution\n",
    "#q3.solution()"
   ]
  },
  {
   "cell_type": "markdown",
   "id": "a581dcd2",
   "metadata": {
    "papermill": {
     "duration": 0.005606,
     "end_time": "2025-02-19T23:05:39.902247",
     "exception": false,
     "start_time": "2025-02-19T23:05:39.896641",
     "status": "completed"
    },
    "tags": []
   },
   "source": [
    "# Question 4\n",
    "\n",
    "Use the `get_cost()` function you defined in Question 3 to calculate the cost of applying one coat of paint to a room with:\n",
    "- 432 square feet of walls, and\n",
    "- 144 square feet of ceiling.\n",
    "\n",
    "Assume that one gallon of paint covers 400 square feet and costs $15.  As in Question 3, assume you can buy partial gallons of paint.  Do not round your answer."
   ]
  },
  {
   "cell_type": "code",
   "execution_count": 8,
   "id": "3f731c7f",
   "metadata": {
    "execution": {
     "iopub.execute_input": "2025-02-19T23:05:39.915124Z",
     "iopub.status.busy": "2025-02-19T23:05:39.914708Z",
     "iopub.status.idle": "2025-02-19T23:05:39.923008Z",
     "shell.execute_reply": "2025-02-19T23:05:39.921814Z"
    },
    "papermill": {
     "duration": 0.0168,
     "end_time": "2025-02-19T23:05:39.924912",
     "exception": false,
     "start_time": "2025-02-19T23:05:39.908112",
     "status": "completed"
    },
    "tags": []
   },
   "outputs": [
    {
     "data": {
      "application/javascript": [
       "parent.postMessage({\"jupyterEvent\": \"custom.exercise_interaction\", \"data\": {\"outcomeType\": 1, \"valueTowardsCompletion\": 0.2, \"interactionType\": 1, \"questionType\": 1, \"questionId\": \"4_GetCostPaintExample\", \"learnToolsVersion\": \"0.3.4\", \"failureMessage\": \"\", \"exceptionClass\": \"\", \"trace\": \"\"}}, \"*\")"
      ],
      "text/plain": [
       "<IPython.core.display.Javascript object>"
      ]
     },
     "metadata": {},
     "output_type": "display_data"
    },
    {
     "data": {
      "text/markdown": [
       "<span style=\"color:#33cc33\">Correct</span>"
      ],
      "text/plain": [
       "Correct"
      ]
     },
     "metadata": {},
     "output_type": "display_data"
    }
   ],
   "source": [
    "# TODO: Set the project_cost variable to the cost of the project\n",
    "project_cost = get_cost(432, 144, 400, 15)\n",
    "\n",
    "# Check your answer\n",
    "q4.check()"
   ]
  },
  {
   "cell_type": "code",
   "execution_count": 9,
   "id": "3c28f2d3",
   "metadata": {
    "execution": {
     "iopub.execute_input": "2025-02-19T23:05:39.938324Z",
     "iopub.status.busy": "2025-02-19T23:05:39.937950Z",
     "iopub.status.idle": "2025-02-19T23:05:39.942002Z",
     "shell.execute_reply": "2025-02-19T23:05:39.941007Z"
    },
    "papermill": {
     "duration": 0.012516,
     "end_time": "2025-02-19T23:05:39.943627",
     "exception": false,
     "start_time": "2025-02-19T23:05:39.931111",
     "status": "completed"
    },
    "tags": []
   },
   "outputs": [],
   "source": [
    "# Uncomment to see a hint\n",
    "#q4.hint()\n",
    "\n",
    "# Uncomment to view the solution\n",
    "#q4.solution()"
   ]
  },
  {
   "cell_type": "markdown",
   "id": "9ad8e641",
   "metadata": {
    "papermill": {
     "duration": 0.005624,
     "end_time": "2025-02-19T23:05:39.955552",
     "exception": false,
     "start_time": "2025-02-19T23:05:39.949928",
     "status": "completed"
    },
    "tags": []
   },
   "source": [
    "# 🌶️ Question 5\n",
    "\n",
    "Now say you can no longer buy fractions of a gallon.  (For instance, if you need 4.3 gallons to do a project, then you have to buy 5 gallons of paint.)\n",
    "\n",
    "With this new scenario, you will create a new function `get_actual_cost` that uses the same inputs and calculates the cost of your project.\n",
    "\n",
    "One function that you'll need to use to do this is `math.ceil()`.  We demonstrate usage of this function in the code cell below.  It takes as a number as input and rounds the number up to the nearest integer.  \n",
    "\n",
    "Run the next code cell to test this function for yourself.  Feel free to change the value of `test_value` and make sure `math.ceil()` returns the number you expect."
   ]
  },
  {
   "cell_type": "code",
   "execution_count": 10,
   "id": "0b97e33c",
   "metadata": {
    "execution": {
     "iopub.execute_input": "2025-02-19T23:05:39.968673Z",
     "iopub.status.busy": "2025-02-19T23:05:39.968273Z",
     "iopub.status.idle": "2025-02-19T23:05:39.973694Z",
     "shell.execute_reply": "2025-02-19T23:05:39.972509Z"
    },
    "papermill": {
     "duration": 0.014175,
     "end_time": "2025-02-19T23:05:39.975566",
     "exception": false,
     "start_time": "2025-02-19T23:05:39.961391",
     "status": "completed"
    },
    "tags": []
   },
   "outputs": [
    {
     "name": "stdout",
     "output_type": "stream",
     "text": [
      "3\n"
     ]
    }
   ],
   "source": [
    "test_value = 2.17\n",
    "\n",
    "rounded_value = math.ceil(test_value)\n",
    "print(rounded_value)"
   ]
  },
  {
   "cell_type": "markdown",
   "id": "9417693a",
   "metadata": {
    "papermill": {
     "duration": 0.005623,
     "end_time": "2025-02-19T23:05:39.987591",
     "exception": false,
     "start_time": "2025-02-19T23:05:39.981968",
     "status": "completed"
    },
    "tags": []
   },
   "source": [
    "Use the next code cell to define the function `get_actual_cost()`.  You'll need to use the `math.ceil()` function to do this.\n",
    "\n",
    "When answering this question, note that it's completely valid to define a function that makes use of another function.  For instance, we can define a function `round_up_and_divide_by_three` that makes use of the `math.ceil` function:\n",
    "```\n",
    "def round_up_and_divide_by_three(num):\n",
    "    new_value = math.ceil(num)\n",
    "    final_value = new_value / 3\n",
    "    return final_value\n",
    "```"
   ]
  },
  {
   "cell_type": "code",
   "execution_count": 11,
   "id": "9914ce2d",
   "metadata": {
    "execution": {
     "iopub.execute_input": "2025-02-19T23:05:40.001596Z",
     "iopub.status.busy": "2025-02-19T23:05:40.001176Z",
     "iopub.status.idle": "2025-02-19T23:05:40.009889Z",
     "shell.execute_reply": "2025-02-19T23:05:40.008662Z"
    },
    "papermill": {
     "duration": 0.017639,
     "end_time": "2025-02-19T23:05:40.011872",
     "exception": false,
     "start_time": "2025-02-19T23:05:39.994233",
     "status": "completed"
    },
    "tags": []
   },
   "outputs": [
    {
     "data": {
      "application/javascript": [
       "parent.postMessage({\"jupyterEvent\": \"custom.exercise_interaction\", \"data\": {\"outcomeType\": 1, \"valueTowardsCompletion\": 0.2, \"interactionType\": 1, \"questionType\": 2, \"questionId\": \"5_NoMoreFractions\", \"learnToolsVersion\": \"0.3.4\", \"failureMessage\": \"\", \"exceptionClass\": \"\", \"trace\": \"\"}}, \"*\")"
      ],
      "text/plain": [
       "<IPython.core.display.Javascript object>"
      ]
     },
     "metadata": {},
     "output_type": "display_data"
    },
    {
     "data": {
      "text/markdown": [
       "<span style=\"color:#33cc33\">Correct</span>"
      ],
      "text/plain": [
       "Correct"
      ]
     },
     "metadata": {},
     "output_type": "display_data"
    }
   ],
   "source": [
    "def get_actual_cost(sqft_walls, sqft_ceiling, sqft_per_gallon, cost_per_gallon):\n",
    "    total_sqft = sqft_walls + sqft_ceiling\n",
    "    gallons_needed = total_sqft / sqft_per_gallon\n",
    "    gallons_to_buy = math.ceil(gallons_needed)\n",
    "    cost = cost_per_gallon * gallons_to_buy\n",
    "    \n",
    "    return cost\n",
    "\n",
    "# Check your answer\n",
    "q5.check()"
   ]
  },
  {
   "cell_type": "code",
   "execution_count": 12,
   "id": "7c1420e6",
   "metadata": {
    "execution": {
     "iopub.execute_input": "2025-02-19T23:05:40.026827Z",
     "iopub.status.busy": "2025-02-19T23:05:40.026416Z",
     "iopub.status.idle": "2025-02-19T23:05:40.030564Z",
     "shell.execute_reply": "2025-02-19T23:05:40.029441Z"
    },
    "papermill": {
     "duration": 0.013475,
     "end_time": "2025-02-19T23:05:40.032357",
     "exception": false,
     "start_time": "2025-02-19T23:05:40.018882",
     "status": "completed"
    },
    "tags": []
   },
   "outputs": [],
   "source": [
    "# Uncomment to see a hint\n",
    "#q5.hint()\n",
    "\n",
    "# Uncomment to view the solution\n",
    "#q5.solution()"
   ]
  },
  {
   "cell_type": "markdown",
   "id": "c5b540d0",
   "metadata": {
    "papermill": {
     "duration": 0.005907,
     "end_time": "2025-02-19T23:05:40.044792",
     "exception": false,
     "start_time": "2025-02-19T23:05:40.038885",
     "status": "completed"
    },
    "tags": []
   },
   "source": [
    "Once your function is verified as correct, run the next code cell to calculate the updated cost of your project."
   ]
  },
  {
   "cell_type": "code",
   "execution_count": 13,
   "id": "6a04ad7d",
   "metadata": {
    "execution": {
     "iopub.execute_input": "2025-02-19T23:05:40.058233Z",
     "iopub.status.busy": "2025-02-19T23:05:40.057892Z",
     "iopub.status.idle": "2025-02-19T23:05:40.064154Z",
     "shell.execute_reply": "2025-02-19T23:05:40.062974Z"
    },
    "papermill": {
     "duration": 0.015078,
     "end_time": "2025-02-19T23:05:40.066018",
     "exception": false,
     "start_time": "2025-02-19T23:05:40.050940",
     "status": "completed"
    },
    "tags": []
   },
   "outputs": [
    {
     "data": {
      "text/plain": [
       "30"
      ]
     },
     "execution_count": 13,
     "metadata": {},
     "output_type": "execute_result"
    }
   ],
   "source": [
    "get_actual_cost(432, 144, 400, 15) "
   ]
  },
  {
   "cell_type": "markdown",
   "id": "ab97d70f",
   "metadata": {
    "papermill": {
     "duration": 0.005986,
     "end_time": "2025-02-19T23:05:40.078430",
     "exception": false,
     "start_time": "2025-02-19T23:05:40.072444",
     "status": "completed"
    },
    "tags": []
   },
   "source": [
    "Say you're working with a slightly larger room.  Run the next code cell to calculate the cost of the project."
   ]
  },
  {
   "cell_type": "code",
   "execution_count": 14,
   "id": "13a3f43b",
   "metadata": {
    "execution": {
     "iopub.execute_input": "2025-02-19T23:05:40.092362Z",
     "iopub.status.busy": "2025-02-19T23:05:40.092018Z",
     "iopub.status.idle": "2025-02-19T23:05:40.097841Z",
     "shell.execute_reply": "2025-02-19T23:05:40.096731Z"
    },
    "papermill": {
     "duration": 0.014876,
     "end_time": "2025-02-19T23:05:40.099640",
     "exception": false,
     "start_time": "2025-02-19T23:05:40.084764",
     "status": "completed"
    },
    "tags": []
   },
   "outputs": [
    {
     "data": {
      "text/plain": [
       "45"
      ]
     },
     "execution_count": 14,
     "metadata": {},
     "output_type": "execute_result"
    }
   ],
   "source": [
    "get_actual_cost(594, 288, 400, 15) "
   ]
  },
  {
   "cell_type": "markdown",
   "id": "65620fd3",
   "metadata": {
    "papermill": {
     "duration": 0.006205,
     "end_time": "2025-02-19T23:05:40.112339",
     "exception": false,
     "start_time": "2025-02-19T23:05:40.106134",
     "status": "completed"
    },
    "tags": []
   },
   "source": [
    "# Keep going\n",
    "\n",
    "Continue to learn about **[data types](https://www.kaggle.com/alexisbcook/data-types)**."
   ]
  },
  {
   "cell_type": "markdown",
   "id": "b0e25831",
   "metadata": {
    "papermill": {
     "duration": 0.006189,
     "end_time": "2025-02-19T23:05:40.125461",
     "exception": false,
     "start_time": "2025-02-19T23:05:40.119272",
     "status": "completed"
    },
    "tags": []
   },
   "source": [
    "---\n",
    "\n",
    "\n",
    "\n",
    "\n",
    "*Have questions or comments? Visit the [course discussion forum](https://www.kaggle.com/learn/intro-to-programming/discussion) to chat with other learners.*"
   ]
  }
 ],
 "metadata": {
  "kaggle": {
   "accelerator": "none",
   "dataSources": [],
   "isGpuEnabled": false,
   "isInternetEnabled": true,
   "language": "python",
   "sourceType": "notebook"
  },
  "kernelspec": {
   "display_name": "Python 3",
   "language": "python",
   "name": "python3"
  },
  "language_info": {
   "codemirror_mode": {
    "name": "ipython",
    "version": 3
   },
   "file_extension": ".py",
   "mimetype": "text/x-python",
   "name": "python",
   "nbconvert_exporter": "python",
   "pygments_lexer": "ipython3",
   "version": "3.10.12"
  },
  "papermill": {
   "default_parameters": {},
   "duration": 5.404356,
   "end_time": "2025-02-19T23:05:40.752935",
   "environment_variables": {},
   "exception": null,
   "input_path": "__notebook__.ipynb",
   "output_path": "__notebook__.ipynb",
   "parameters": {},
   "start_time": "2025-02-19T23:05:35.348579",
   "version": "2.6.0"
  }
 },
 "nbformat": 4,
 "nbformat_minor": 5
}
