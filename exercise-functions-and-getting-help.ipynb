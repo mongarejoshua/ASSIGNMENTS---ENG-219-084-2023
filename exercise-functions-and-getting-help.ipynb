{
 "cells": [
  {
   "cell_type": "markdown",
   "id": "61b574a6",
   "metadata": {
    "papermill": {
     "duration": 0.005163,
     "end_time": "2025-03-10T12:37:08.469830",
     "exception": false,
     "start_time": "2025-03-10T12:37:08.464667",
     "status": "completed"
    },
    "tags": []
   },
   "source": [
    "**This notebook is an exercise in the [Python](https://www.kaggle.com/learn/python) course.  You can reference the tutorial at [this link](https://www.kaggle.com/colinmorris/functions-and-getting-help).**\n",
    "\n",
    "---\n"
   ]
  },
  {
   "cell_type": "markdown",
   "id": "bb349e0d",
   "metadata": {
    "papermill": {
     "duration": 0.003901,
     "end_time": "2025-03-10T12:37:08.479352",
     "exception": false,
     "start_time": "2025-03-10T12:37:08.475451",
     "status": "completed"
    },
    "tags": []
   },
   "source": [
    "Functions are powerful. Try writing some yourself.\n",
    "\n",
    "As before, don't forget to run the setup code below before jumping into question 1."
   ]
  },
  {
   "cell_type": "code",
   "execution_count": 1,
   "id": "dc15ee3d",
   "metadata": {
    "_kg_hide-input": true,
    "_kg_hide-output": true,
    "execution": {
     "iopub.execute_input": "2025-03-10T12:37:08.489892Z",
     "iopub.status.busy": "2025-03-10T12:37:08.489312Z",
     "iopub.status.idle": "2025-03-10T12:37:09.667630Z",
     "shell.execute_reply": "2025-03-10T12:37:09.666000Z"
    },
    "papermill": {
     "duration": 1.186103,
     "end_time": "2025-03-10T12:37:09.669793",
     "exception": false,
     "start_time": "2025-03-10T12:37:08.483690",
     "status": "completed"
    },
    "tags": []
   },
   "outputs": [
    {
     "name": "stdout",
     "output_type": "stream",
     "text": [
      "Setup complete.\n"
     ]
    }
   ],
   "source": [
    "# SETUP. You don't need to worry for now about what this code does or how it works.\n",
    "from learntools.core import binder; binder.bind(globals())\n",
    "from learntools.python.ex2 import *\n",
    "print('Setup complete.')"
   ]
  },
  {
   "cell_type": "markdown",
   "id": "027b6401",
   "metadata": {
    "papermill": {
     "duration": 0.003909,
     "end_time": "2025-03-10T12:37:09.678002",
     "exception": false,
     "start_time": "2025-03-10T12:37:09.674093",
     "status": "completed"
    },
    "tags": []
   },
   "source": [
    "# 1.\n",
    "\n",
    "Complete the body of the following function according to its docstring.\n",
    "\n",
    "HINT: Python has a built-in function `round`."
   ]
  },
  {
   "cell_type": "code",
   "execution_count": 2,
   "id": "721dc792",
   "metadata": {
    "execution": {
     "iopub.execute_input": "2025-03-10T12:37:09.688018Z",
     "iopub.status.busy": "2025-03-10T12:37:09.687444Z",
     "iopub.status.idle": "2025-03-10T12:37:09.698255Z",
     "shell.execute_reply": "2025-03-10T12:37:09.696950Z"
    },
    "papermill": {
     "duration": 0.018486,
     "end_time": "2025-03-10T12:37:09.700535",
     "exception": false,
     "start_time": "2025-03-10T12:37:09.682049",
     "status": "completed"
    },
    "tags": []
   },
   "outputs": [
    {
     "data": {
      "application/javascript": [
       "parent.postMessage({\"jupyterEvent\": \"custom.exercise_interaction\", \"data\": {\"outcomeType\": 1, \"valueTowardsCompletion\": 0.16666666666666666, \"interactionType\": 1, \"questionType\": 2, \"questionId\": \"1_RoundFunctionProblem\", \"learnToolsVersion\": \"0.3.4\", \"failureMessage\": \"\", \"exceptionClass\": \"\", \"trace\": \"\"}}, \"*\")"
      ],
      "text/plain": [
       "<IPython.core.display.Javascript object>"
      ]
     },
     "metadata": {},
     "output_type": "display_data"
    },
    {
     "data": {
      "text/markdown": [
       "<span style=\"color:#33cc33\">Correct</span>"
      ],
      "text/plain": [
       "Correct"
      ]
     },
     "metadata": {},
     "output_type": "display_data"
    }
   ],
   "source": [
    "def round_to_two_places(num):\n",
    "    \"\"\"Return the given number rounded to two decimal places. \n",
    "    \n",
    "    >>> round_to_two_places(3.14159)\n",
    "    3.14\n",
    "    \"\"\"\n",
    "    # Replace this body with your own code.\n",
    "    # (\"pass\" is a keyword that does literally nothing. We used it as a placeholder\n",
    "    # because after we begin a code block, Python requires at least one line of code)\n",
    "    rounded = round(num, 2)\n",
    "\n",
    "    return rounded\n",
    "\n",
    "# Check your answer\n",
    "q1.check()"
   ]
  },
  {
   "cell_type": "code",
   "execution_count": 3,
   "id": "48c3c1a5",
   "metadata": {
    "execution": {
     "iopub.execute_input": "2025-03-10T12:37:09.711785Z",
     "iopub.status.busy": "2025-03-10T12:37:09.711301Z",
     "iopub.status.idle": "2025-03-10T12:37:09.715916Z",
     "shell.execute_reply": "2025-03-10T12:37:09.714510Z"
    },
    "papermill": {
     "duration": 0.01239,
     "end_time": "2025-03-10T12:37:09.717811",
     "exception": false,
     "start_time": "2025-03-10T12:37:09.705421",
     "status": "completed"
    },
    "tags": []
   },
   "outputs": [],
   "source": [
    "# Uncomment the following for a hint\n",
    "#q1.hint()\n",
    "# Or uncomment the following to peek at the solution\n",
    "#q1.solution()"
   ]
  },
  {
   "cell_type": "markdown",
   "id": "11cb6c8a",
   "metadata": {
    "papermill": {
     "duration": 0.004043,
     "end_time": "2025-03-10T12:37:09.726538",
     "exception": false,
     "start_time": "2025-03-10T12:37:09.722495",
     "status": "completed"
    },
    "tags": []
   },
   "source": [
    "# 2.\n",
    "The help for `round` says that `ndigits` (the second argument) may be negative.\n",
    "What do you think will happen when it is? Try some examples in the following cell."
   ]
  },
  {
   "cell_type": "code",
   "execution_count": 4,
   "id": "66425e78",
   "metadata": {
    "execution": {
     "iopub.execute_input": "2025-03-10T12:37:09.736740Z",
     "iopub.status.busy": "2025-03-10T12:37:09.736253Z",
     "iopub.status.idle": "2025-03-10T12:37:09.743850Z",
     "shell.execute_reply": "2025-03-10T12:37:09.742596Z"
    },
    "papermill": {
     "duration": 0.015068,
     "end_time": "2025-03-10T12:37:09.745829",
     "exception": false,
     "start_time": "2025-03-10T12:37:09.730761",
     "status": "completed"
    },
    "tags": []
   },
   "outputs": [
    {
     "name": "stdout",
     "output_type": "stream",
     "text": [
      "20.0\n",
      "30.0\n",
      "200.0\n",
      "9000.0\n"
     ]
    }
   ],
   "source": [
    "# Put your test code here\n",
    "a = 21.909343 # any random variable\n",
    "test1 = round(a, -1)\n",
    "print(test1)\n",
    "\n",
    "\n",
    "b = 28.49873\n",
    "test2 = round(b, -1)\n",
    "print(test2)\n",
    "\n",
    "\n",
    "c = 234.909343 \n",
    "test3 = round(c, -2)\n",
    "print(test3)\n",
    "\n",
    "\n",
    "d = 8566.909\n",
    "test4 = round(d, -3)\n",
    "print(test4)"
   ]
  },
  {
   "cell_type": "markdown",
   "id": "2c5bd05f",
   "metadata": {
    "papermill": {
     "duration": 0.004283,
     "end_time": "2025-03-10T12:37:09.754474",
     "exception": false,
     "start_time": "2025-03-10T12:37:09.750191",
     "status": "completed"
    },
    "tags": []
   },
   "source": [
    "Can you think of a case where this would be useful?  Once you're ready, run the code cell below to see the answer and to receive credit for completing the problem."
   ]
  },
  {
   "cell_type": "code",
   "execution_count": 5,
   "id": "55905f42",
   "metadata": {
    "execution": {
     "iopub.execute_input": "2025-03-10T12:37:09.765200Z",
     "iopub.status.busy": "2025-03-10T12:37:09.764713Z",
     "iopub.status.idle": "2025-03-10T12:37:09.773865Z",
     "shell.execute_reply": "2025-03-10T12:37:09.772603Z"
    },
    "papermill": {
     "duration": 0.017093,
     "end_time": "2025-03-10T12:37:09.775886",
     "exception": false,
     "start_time": "2025-03-10T12:37:09.758793",
     "status": "completed"
    },
    "tags": []
   },
   "outputs": [
    {
     "data": {
      "application/javascript": [
       "parent.postMessage({\"jupyterEvent\": \"custom.exercise_interaction\", \"data\": {\"interactionType\": 3, \"questionType\": 4, \"questionId\": \"2_RoundNdigitsProblem\", \"learnToolsVersion\": \"0.3.4\", \"valueTowardsCompletion\": 0.0, \"failureMessage\": \"\", \"exceptionClass\": \"\", \"trace\": \"\", \"outcomeType\": 4}}, \"*\")"
      ],
      "text/plain": [
       "<IPython.core.display.Javascript object>"
      ]
     },
     "metadata": {},
     "output_type": "display_data"
    },
    {
     "data": {
      "text/markdown": [
       "<span style=\"color:#33cc99\">Solution:</span> As you've seen, `ndigits=-1` rounds to the nearest 10, `ndigits=-2` rounds to the nearest 100 and so on. Where might this be useful? Suppose we're dealing with large numbers:\n",
       "\n",
       "> The area of Finland is 338,424 km²  \n",
       "> The area of Greenland is 2,166,086 km²\n",
       "\n",
       "We probably don't care whether it's really 338,424, or 338,425, or 338,177. All those digits of accuracy are just distracting. We can chop them off by calling `round()` with `ndigits=-3`:\n",
       "\n",
       "> The area of Finland is 338,000 km²  \n",
       "> The area of Greenland is 2,166,000 km²\n",
       "\n",
       "(We'll talk about how we would get the commas later when we talk about string formatting :))\n"
      ],
      "text/plain": [
       "Solution: As you've seen, `ndigits=-1` rounds to the nearest 10, `ndigits=-2` rounds to the nearest 100 and so on. Where might this be useful? Suppose we're dealing with large numbers:\n",
       "\n",
       "> The area of Finland is 338,424 km²  \n",
       "> The area of Greenland is 2,166,086 km²\n",
       "\n",
       "We probably don't care whether it's really 338,424, or 338,425, or 338,177. All those digits of accuracy are just distracting. We can chop them off by calling `round()` with `ndigits=-3`:\n",
       "\n",
       "> The area of Finland is 338,000 km²  \n",
       "> The area of Greenland is 2,166,000 km²\n",
       "\n",
       "(We'll talk about how we would get the commas later when we talk about string formatting :))"
      ]
     },
     "metadata": {},
     "output_type": "display_data"
    }
   ],
   "source": [
    "# Check your answer (Run this code cell to receive credit!)\n",
    "q2.solution()"
   ]
  },
  {
   "cell_type": "markdown",
   "id": "1c7f7fda",
   "metadata": {
    "papermill": {
     "duration": 0.004914,
     "end_time": "2025-03-10T12:37:09.786455",
     "exception": false,
     "start_time": "2025-03-10T12:37:09.781541",
     "status": "completed"
    },
    "tags": []
   },
   "source": [
    "# 3.\n",
    "\n",
    "In the previous exercise, the candy-sharing friends Alice, Bob and Carol tried to split candies evenly. For the sake of their friendship, any candies left over would be smashed. For example, if they collectively bring home 91 candies, they'll take 30 each and smash 1.\n",
    "\n",
    "Below is a simple function that will calculate the number of candies to smash for *any* number of total candies.\n",
    "\n",
    "Modify it so that it optionally takes a second argument representing the number of friends the candies are being split between. If no second argument is provided, it should assume 3 friends, as before.\n",
    "\n",
    "Update the docstring to reflect this new behaviour."
   ]
  },
  {
   "cell_type": "code",
   "execution_count": 6,
   "id": "45a6ffa7",
   "metadata": {
    "execution": {
     "iopub.execute_input": "2025-03-10T12:37:09.798082Z",
     "iopub.status.busy": "2025-03-10T12:37:09.797699Z",
     "iopub.status.idle": "2025-03-10T12:37:09.806867Z",
     "shell.execute_reply": "2025-03-10T12:37:09.805737Z"
    },
    "papermill": {
     "duration": 0.017411,
     "end_time": "2025-03-10T12:37:09.808996",
     "exception": false,
     "start_time": "2025-03-10T12:37:09.791585",
     "status": "completed"
    },
    "tags": []
   },
   "outputs": [
    {
     "data": {
      "application/javascript": [
       "parent.postMessage({\"jupyterEvent\": \"custom.exercise_interaction\", \"data\": {\"outcomeType\": 1, \"valueTowardsCompletion\": 0.16666666666666666, \"interactionType\": 1, \"questionType\": 2, \"questionId\": \"3_CandySmashingFunctionProblem\", \"learnToolsVersion\": \"0.3.4\", \"failureMessage\": \"\", \"exceptionClass\": \"\", \"trace\": \"\"}}, \"*\")"
      ],
      "text/plain": [
       "<IPython.core.display.Javascript object>"
      ]
     },
     "metadata": {},
     "output_type": "display_data"
    },
    {
     "data": {
      "text/markdown": [
       "<span style=\"color:#33cc33\">Correct</span>"
      ],
      "text/plain": [
       "Correct"
      ]
     },
     "metadata": {},
     "output_type": "display_data"
    }
   ],
   "source": [
    "def to_smash(total_candies, num_of_friends = 3):\n",
    "    \"\"\"Return the number of leftover candies that must be smashed after distributing\n",
    "    the given number of candies evenly between 3 friends.\n",
    "    \n",
    "    >>> to_smash(91)\n",
    "    1\n",
    "    \"\"\"\n",
    "    smashed = total_candies % num_of_friends\n",
    "    \n",
    "    return smashed\n",
    "\n",
    "# Check your answer\n",
    "q3.check()"
   ]
  },
  {
   "cell_type": "code",
   "execution_count": 7,
   "id": "7eee93c2",
   "metadata": {
    "execution": {
     "iopub.execute_input": "2025-03-10T12:37:09.821429Z",
     "iopub.status.busy": "2025-03-10T12:37:09.820977Z",
     "iopub.status.idle": "2025-03-10T12:37:09.825625Z",
     "shell.execute_reply": "2025-03-10T12:37:09.824454Z"
    },
    "papermill": {
     "duration": 0.013141,
     "end_time": "2025-03-10T12:37:09.827577",
     "exception": false,
     "start_time": "2025-03-10T12:37:09.814436",
     "status": "completed"
    },
    "tags": []
   },
   "outputs": [],
   "source": [
    "#q3.hint()"
   ]
  },
  {
   "cell_type": "code",
   "execution_count": 8,
   "id": "db66ada9",
   "metadata": {
    "execution": {
     "iopub.execute_input": "2025-03-10T12:37:09.840224Z",
     "iopub.status.busy": "2025-03-10T12:37:09.839866Z",
     "iopub.status.idle": "2025-03-10T12:37:09.844437Z",
     "shell.execute_reply": "2025-03-10T12:37:09.843162Z"
    },
    "papermill": {
     "duration": 0.013342,
     "end_time": "2025-03-10T12:37:09.846407",
     "exception": false,
     "start_time": "2025-03-10T12:37:09.833065",
     "status": "completed"
    },
    "tags": []
   },
   "outputs": [],
   "source": [
    "#q3.solution()"
   ]
  },
  {
   "cell_type": "markdown",
   "id": "e0adbfb8",
   "metadata": {
    "papermill": {
     "duration": 0.005449,
     "end_time": "2025-03-10T12:37:09.857383",
     "exception": false,
     "start_time": "2025-03-10T12:37:09.851934",
     "status": "completed"
    },
    "tags": []
   },
   "source": [
    "# 4. (Optional)\n",
    "\n",
    "It may not be fun, but reading and understanding error messages will be an important part of your Python career.\n",
    "\n",
    "Each code cell below contains some commented buggy code. For each cell...\n",
    "\n",
    "1. Read the code and predict what you think will happen when it's run.\n",
    "2. Then uncomment the code and run it to see what happens. (**Tip**: In the kernel editor, you can highlight several lines and press `ctrl`+`/` to toggle commenting.)\n",
    "3. Fix the code (so that it accomplishes its intended purpose without throwing an exception)\n",
    "\n",
    "<!-- TODO: should this be autochecked? Delta is probably pretty small. -->"
   ]
  },
  {
   "cell_type": "code",
   "execution_count": 9,
   "id": "b0dd6274",
   "metadata": {
    "execution": {
     "iopub.execute_input": "2025-03-10T12:37:09.871367Z",
     "iopub.status.busy": "2025-03-10T12:37:09.870963Z",
     "iopub.status.idle": "2025-03-10T12:37:09.877107Z",
     "shell.execute_reply": "2025-03-10T12:37:09.875954Z"
    },
    "papermill": {
     "duration": 0.015106,
     "end_time": "2025-03-10T12:37:09.879465",
     "exception": false,
     "start_time": "2025-03-10T12:37:09.864359",
     "status": "completed"
    },
    "tags": []
   },
   "outputs": [
    {
     "data": {
      "text/plain": [
       "10.0"
      ]
     },
     "execution_count": 9,
     "metadata": {},
     "output_type": "execute_result"
    }
   ],
   "source": [
    "# ruound_to_two_places(9.9999)\n",
    "\n",
    "# mistake --> round_to_two_places is not an inbulit python function hence not defined. \n",
    "\n",
    "# correct code\n",
    "round(9.9999, 2)\n"
   ]
  },
  {
   "cell_type": "code",
   "execution_count": 10,
   "id": "608770f2",
   "metadata": {
    "execution": {
     "iopub.execute_input": "2025-03-10T12:37:09.892916Z",
     "iopub.status.busy": "2025-03-10T12:37:09.892559Z",
     "iopub.status.idle": "2025-03-10T12:37:09.898750Z",
     "shell.execute_reply": "2025-03-10T12:37:09.897300Z"
    },
    "papermill": {
     "duration": 0.015234,
     "end_time": "2025-03-10T12:37:09.900873",
     "exception": false,
     "start_time": "2025-03-10T12:37:09.885639",
     "status": "completed"
    },
    "tags": []
   },
   "outputs": [
    {
     "name": "stdout",
     "output_type": "stream",
     "text": [
      "10\n"
     ]
    }
   ],
   "source": [
    "# x = -10\n",
    "# y = 5\n",
    "# # Which of the two variables above has the smallest absolute value?\n",
    "# smallest_abs = min(abs(x, y))\n",
    "\n",
    "# mistake --> abs function took nore than one argument, instead it should take one.\n",
    "\n",
    "# correct code\n",
    "x = -10\n",
    "y = 5\n",
    "\n",
    "smallest_abs = abs(min(x,y))\n",
    "\n",
    "print(smallest_abs)"
   ]
  },
  {
   "cell_type": "code",
   "execution_count": 11,
   "id": "649d20e7",
   "metadata": {
    "execution": {
     "iopub.execute_input": "2025-03-10T12:37:09.913606Z",
     "iopub.status.busy": "2025-03-10T12:37:09.913144Z",
     "iopub.status.idle": "2025-03-10T12:37:09.919179Z",
     "shell.execute_reply": "2025-03-10T12:37:09.917753Z"
    },
    "papermill": {
     "duration": 0.014367,
     "end_time": "2025-03-10T12:37:09.921090",
     "exception": false,
     "start_time": "2025-03-10T12:37:09.906723",
     "status": "completed"
    },
    "tags": []
   },
   "outputs": [
    {
     "name": "stdout",
     "output_type": "stream",
     "text": [
      "983\n"
     ]
    }
   ],
   "source": [
    "# def f(x):\n",
    "#     y = abs(x)\n",
    "# return y\n",
    "\n",
    "# print(f(5))\n",
    "\n",
    "# mistake --> return is placed/idented outside the function instead of inside\n",
    "\n",
    "# correct code \n",
    "def f(x):\n",
    "    \n",
    "    y = abs(x)\n",
    "    \n",
    "    return y\n",
    "\n",
    "print(f(-983)) # test"
   ]
  },
  {
   "cell_type": "markdown",
   "id": "cb271b66",
   "metadata": {
    "papermill": {
     "duration": 0.005935,
     "end_time": "2025-03-10T12:37:09.932939",
     "exception": false,
     "start_time": "2025-03-10T12:37:09.927004",
     "status": "completed"
    },
    "tags": []
   },
   "source": [
    "# Keep Going\n",
    "\n",
    "Nice job with the code. Next up, you'll learn about *conditionals*, which you'll need to **[write interesting programs](https://www.kaggle.com/colinmorris/booleans-and-conditionals)**. "
   ]
  },
  {
   "cell_type": "markdown",
   "id": "28e8d7a3",
   "metadata": {
    "papermill": {
     "duration": 0.005391,
     "end_time": "2025-03-10T12:37:09.946288",
     "exception": false,
     "start_time": "2025-03-10T12:37:09.940897",
     "status": "completed"
    },
    "tags": []
   },
   "source": [
    "---\n",
    "\n",
    "\n",
    "\n",
    "\n",
    "*Have questions or comments? Visit the [course discussion forum](https://www.kaggle.com/learn/python/discussion) to chat with other learners.*"
   ]
  }
 ],
 "metadata": {
  "kaggle": {
   "accelerator": "none",
   "dataSources": [],
   "isGpuEnabled": false,
   "isInternetEnabled": false,
   "language": "python",
   "sourceType": "notebook"
  },
  "kernelspec": {
   "display_name": "Python 3",
   "language": "python",
   "name": "python3"
  },
  "language_info": {
   "codemirror_mode": {
    "name": "ipython",
    "version": 3
   },
   "file_extension": ".py",
   "mimetype": "text/x-python",
   "name": "python",
   "nbconvert_exporter": "python",
   "pygments_lexer": "ipython3",
   "version": "3.10.12"
  },
  "learntools_metadata": {
   "lesson_index": 1,
   "type": "exercise"
  },
  "papermill": {
   "default_parameters": {},
   "duration": 5.218209,
   "end_time": "2025-03-10T12:37:10.575647",
   "environment_variables": {},
   "exception": null,
   "input_path": "__notebook__.ipynb",
   "output_path": "__notebook__.ipynb",
   "parameters": {},
   "start_time": "2025-03-10T12:37:05.357438",
   "version": "2.6.0"
  }
 },
 "nbformat": 4,
 "nbformat_minor": 5
}
