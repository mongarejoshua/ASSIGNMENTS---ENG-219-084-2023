{
 "cells": [
  {
   "cell_type": "markdown",
   "id": "86db60d3",
   "metadata": {
    "papermill": {
     "duration": 0.004739,
     "end_time": "2025-03-10T12:38:38.655718",
     "exception": false,
     "start_time": "2025-03-10T12:38:38.650979",
     "status": "completed"
    },
    "tags": []
   },
   "source": [
    "**This notebook is an exercise in the [Python](https://www.kaggle.com/learn/python) course.  You can reference the tutorial at [this link](https://www.kaggle.com/colinmorris/functions-and-getting-help).**\n",
    "\n",
    "---\n"
   ]
  },
  {
   "cell_type": "markdown",
   "id": "390de6c6",
   "metadata": {
    "papermill": {
     "duration": 0.004055,
     "end_time": "2025-03-10T12:38:38.664116",
     "exception": false,
     "start_time": "2025-03-10T12:38:38.660061",
     "status": "completed"
    },
    "tags": []
   },
   "source": [
    "ENG-219-084/2023 "
   ]
  },
  {
   "cell_type": "markdown",
   "id": "30b83fec",
   "metadata": {
    "papermill": {
     "duration": 0.004049,
     "end_time": "2025-03-10T12:38:38.672262",
     "exception": false,
     "start_time": "2025-03-10T12:38:38.668213",
     "status": "completed"
    },
    "tags": []
   },
   "source": [
    "Functions are powerful. Try writing some yourself.\n",
    "\n",
    "As before, don't forget to run the setup code below before jumping into question 1."
   ]
  },
  {
   "cell_type": "code",
   "execution_count": 1,
   "id": "33d7649e",
   "metadata": {
    "_kg_hide-input": true,
    "_kg_hide-output": true,
    "execution": {
     "iopub.execute_input": "2025-03-10T12:38:38.681845Z",
     "iopub.status.busy": "2025-03-10T12:38:38.681466Z",
     "iopub.status.idle": "2025-03-10T12:38:39.813845Z",
     "shell.execute_reply": "2025-03-10T12:38:39.812383Z"
    },
    "papermill": {
     "duration": 1.14007,
     "end_time": "2025-03-10T12:38:39.816433",
     "exception": false,
     "start_time": "2025-03-10T12:38:38.676363",
     "status": "completed"
    },
    "tags": []
   },
   "outputs": [
    {
     "name": "stdout",
     "output_type": "stream",
     "text": [
      "Setup complete.\n"
     ]
    }
   ],
   "source": [
    "# SETUP. You don't need to worry for now about what this code does or how it works.\n",
    "from learntools.core import binder; binder.bind(globals())\n",
    "from learntools.python.ex2 import *\n",
    "print('Setup complete.')"
   ]
  },
  {
   "cell_type": "markdown",
   "id": "8e026c5e",
   "metadata": {
    "papermill": {
     "duration": 0.004006,
     "end_time": "2025-03-10T12:38:39.825440",
     "exception": false,
     "start_time": "2025-03-10T12:38:39.821434",
     "status": "completed"
    },
    "tags": []
   },
   "source": [
    "# 1.\n",
    "\n",
    "Complete the body of the following function according to its docstring.\n",
    "\n",
    "HINT: Python has a built-in function `round`."
   ]
  },
  {
   "cell_type": "code",
   "execution_count": 2,
   "id": "fbf12f29",
   "metadata": {
    "execution": {
     "iopub.execute_input": "2025-03-10T12:38:39.835362Z",
     "iopub.status.busy": "2025-03-10T12:38:39.834700Z",
     "iopub.status.idle": "2025-03-10T12:38:39.845446Z",
     "shell.execute_reply": "2025-03-10T12:38:39.844012Z"
    },
    "papermill": {
     "duration": 0.017809,
     "end_time": "2025-03-10T12:38:39.847420",
     "exception": false,
     "start_time": "2025-03-10T12:38:39.829611",
     "status": "completed"
    },
    "tags": []
   },
   "outputs": [
    {
     "data": {
      "application/javascript": [
       "parent.postMessage({\"jupyterEvent\": \"custom.exercise_interaction\", \"data\": {\"outcomeType\": 1, \"valueTowardsCompletion\": 0.16666666666666666, \"interactionType\": 1, \"questionType\": 2, \"questionId\": \"1_RoundFunctionProblem\", \"learnToolsVersion\": \"0.3.4\", \"failureMessage\": \"\", \"exceptionClass\": \"\", \"trace\": \"\"}}, \"*\")"
      ],
      "text/plain": [
       "<IPython.core.display.Javascript object>"
      ]
     },
     "metadata": {},
     "output_type": "display_data"
    },
    {
     "data": {
      "text/markdown": [
       "<span style=\"color:#33cc33\">Correct</span>"
      ],
      "text/plain": [
       "Correct"
      ]
     },
     "metadata": {},
     "output_type": "display_data"
    }
   ],
   "source": [
    "def round_to_two_places(num):\n",
    "    \"\"\"Return the given number rounded to two decimal places. \n",
    "    \n",
    "    >>> round_to_two_places(3.14159)\n",
    "    3.14\n",
    "    \"\"\"\n",
    "    # Replace this body with your own code.\n",
    "    # (\"pass\" is a keyword that does literally nothing. We used it as a placeholder\n",
    "    # because after we begin a code block, Python requires at least one line of code)\n",
    "    rounded = round(num, 2)\n",
    "\n",
    "    return rounded\n",
    "\n",
    "# Check your answer\n",
    "q1.check()"
   ]
  },
  {
   "cell_type": "code",
   "execution_count": 3,
   "id": "9f16f23a",
   "metadata": {
    "execution": {
     "iopub.execute_input": "2025-03-10T12:38:39.857829Z",
     "iopub.status.busy": "2025-03-10T12:38:39.857464Z",
     "iopub.status.idle": "2025-03-10T12:38:39.861661Z",
     "shell.execute_reply": "2025-03-10T12:38:39.860502Z"
    },
    "papermill": {
     "duration": 0.01159,
     "end_time": "2025-03-10T12:38:39.863675",
     "exception": false,
     "start_time": "2025-03-10T12:38:39.852085",
     "status": "completed"
    },
    "tags": []
   },
   "outputs": [],
   "source": [
    "# Uncomment the following for a hint\n",
    "#q1.hint()\n",
    "# Or uncomment the following to peek at the solution\n",
    "#q1.solution()"
   ]
  },
  {
   "cell_type": "markdown",
   "id": "5376ad7f",
   "metadata": {
    "papermill": {
     "duration": 0.004494,
     "end_time": "2025-03-10T12:38:39.872802",
     "exception": false,
     "start_time": "2025-03-10T12:38:39.868308",
     "status": "completed"
    },
    "tags": []
   },
   "source": [
    "# 2.\n",
    "The help for `round` says that `ndigits` (the second argument) may be negative.\n",
    "What do you think will happen when it is? Try some examples in the following cell."
   ]
  },
  {
   "cell_type": "code",
   "execution_count": 4,
   "id": "4a50e45a",
   "metadata": {
    "execution": {
     "iopub.execute_input": "2025-03-10T12:38:39.884231Z",
     "iopub.status.busy": "2025-03-10T12:38:39.883835Z",
     "iopub.status.idle": "2025-03-10T12:38:39.891239Z",
     "shell.execute_reply": "2025-03-10T12:38:39.889826Z"
    },
    "papermill": {
     "duration": 0.015676,
     "end_time": "2025-03-10T12:38:39.893039",
     "exception": false,
     "start_time": "2025-03-10T12:38:39.877363",
     "status": "completed"
    },
    "tags": []
   },
   "outputs": [
    {
     "name": "stdout",
     "output_type": "stream",
     "text": [
      "20.0\n",
      "30.0\n",
      "200.0\n",
      "9000.0\n"
     ]
    }
   ],
   "source": [
    "# Put your test code here\n",
    "a = 21.909343 # any random variable\n",
    "test1 = round(a, -1)\n",
    "print(test1)\n",
    "\n",
    "\n",
    "b = 28.49873\n",
    "test2 = round(b, -1)\n",
    "print(test2)\n",
    "\n",
    "\n",
    "c = 234.909343 \n",
    "test3 = round(c, -2)\n",
    "print(test3)\n",
    "\n",
    "\n",
    "d = 8566.909\n",
    "test4 = round(d, -3)\n",
    "print(test4)"
   ]
  },
  {
   "cell_type": "markdown",
   "id": "392822b4",
   "metadata": {
    "papermill": {
     "duration": 0.004245,
     "end_time": "2025-03-10T12:38:39.902633",
     "exception": false,
     "start_time": "2025-03-10T12:38:39.898388",
     "status": "completed"
    },
    "tags": []
   },
   "source": [
    "Can you think of a case where this would be useful?  Once you're ready, run the code cell below to see the answer and to receive credit for completing the problem."
   ]
  },
  {
   "cell_type": "code",
   "execution_count": 5,
   "id": "edc2346c",
   "metadata": {
    "execution": {
     "iopub.execute_input": "2025-03-10T12:38:39.912989Z",
     "iopub.status.busy": "2025-03-10T12:38:39.912602Z",
     "iopub.status.idle": "2025-03-10T12:38:39.920711Z",
     "shell.execute_reply": "2025-03-10T12:38:39.919466Z"
    },
    "papermill": {
     "duration": 0.015793,
     "end_time": "2025-03-10T12:38:39.922934",
     "exception": false,
     "start_time": "2025-03-10T12:38:39.907141",
     "status": "completed"
    },
    "tags": []
   },
   "outputs": [
    {
     "data": {
      "application/javascript": [
       "parent.postMessage({\"jupyterEvent\": \"custom.exercise_interaction\", \"data\": {\"interactionType\": 3, \"questionType\": 4, \"questionId\": \"2_RoundNdigitsProblem\", \"learnToolsVersion\": \"0.3.4\", \"valueTowardsCompletion\": 0.0, \"failureMessage\": \"\", \"exceptionClass\": \"\", \"trace\": \"\", \"outcomeType\": 4}}, \"*\")"
      ],
      "text/plain": [
       "<IPython.core.display.Javascript object>"
      ]
     },
     "metadata": {},
     "output_type": "display_data"
    },
    {
     "data": {
      "text/markdown": [
       "<span style=\"color:#33cc99\">Solution:</span> As you've seen, `ndigits=-1` rounds to the nearest 10, `ndigits=-2` rounds to the nearest 100 and so on. Where might this be useful? Suppose we're dealing with large numbers:\n",
       "\n",
       "> The area of Finland is 338,424 km²  \n",
       "> The area of Greenland is 2,166,086 km²\n",
       "\n",
       "We probably don't care whether it's really 338,424, or 338,425, or 338,177. All those digits of accuracy are just distracting. We can chop them off by calling `round()` with `ndigits=-3`:\n",
       "\n",
       "> The area of Finland is 338,000 km²  \n",
       "> The area of Greenland is 2,166,000 km²\n",
       "\n",
       "(We'll talk about how we would get the commas later when we talk about string formatting :))\n"
      ],
      "text/plain": [
       "Solution: As you've seen, `ndigits=-1` rounds to the nearest 10, `ndigits=-2` rounds to the nearest 100 and so on. Where might this be useful? Suppose we're dealing with large numbers:\n",
       "\n",
       "> The area of Finland is 338,424 km²  \n",
       "> The area of Greenland is 2,166,086 km²\n",
       "\n",
       "We probably don't care whether it's really 338,424, or 338,425, or 338,177. All those digits of accuracy are just distracting. We can chop them off by calling `round()` with `ndigits=-3`:\n",
       "\n",
       "> The area of Finland is 338,000 km²  \n",
       "> The area of Greenland is 2,166,000 km²\n",
       "\n",
       "(We'll talk about how we would get the commas later when we talk about string formatting :))"
      ]
     },
     "metadata": {},
     "output_type": "display_data"
    }
   ],
   "source": [
    "# Check your answer (Run this code cell to receive credit!)\n",
    "q2.solution()"
   ]
  },
  {
   "cell_type": "markdown",
   "id": "bdd87af4",
   "metadata": {
    "papermill": {
     "duration": 0.004421,
     "end_time": "2025-03-10T12:38:39.932629",
     "exception": false,
     "start_time": "2025-03-10T12:38:39.928208",
     "status": "completed"
    },
    "tags": []
   },
   "source": [
    "# 3.\n",
    "\n",
    "In the previous exercise, the candy-sharing friends Alice, Bob and Carol tried to split candies evenly. For the sake of their friendship, any candies left over would be smashed. For example, if they collectively bring home 91 candies, they'll take 30 each and smash 1.\n",
    "\n",
    "Below is a simple function that will calculate the number of candies to smash for *any* number of total candies.\n",
    "\n",
    "Modify it so that it optionally takes a second argument representing the number of friends the candies are being split between. If no second argument is provided, it should assume 3 friends, as before.\n",
    "\n",
    "Update the docstring to reflect this new behaviour."
   ]
  },
  {
   "cell_type": "code",
   "execution_count": 6,
   "id": "e1d09f89",
   "metadata": {
    "execution": {
     "iopub.execute_input": "2025-03-10T12:38:39.943409Z",
     "iopub.status.busy": "2025-03-10T12:38:39.943057Z",
     "iopub.status.idle": "2025-03-10T12:38:39.951020Z",
     "shell.execute_reply": "2025-03-10T12:38:39.950112Z"
    },
    "papermill": {
     "duration": 0.015283,
     "end_time": "2025-03-10T12:38:39.952590",
     "exception": false,
     "start_time": "2025-03-10T12:38:39.937307",
     "status": "completed"
    },
    "tags": []
   },
   "outputs": [
    {
     "data": {
      "application/javascript": [
       "parent.postMessage({\"jupyterEvent\": \"custom.exercise_interaction\", \"data\": {\"outcomeType\": 1, \"valueTowardsCompletion\": 0.16666666666666666, \"interactionType\": 1, \"questionType\": 2, \"questionId\": \"3_CandySmashingFunctionProblem\", \"learnToolsVersion\": \"0.3.4\", \"failureMessage\": \"\", \"exceptionClass\": \"\", \"trace\": \"\"}}, \"*\")"
      ],
      "text/plain": [
       "<IPython.core.display.Javascript object>"
      ]
     },
     "metadata": {},
     "output_type": "display_data"
    },
    {
     "data": {
      "text/markdown": [
       "<span style=\"color:#33cc33\">Correct</span>"
      ],
      "text/plain": [
       "Correct"
      ]
     },
     "metadata": {},
     "output_type": "display_data"
    }
   ],
   "source": [
    "def to_smash(total_candies, num_of_friends = 3):\n",
    "    \"\"\"Return the number of leftover candies that must be smashed after distributing\n",
    "    the given number of candies evenly between 3 friends.\n",
    "    \n",
    "    >>> to_smash(91)\n",
    "    1\n",
    "    \"\"\"\n",
    "    smashed = total_candies % num_of_friends\n",
    "    \n",
    "    return smashed\n",
    "\n",
    "# Check your answer\n",
    "q3.check()"
   ]
  },
  {
   "cell_type": "code",
   "execution_count": 7,
   "id": "649a745b",
   "metadata": {
    "execution": {
     "iopub.execute_input": "2025-03-10T12:38:39.964419Z",
     "iopub.status.busy": "2025-03-10T12:38:39.964062Z",
     "iopub.status.idle": "2025-03-10T12:38:39.968421Z",
     "shell.execute_reply": "2025-03-10T12:38:39.967108Z"
    },
    "papermill": {
     "duration": 0.012573,
     "end_time": "2025-03-10T12:38:39.970240",
     "exception": false,
     "start_time": "2025-03-10T12:38:39.957667",
     "status": "completed"
    },
    "tags": []
   },
   "outputs": [],
   "source": [
    "#q3.hint()"
   ]
  },
  {
   "cell_type": "code",
   "execution_count": 8,
   "id": "73f0b1e4",
   "metadata": {
    "execution": {
     "iopub.execute_input": "2025-03-10T12:38:39.981680Z",
     "iopub.status.busy": "2025-03-10T12:38:39.981350Z",
     "iopub.status.idle": "2025-03-10T12:38:39.985893Z",
     "shell.execute_reply": "2025-03-10T12:38:39.984474Z"
    },
    "papermill": {
     "duration": 0.012375,
     "end_time": "2025-03-10T12:38:39.987733",
     "exception": false,
     "start_time": "2025-03-10T12:38:39.975358",
     "status": "completed"
    },
    "tags": []
   },
   "outputs": [],
   "source": [
    "#q3.solution()"
   ]
  },
  {
   "cell_type": "markdown",
   "id": "138299fc",
   "metadata": {
    "papermill": {
     "duration": 0.004796,
     "end_time": "2025-03-10T12:38:39.997894",
     "exception": false,
     "start_time": "2025-03-10T12:38:39.993098",
     "status": "completed"
    },
    "tags": []
   },
   "source": [
    "# 4. (Optional)\n",
    "\n",
    "It may not be fun, but reading and understanding error messages will be an important part of your Python career.\n",
    "\n",
    "Each code cell below contains some commented buggy code. For each cell...\n",
    "\n",
    "1. Read the code and predict what you think will happen when it's run.\n",
    "2. Then uncomment the code and run it to see what happens. (**Tip**: In the kernel editor, you can highlight several lines and press `ctrl`+`/` to toggle commenting.)\n",
    "3. Fix the code (so that it accomplishes its intended purpose without throwing an exception)\n",
    "\n",
    "<!-- TODO: should this be autochecked? Delta is probably pretty small. -->"
   ]
  },
  {
   "cell_type": "code",
   "execution_count": 9,
   "id": "0016ff5b",
   "metadata": {
    "execution": {
     "iopub.execute_input": "2025-03-10T12:38:40.009490Z",
     "iopub.status.busy": "2025-03-10T12:38:40.009145Z",
     "iopub.status.idle": "2025-03-10T12:38:40.015142Z",
     "shell.execute_reply": "2025-03-10T12:38:40.013962Z"
    },
    "papermill": {
     "duration": 0.013932,
     "end_time": "2025-03-10T12:38:40.017161",
     "exception": false,
     "start_time": "2025-03-10T12:38:40.003229",
     "status": "completed"
    },
    "tags": []
   },
   "outputs": [
    {
     "data": {
      "text/plain": [
       "10.0"
      ]
     },
     "execution_count": 9,
     "metadata": {},
     "output_type": "execute_result"
    }
   ],
   "source": [
    "# ruound_to_two_places(9.9999)\n",
    "\n",
    "# mistake --> round_to_two_places is not an inbulit python function hence not defined. \n",
    "\n",
    "# correct code\n",
    "round(9.9999, 2)\n"
   ]
  },
  {
   "cell_type": "code",
   "execution_count": 10,
   "id": "ef677987",
   "metadata": {
    "execution": {
     "iopub.execute_input": "2025-03-10T12:38:40.029379Z",
     "iopub.status.busy": "2025-03-10T12:38:40.029020Z",
     "iopub.status.idle": "2025-03-10T12:38:40.034413Z",
     "shell.execute_reply": "2025-03-10T12:38:40.033082Z"
    },
    "papermill": {
     "duration": 0.01358,
     "end_time": "2025-03-10T12:38:40.036125",
     "exception": false,
     "start_time": "2025-03-10T12:38:40.022545",
     "status": "completed"
    },
    "tags": []
   },
   "outputs": [
    {
     "name": "stdout",
     "output_type": "stream",
     "text": [
      "10\n"
     ]
    }
   ],
   "source": [
    "# x = -10\n",
    "# y = 5\n",
    "# # Which of the two variables above has the smallest absolute value?\n",
    "# smallest_abs = min(abs(x, y))\n",
    "\n",
    "# mistake --> abs function took nore than one argument, instead it should take one.\n",
    "\n",
    "# correct code\n",
    "x = -10\n",
    "y = 5\n",
    "\n",
    "smallest_abs = abs(min(x,y))\n",
    "\n",
    "print(smallest_abs)"
   ]
  },
  {
   "cell_type": "code",
   "execution_count": 11,
   "id": "3a40f7fd",
   "metadata": {
    "execution": {
     "iopub.execute_input": "2025-03-10T12:38:40.048038Z",
     "iopub.status.busy": "2025-03-10T12:38:40.047653Z",
     "iopub.status.idle": "2025-03-10T12:38:40.053200Z",
     "shell.execute_reply": "2025-03-10T12:38:40.051917Z"
    },
    "papermill": {
     "duration": 0.013712,
     "end_time": "2025-03-10T12:38:40.055112",
     "exception": false,
     "start_time": "2025-03-10T12:38:40.041400",
     "status": "completed"
    },
    "tags": []
   },
   "outputs": [
    {
     "name": "stdout",
     "output_type": "stream",
     "text": [
      "983\n"
     ]
    }
   ],
   "source": [
    "# def f(x):\n",
    "#     y = abs(x)\n",
    "# return y\n",
    "\n",
    "# print(f(5))\n",
    "\n",
    "# mistake --> return is placed/idented outside the function instead of inside\n",
    "\n",
    "# correct code \n",
    "def f(x):\n",
    "    \n",
    "    y = abs(x)\n",
    "    \n",
    "    return y\n",
    "\n",
    "print(f(-983)) # test"
   ]
  },
  {
   "cell_type": "markdown",
   "id": "90987bcc",
   "metadata": {
    "papermill": {
     "duration": 0.005149,
     "end_time": "2025-03-10T12:38:40.065837",
     "exception": false,
     "start_time": "2025-03-10T12:38:40.060688",
     "status": "completed"
    },
    "tags": []
   },
   "source": [
    "# Keep Going\n",
    "\n",
    "Nice job with the code. Next up, you'll learn about *conditionals*, which you'll need to **[write interesting programs](https://www.kaggle.com/colinmorris/booleans-and-conditionals)**. "
   ]
  },
  {
   "cell_type": "markdown",
   "id": "08cf0795",
   "metadata": {
    "papermill": {
     "duration": 0.004845,
     "end_time": "2025-03-10T12:38:40.076067",
     "exception": false,
     "start_time": "2025-03-10T12:38:40.071222",
     "status": "completed"
    },
    "tags": []
   },
   "source": [
    "---\n",
    "\n",
    "\n",
    "\n",
    "\n",
    "*Have questions or comments? Visit the [course discussion forum](https://www.kaggle.com/learn/python/discussion) to chat with other learners.*"
   ]
  }
 ],
 "metadata": {
  "kaggle": {
   "accelerator": "none",
   "dataSources": [],
   "isGpuEnabled": false,
   "isInternetEnabled": false,
   "language": "python",
   "sourceType": "notebook"
  },
  "kernelspec": {
   "display_name": "Python 3",
   "language": "python",
   "name": "python3"
  },
  "language_info": {
   "codemirror_mode": {
    "name": "ipython",
    "version": 3
   },
   "file_extension": ".py",
   "mimetype": "text/x-python",
   "name": "python",
   "nbconvert_exporter": "python",
   "pygments_lexer": "ipython3",
   "version": "3.10.12"
  },
  "learntools_metadata": {
   "lesson_index": 1,
   "type": "exercise"
  },
  "papermill": {
   "default_parameters": {},
   "duration": 5.09681,
   "end_time": "2025-03-10T12:38:40.702267",
   "environment_variables": {},
   "exception": null,
   "input_path": "__notebook__.ipynb",
   "output_path": "__notebook__.ipynb",
   "parameters": {},
   "start_time": "2025-03-10T12:38:35.605457",
   "version": "2.6.0"
  }
 },
 "nbformat": 4,
 "nbformat_minor": 5
}
