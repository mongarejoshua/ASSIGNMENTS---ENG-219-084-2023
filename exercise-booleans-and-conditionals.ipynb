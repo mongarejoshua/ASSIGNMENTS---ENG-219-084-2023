{
 "cells": [
  {
   "cell_type": "markdown",
   "id": "53ccc3cd",
   "metadata": {
    "papermill": {
     "duration": 0.0087,
     "end_time": "2025-03-10T15:00:26.442062",
     "exception": false,
     "start_time": "2025-03-10T15:00:26.433362",
     "status": "completed"
    },
    "tags": []
   },
   "source": [
    "**This notebook is an exercise in the [Python](https://www.kaggle.com/learn/python) course.  You can reference the tutorial at [this link](https://www.kaggle.com/colinmorris/booleans-and-conditionals).**\n",
    "\n",
    "---\n"
   ]
  },
  {
   "cell_type": "markdown",
   "id": "d87fbbe8",
   "metadata": {
    "papermill": {
     "duration": 0.00728,
     "end_time": "2025-03-10T15:00:26.457460",
     "exception": false,
     "start_time": "2025-03-10T15:00:26.450180",
     "status": "completed"
    },
    "tags": []
   },
   "source": [
    "In this exercise, you'll put to work what you have learned about booleans and conditionals.\n",
    "\n",
    "To get started, **run the setup code below** before writing your own code (and if you leave this notebook and come back later, don't forget to run the setup code again)."
   ]
  },
  {
   "cell_type": "code",
   "execution_count": 1,
   "id": "1637bcc3",
   "metadata": {
    "execution": {
     "iopub.execute_input": "2025-03-10T15:00:26.474966Z",
     "iopub.status.busy": "2025-03-10T15:00:26.474376Z",
     "iopub.status.idle": "2025-03-10T15:00:27.655774Z",
     "shell.execute_reply": "2025-03-10T15:00:27.654079Z"
    },
    "papermill": {
     "duration": 1.192715,
     "end_time": "2025-03-10T15:00:27.658064",
     "exception": false,
     "start_time": "2025-03-10T15:00:26.465349",
     "status": "completed"
    },
    "tags": []
   },
   "outputs": [
    {
     "name": "stdout",
     "output_type": "stream",
     "text": [
      "Setup complete.\n"
     ]
    }
   ],
   "source": [
    "from learntools.core import binder; binder.bind(globals())\n",
    "from learntools.python.ex3 import *\n",
    "print('Setup complete.')"
   ]
  },
  {
   "cell_type": "markdown",
   "id": "5c05bb4f",
   "metadata": {
    "papermill": {
     "duration": 0.007794,
     "end_time": "2025-03-10T15:00:27.674855",
     "exception": false,
     "start_time": "2025-03-10T15:00:27.667061",
     "status": "completed"
    },
    "tags": []
   },
   "source": [
    "# 1.\n",
    "\n",
    "Many programming languages have [`sign`](https://en.wikipedia.org/wiki/Sign_function) available as a built-in function. Python doesn't, but we can define our own!\n",
    "\n",
    "In the cell below, define a function called `sign` which takes a numerical argument and returns -1 if it's negative, 1 if it's positive, and 0 if it's 0."
   ]
  },
  {
   "cell_type": "code",
   "execution_count": 2,
   "id": "5f605010",
   "metadata": {
    "execution": {
     "iopub.execute_input": "2025-03-10T15:00:27.692892Z",
     "iopub.status.busy": "2025-03-10T15:00:27.692259Z",
     "iopub.status.idle": "2025-03-10T15:00:27.703231Z",
     "shell.execute_reply": "2025-03-10T15:00:27.701943Z"
    },
    "papermill": {
     "duration": 0.022764,
     "end_time": "2025-03-10T15:00:27.705410",
     "exception": false,
     "start_time": "2025-03-10T15:00:27.682646",
     "status": "completed"
    },
    "tags": []
   },
   "outputs": [
    {
     "data": {
      "application/javascript": [
       "parent.postMessage({\"jupyterEvent\": \"custom.exercise_interaction\", \"data\": {\"outcomeType\": 1, \"valueTowardsCompletion\": 0.2, \"interactionType\": 1, \"questionType\": 2, \"questionId\": \"1_SignFunctionProblem\", \"learnToolsVersion\": \"0.3.4\", \"failureMessage\": \"\", \"exceptionClass\": \"\", \"trace\": \"\"}}, \"*\")"
      ],
      "text/plain": [
       "<IPython.core.display.Javascript object>"
      ]
     },
     "metadata": {},
     "output_type": "display_data"
    },
    {
     "data": {
      "text/markdown": [
       "<span style=\"color:#33cc33\">Correct</span>"
      ],
      "text/plain": [
       "Correct"
      ]
     },
     "metadata": {},
     "output_type": "display_data"
    }
   ],
   "source": [
    "# Your code goes here. Define a function called 'sign'\n",
    "\n",
    "def sign(num):\n",
    "    if num < 0:\n",
    "        return -1\n",
    "    elif num > 0:\n",
    "        return 1\n",
    "    elif num == 0:\n",
    "        return 0\n",
    "\n",
    "sign(12)\n",
    "# Check your answer\n",
    "q1.check()"
   ]
  },
  {
   "cell_type": "code",
   "execution_count": 3,
   "id": "30833d2c",
   "metadata": {
    "execution": {
     "iopub.execute_input": "2025-03-10T15:00:27.723050Z",
     "iopub.status.busy": "2025-03-10T15:00:27.722588Z",
     "iopub.status.idle": "2025-03-10T15:00:27.727279Z",
     "shell.execute_reply": "2025-03-10T15:00:27.725883Z"
    },
    "papermill": {
     "duration": 0.015634,
     "end_time": "2025-03-10T15:00:27.729320",
     "exception": false,
     "start_time": "2025-03-10T15:00:27.713686",
     "status": "completed"
    },
    "tags": []
   },
   "outputs": [],
   "source": [
    "#q1.solution()"
   ]
  },
  {
   "cell_type": "markdown",
   "id": "013bd20c",
   "metadata": {
    "papermill": {
     "duration": 0.007596,
     "end_time": "2025-03-10T15:00:27.745501",
     "exception": false,
     "start_time": "2025-03-10T15:00:27.737905",
     "status": "completed"
    },
    "tags": []
   },
   "source": [
    "# 2.\n",
    "\n",
    "We've decided to add \"logging\" to our `to_smash` function from the previous exercise."
   ]
  },
  {
   "cell_type": "code",
   "execution_count": 4,
   "id": "f9856f0d",
   "metadata": {
    "execution": {
     "iopub.execute_input": "2025-03-10T15:00:27.763757Z",
     "iopub.status.busy": "2025-03-10T15:00:27.763327Z",
     "iopub.status.idle": "2025-03-10T15:00:27.772283Z",
     "shell.execute_reply": "2025-03-10T15:00:27.770802Z"
    },
    "papermill": {
     "duration": 0.021066,
     "end_time": "2025-03-10T15:00:27.774663",
     "exception": false,
     "start_time": "2025-03-10T15:00:27.753597",
     "status": "completed"
    },
    "tags": []
   },
   "outputs": [
    {
     "name": "stdout",
     "output_type": "stream",
     "text": [
      "Splitting 91 candies\n"
     ]
    },
    {
     "data": {
      "text/plain": [
       "1"
      ]
     },
     "execution_count": 4,
     "metadata": {},
     "output_type": "execute_result"
    }
   ],
   "source": [
    "def to_smash(total_candies):\n",
    "    \"\"\"Return the number of leftover candies that must be smashed after distributing\n",
    "    the given number of candies evenly between 3 friends.\n",
    "    \n",
    "    >>> to_smash(91)\n",
    "    1\n",
    "    \"\"\"\n",
    "    print(\"Splitting\", total_candies, \"candies\")\n",
    "    return total_candies % 3\n",
    "\n",
    "to_smash(91)"
   ]
  },
  {
   "cell_type": "markdown",
   "id": "5a9b1919",
   "metadata": {
    "papermill": {
     "duration": 0.007879,
     "end_time": "2025-03-10T15:00:27.791223",
     "exception": false,
     "start_time": "2025-03-10T15:00:27.783344",
     "status": "completed"
    },
    "tags": []
   },
   "source": [
    "What happens if we call it with `total_candies = 1`?"
   ]
  },
  {
   "cell_type": "code",
   "execution_count": 5,
   "id": "4ee1de02",
   "metadata": {
    "execution": {
     "iopub.execute_input": "2025-03-10T15:00:27.810811Z",
     "iopub.status.busy": "2025-03-10T15:00:27.810356Z",
     "iopub.status.idle": "2025-03-10T15:00:27.818912Z",
     "shell.execute_reply": "2025-03-10T15:00:27.817122Z"
    },
    "papermill": {
     "duration": 0.020579,
     "end_time": "2025-03-10T15:00:27.821182",
     "exception": false,
     "start_time": "2025-03-10T15:00:27.800603",
     "status": "completed"
    },
    "tags": []
   },
   "outputs": [
    {
     "name": "stdout",
     "output_type": "stream",
     "text": [
      "Splitting 1 candies\n"
     ]
    },
    {
     "data": {
      "text/plain": [
       "1"
      ]
     },
     "execution_count": 5,
     "metadata": {},
     "output_type": "execute_result"
    }
   ],
   "source": [
    "to_smash(1)"
   ]
  },
  {
   "cell_type": "markdown",
   "id": "e679754d",
   "metadata": {
    "papermill": {
     "duration": 0.010179,
     "end_time": "2025-03-10T15:00:27.840477",
     "exception": false,
     "start_time": "2025-03-10T15:00:27.830298",
     "status": "completed"
    },
    "tags": []
   },
   "source": [
    "That isn't great grammar!\n",
    "\n",
    "Modify the definition in the cell below to correct the grammar of our print statement. (If there's only one candy, we should use the singular \"candy\" instead of the plural \"candies\")"
   ]
  },
  {
   "cell_type": "code",
   "execution_count": 6,
   "id": "e8ccb017",
   "metadata": {
    "execution": {
     "iopub.execute_input": "2025-03-10T15:00:27.861037Z",
     "iopub.status.busy": "2025-03-10T15:00:27.860582Z",
     "iopub.status.idle": "2025-03-10T15:00:27.869687Z",
     "shell.execute_reply": "2025-03-10T15:00:27.868611Z"
    },
    "papermill": {
     "duration": 0.021729,
     "end_time": "2025-03-10T15:00:27.872005",
     "exception": false,
     "start_time": "2025-03-10T15:00:27.850276",
     "status": "completed"
    },
    "tags": []
   },
   "outputs": [
    {
     "name": "stdout",
     "output_type": "stream",
     "text": [
      "Splitting 91 candies\n",
      "Splitting 1 candie\n"
     ]
    },
    {
     "data": {
      "text/plain": [
       "1"
      ]
     },
     "execution_count": 6,
     "metadata": {},
     "output_type": "execute_result"
    }
   ],
   "source": [
    "def to_smash(total_candies):\n",
    "    \"\"\"Return the number of leftover candies that must be smashed after distributing\n",
    "    the given number of candies evenly between 3 friends.\n",
    "    \n",
    "    >>> to_smash(91)\n",
    "    1\n",
    "    \"\"\"\n",
    "    if total_candies > 1:\n",
    "        print(\"Splitting\", total_candies, \"candies\")\n",
    "    elif total_candies == 1:\n",
    "        print(\"Splitting\", total_candies, \"candie\")\n",
    "    else:\n",
    "        print('Error')\n",
    "    \n",
    "    return total_candies % 3\n",
    "\n",
    "to_smash(91)\n",
    "to_smash(1)"
   ]
  },
  {
   "cell_type": "markdown",
   "id": "fc238dd3",
   "metadata": {
    "papermill": {
     "duration": 0.007772,
     "end_time": "2025-03-10T15:00:27.888385",
     "exception": false,
     "start_time": "2025-03-10T15:00:27.880613",
     "status": "completed"
    },
    "tags": []
   },
   "source": [
    "To get credit for completing this problem, and to see the official answer, run the code cell below."
   ]
  },
  {
   "cell_type": "code",
   "execution_count": 7,
   "id": "6993bd56",
   "metadata": {
    "execution": {
     "iopub.execute_input": "2025-03-10T15:00:27.906414Z",
     "iopub.status.busy": "2025-03-10T15:00:27.906064Z",
     "iopub.status.idle": "2025-03-10T15:00:27.914206Z",
     "shell.execute_reply": "2025-03-10T15:00:27.912943Z"
    },
    "papermill": {
     "duration": 0.019399,
     "end_time": "2025-03-10T15:00:27.916138",
     "exception": false,
     "start_time": "2025-03-10T15:00:27.896739",
     "status": "completed"
    },
    "tags": []
   },
   "outputs": [
    {
     "data": {
      "application/javascript": [
       "parent.postMessage({\"jupyterEvent\": \"custom.exercise_interaction\", \"data\": {\"interactionType\": 3, \"questionType\": 4, \"questionId\": \"2_PluralizationProblem\", \"learnToolsVersion\": \"0.3.4\", \"valueTowardsCompletion\": 0.0, \"failureMessage\": \"\", \"exceptionClass\": \"\", \"trace\": \"\", \"outcomeType\": 4}}, \"*\")"
      ],
      "text/plain": [
       "<IPython.core.display.Javascript object>"
      ]
     },
     "metadata": {},
     "output_type": "display_data"
    },
    {
     "data": {
      "text/markdown": [
       "<span style=\"color:#33cc99\">Solution:</span> A straightforward (and totally fine) solution is to replace the original `print` call with:\n",
       "\n",
       "```python\n",
       "if total_candies == 1:\n",
       "    print(\"Splitting 1 candy\")\n",
       "else:\n",
       "    print(\"Splitting\", total_candies, \"candies\")\n",
       "```\n",
       "\n",
       "Here's a slightly more succinct solution using a conditional expression:\n",
       "\n",
       "```python\n",
       "print(\"Splitting\", total_candies, \"candy\" if total_candies == 1 else \"candies\")\n",
       "```"
      ],
      "text/plain": [
       "Solution: A straightforward (and totally fine) solution is to replace the original `print` call with:\n",
       "\n",
       "```python\n",
       "if total_candies == 1:\n",
       "    print(\"Splitting 1 candy\")\n",
       "else:\n",
       "    print(\"Splitting\", total_candies, \"candies\")\n",
       "```\n",
       "\n",
       "Here's a slightly more succinct solution using a conditional expression:\n",
       "\n",
       "```python\n",
       "print(\"Splitting\", total_candies, \"candy\" if total_candies == 1 else \"candies\")\n",
       "```"
      ]
     },
     "metadata": {},
     "output_type": "display_data"
    }
   ],
   "source": [
    "# Check your answer (Run this code cell to receive credit!)\n",
    "q2.solution()"
   ]
  },
  {
   "cell_type": "markdown",
   "id": "4b2457f9",
   "metadata": {
    "papermill": {
     "duration": 0.008222,
     "end_time": "2025-03-10T15:00:27.932925",
     "exception": false,
     "start_time": "2025-03-10T15:00:27.924703",
     "status": "completed"
    },
    "tags": []
   },
   "source": [
    "# 3. <span title=\"A bit spicy\" style=\"color: darkgreen \">🌶️</span>\n",
    "\n",
    "In the tutorial, we talked about deciding whether we're prepared for the weather. I said that I'm safe from today's weather if...\n",
    "- I have an umbrella...\n",
    "- or if the rain isn't too heavy and I have a hood...\n",
    "- otherwise, I'm still fine unless it's raining *and* it's a workday\n",
    "\n",
    "The function below uses our first attempt at turning this logic into a Python expression. I claimed that there was a bug in that code. Can you find it?\n",
    "\n",
    "To prove that `prepared_for_weather` is buggy, come up with a set of inputs where either:\n",
    "- the function returns `False` (but should have returned `True`), or\n",
    "- the function returned `True` (but should have returned `False`).\n",
    "\n",
    "To get credit for completing this question, your code should return a <font color='#33cc33'>Correct</font> result."
   ]
  },
  {
   "cell_type": "code",
   "execution_count": 8,
   "id": "a51ce1c8",
   "metadata": {
    "execution": {
     "iopub.execute_input": "2025-03-10T15:00:27.951674Z",
     "iopub.status.busy": "2025-03-10T15:00:27.951252Z",
     "iopub.status.idle": "2025-03-10T15:00:27.962436Z",
     "shell.execute_reply": "2025-03-10T15:00:27.961079Z"
    },
    "papermill": {
     "duration": 0.022872,
     "end_time": "2025-03-10T15:00:27.964674",
     "exception": false,
     "start_time": "2025-03-10T15:00:27.941802",
     "status": "completed"
    },
    "tags": []
   },
   "outputs": [
    {
     "name": "stdout",
     "output_type": "stream",
     "text": [
      "False\n"
     ]
    },
    {
     "data": {
      "application/javascript": [
       "parent.postMessage({\"jupyterEvent\": \"custom.exercise_interaction\", \"data\": {\"outcomeType\": 1, \"valueTowardsCompletion\": 0.2, \"interactionType\": 1, \"questionType\": 1, \"questionId\": \"3_WeatherDebug\", \"learnToolsVersion\": \"0.3.4\", \"failureMessage\": \"\", \"exceptionClass\": \"\", \"trace\": \"\"}}, \"*\")"
      ],
      "text/plain": [
       "<IPython.core.display.Javascript object>"
      ]
     },
     "metadata": {},
     "output_type": "display_data"
    },
    {
     "data": {
      "text/markdown": [
       "<span style=\"color:#33cc33\">Correct:</span> \n",
       "\n",
       "One example of a failing test case is:\n",
       "\n",
       "```python\n",
       "have_umbrella = False\n",
       "rain_level = 0.0\n",
       "have_hood = False\n",
       "is_workday = False\n",
       "```\n",
       "\n",
       "Clearly we're prepared for the weather in this case. It's not raining. Not only that, it's not a workday, so we don't even need to leave the house! But our function will return False on these inputs.\n",
       "\n",
       "The key problem is that Python implictly parenthesizes the last part as:\n",
       "\n",
       "```python\n",
       "(not (rain_level > 0)) and is_workday\n",
       "```\n",
       "\n",
       "Whereas what we were trying to express would look more like:\n",
       "\n",
       "```python\n",
       "not (rain_level > 0 and is_workday)\n",
       "```\n"
      ],
      "text/plain": [
       "Correct: \n",
       "\n",
       "One example of a failing test case is:\n",
       "\n",
       "```python\n",
       "have_umbrella = False\n",
       "rain_level = 0.0\n",
       "have_hood = False\n",
       "is_workday = False\n",
       "```\n",
       "\n",
       "Clearly we're prepared for the weather in this case. It's not raining. Not only that, it's not a workday, so we don't even need to leave the house! But our function will return False on these inputs.\n",
       "\n",
       "The key problem is that Python implictly parenthesizes the last part as:\n",
       "\n",
       "```python\n",
       "(not (rain_level > 0)) and is_workday\n",
       "```\n",
       "\n",
       "Whereas what we were trying to express would look more like:\n",
       "\n",
       "```python\n",
       "not (rain_level > 0 and is_workday)\n",
       "```"
      ]
     },
     "metadata": {},
     "output_type": "display_data"
    }
   ],
   "source": [
    "def prepared_for_weather(have_umbrella, rain_level, have_hood, is_workday):\n",
    "    # Don't change this code. Our goal is just to find the bug, not fix it!\n",
    "    return have_umbrella or rain_level < 5 and have_hood or not rain_level > 0 and is_workday\n",
    "\n",
    "# Change the values of these inputs so they represent a case where prepared_for_weather\n",
    "# returns the wrong answer.\n",
    "have_umbrella = False\n",
    "rain_level = 5.1\n",
    "have_hood = False\n",
    "is_workday = False\n",
    "\n",
    "# Check what the function returns given the current values of the variables above\n",
    "actual = prepared_for_weather(have_umbrella, rain_level, have_hood, is_workday)\n",
    "print(actual)\n",
    "\n",
    "# Check your answer\n",
    "q3.check()"
   ]
  },
  {
   "cell_type": "code",
   "execution_count": 9,
   "id": "bbd87778",
   "metadata": {
    "execution": {
     "iopub.execute_input": "2025-03-10T15:00:27.984665Z",
     "iopub.status.busy": "2025-03-10T15:00:27.984234Z",
     "iopub.status.idle": "2025-03-10T15:00:27.988786Z",
     "shell.execute_reply": "2025-03-10T15:00:27.987388Z"
    },
    "papermill": {
     "duration": 0.017185,
     "end_time": "2025-03-10T15:00:27.991138",
     "exception": false,
     "start_time": "2025-03-10T15:00:27.973953",
     "status": "completed"
    },
    "tags": []
   },
   "outputs": [],
   "source": [
    "#q3.hint()\n",
    "#q3.solution()"
   ]
  },
  {
   "cell_type": "markdown",
   "id": "d7319648",
   "metadata": {
    "papermill": {
     "duration": 0.008758,
     "end_time": "2025-03-10T15:00:28.009012",
     "exception": false,
     "start_time": "2025-03-10T15:00:28.000254",
     "status": "completed"
    },
    "tags": []
   },
   "source": [
    "# 4.\n",
    "\n",
    "The function `is_negative` below is implemented correctly - it returns True if the given number is negative and False otherwise.\n",
    "\n",
    "However, it's more verbose than it needs to be. We can actually reduce the number of lines of code in this function by *75%* while keeping the same behaviour. \n",
    "\n",
    "See if you can come up with an equivalent body that uses just **one line** of code, and put it in the function `concise_is_negative`. (HINT: you don't even need Python's ternary syntax)"
   ]
  },
  {
   "cell_type": "code",
   "execution_count": 10,
   "id": "f7616d29",
   "metadata": {
    "execution": {
     "iopub.execute_input": "2025-03-10T15:00:28.027654Z",
     "iopub.status.busy": "2025-03-10T15:00:28.027247Z",
     "iopub.status.idle": "2025-03-10T15:00:28.035770Z",
     "shell.execute_reply": "2025-03-10T15:00:28.034652Z"
    },
    "papermill": {
     "duration": 0.019876,
     "end_time": "2025-03-10T15:00:28.037574",
     "exception": false,
     "start_time": "2025-03-10T15:00:28.017698",
     "status": "completed"
    },
    "tags": []
   },
   "outputs": [
    {
     "data": {
      "application/javascript": [
       "parent.postMessage({\"jupyterEvent\": \"custom.exercise_interaction\", \"data\": {\"outcomeType\": 1, \"valueTowardsCompletion\": 0.2, \"interactionType\": 1, \"questionType\": 2, \"questionId\": \"4_ConciseIsNegative\", \"learnToolsVersion\": \"0.3.4\", \"failureMessage\": \"\", \"exceptionClass\": \"\", \"trace\": \"\"}}, \"*\")"
      ],
      "text/plain": [
       "<IPython.core.display.Javascript object>"
      ]
     },
     "metadata": {},
     "output_type": "display_data"
    },
    {
     "data": {
      "text/markdown": [
       "<span style=\"color:#33cc33\">Correct</span>"
      ],
      "text/plain": [
       "Correct"
      ]
     },
     "metadata": {},
     "output_type": "display_data"
    }
   ],
   "source": [
    "def is_negative(number):\n",
    "    if number < 0:\n",
    "        return True\n",
    "    else:\n",
    "        return False\n",
    "\n",
    "def concise_is_negative(number):\n",
    "    return True if number < 0 else False\n",
    "    \n",
    "    pass # Your code goes here (try to keep it to one line!)\n",
    "\n",
    "# Check your answer\n",
    "q4.check()"
   ]
  },
  {
   "cell_type": "code",
   "execution_count": 11,
   "id": "763ba34c",
   "metadata": {
    "execution": {
     "iopub.execute_input": "2025-03-10T15:00:28.057128Z",
     "iopub.status.busy": "2025-03-10T15:00:28.056688Z",
     "iopub.status.idle": "2025-03-10T15:00:28.061957Z",
     "shell.execute_reply": "2025-03-10T15:00:28.060581Z"
    },
    "papermill": {
     "duration": 0.017071,
     "end_time": "2025-03-10T15:00:28.063812",
     "exception": false,
     "start_time": "2025-03-10T15:00:28.046741",
     "status": "completed"
    },
    "tags": []
   },
   "outputs": [],
   "source": [
    "#q4.hint()\n",
    "#q4.solution()"
   ]
  },
  {
   "cell_type": "markdown",
   "id": "eed929d9",
   "metadata": {
    "papermill": {
     "duration": 0.00845,
     "end_time": "2025-03-10T15:00:28.081392",
     "exception": false,
     "start_time": "2025-03-10T15:00:28.072942",
     "status": "completed"
    },
    "tags": []
   },
   "source": [
    "# 5a.\n",
    "\n",
    "The boolean variables `ketchup`, `mustard` and `onion` represent whether a customer wants a particular topping on their hot dog. We want to implement a number of boolean functions that correspond to some yes-or-no questions about the customer's order. For example:"
   ]
  },
  {
   "cell_type": "code",
   "execution_count": 12,
   "id": "00d3ba3f",
   "metadata": {
    "execution": {
     "iopub.execute_input": "2025-03-10T15:00:28.100362Z",
     "iopub.status.busy": "2025-03-10T15:00:28.099997Z",
     "iopub.status.idle": "2025-03-10T15:00:28.104511Z",
     "shell.execute_reply": "2025-03-10T15:00:28.103270Z"
    },
    "papermill": {
     "duration": 0.016313,
     "end_time": "2025-03-10T15:00:28.106477",
     "exception": false,
     "start_time": "2025-03-10T15:00:28.090164",
     "status": "completed"
    },
    "tags": []
   },
   "outputs": [],
   "source": [
    "def onionless(ketchup, mustard, onion):\n",
    "    \"\"\"Return whether the customer doesn't want onions.\n",
    "    \"\"\"\n",
    "    return not onion"
   ]
  },
  {
   "cell_type": "code",
   "execution_count": 13,
   "id": "041782d1",
   "metadata": {
    "execution": {
     "iopub.execute_input": "2025-03-10T15:00:28.126724Z",
     "iopub.status.busy": "2025-03-10T15:00:28.126345Z",
     "iopub.status.idle": "2025-03-10T15:00:28.133843Z",
     "shell.execute_reply": "2025-03-10T15:00:28.132872Z"
    },
    "papermill": {
     "duration": 0.019229,
     "end_time": "2025-03-10T15:00:28.135555",
     "exception": false,
     "start_time": "2025-03-10T15:00:28.116326",
     "status": "completed"
    },
    "tags": []
   },
   "outputs": [
    {
     "data": {
      "application/javascript": [
       "parent.postMessage({\"jupyterEvent\": \"custom.exercise_interaction\", \"data\": {\"outcomeType\": 1, \"valueTowardsCompletion\": 0.2, \"interactionType\": 1, \"questionType\": 2, \"questionId\": \"5.1_AllToppings\", \"learnToolsVersion\": \"0.3.4\", \"failureMessage\": \"\", \"exceptionClass\": \"\", \"trace\": \"\"}}, \"*\")"
      ],
      "text/plain": [
       "<IPython.core.display.Javascript object>"
      ]
     },
     "metadata": {},
     "output_type": "display_data"
    },
    {
     "data": {
      "text/markdown": [
       "<span style=\"color:#33cc33\">Correct</span>"
      ],
      "text/plain": [
       "Correct"
      ]
     },
     "metadata": {},
     "output_type": "display_data"
    }
   ],
   "source": [
    "def wants_all_toppings(ketchup, mustard, onion):\n",
    "    \"\"\"Return whether the customer wants \"the works\" (all 3 toppings)\n",
    "    \"\"\"\n",
    "    return ketchup and mustard and onion is True\n",
    "\n",
    "# Check your answer\n",
    "q5.a.check()"
   ]
  },
  {
   "cell_type": "code",
   "execution_count": 14,
   "id": "c9b8c8bb",
   "metadata": {
    "execution": {
     "iopub.execute_input": "2025-03-10T15:00:28.154822Z",
     "iopub.status.busy": "2025-03-10T15:00:28.154420Z",
     "iopub.status.idle": "2025-03-10T15:00:28.158352Z",
     "shell.execute_reply": "2025-03-10T15:00:28.157262Z"
    },
    "papermill": {
     "duration": 0.015391,
     "end_time": "2025-03-10T15:00:28.160092",
     "exception": false,
     "start_time": "2025-03-10T15:00:28.144701",
     "status": "completed"
    },
    "tags": []
   },
   "outputs": [],
   "source": [
    "#q5.a.hint()\n",
    "#q5.a.solution()"
   ]
  },
  {
   "cell_type": "markdown",
   "id": "836149c2",
   "metadata": {
    "papermill": {
     "duration": 0.009285,
     "end_time": "2025-03-10T15:00:28.179207",
     "exception": false,
     "start_time": "2025-03-10T15:00:28.169922",
     "status": "completed"
    },
    "tags": []
   },
   "source": [
    "# 5b.\n",
    "\n",
    "For the next function, fill in the body to match the English description in the docstring. "
   ]
  },
  {
   "cell_type": "code",
   "execution_count": 15,
   "id": "dc47f0ef",
   "metadata": {
    "execution": {
     "iopub.execute_input": "2025-03-10T15:00:28.198980Z",
     "iopub.status.busy": "2025-03-10T15:00:28.198605Z",
     "iopub.status.idle": "2025-03-10T15:00:28.206087Z",
     "shell.execute_reply": "2025-03-10T15:00:28.205116Z"
    },
    "papermill": {
     "duration": 0.019251,
     "end_time": "2025-03-10T15:00:28.207717",
     "exception": false,
     "start_time": "2025-03-10T15:00:28.188466",
     "status": "completed"
    },
    "tags": []
   },
   "outputs": [
    {
     "data": {
      "application/javascript": [
       "parent.postMessage({\"jupyterEvent\": \"custom.exercise_interaction\", \"data\": {\"outcomeType\": 1, \"valueTowardsCompletion\": 0.2, \"interactionType\": 1, \"questionType\": 2, \"questionId\": \"5.2_PlainDog\", \"learnToolsVersion\": \"0.3.4\", \"failureMessage\": \"\", \"exceptionClass\": \"\", \"trace\": \"\"}}, \"*\")"
      ],
      "text/plain": [
       "<IPython.core.display.Javascript object>"
      ]
     },
     "metadata": {},
     "output_type": "display_data"
    },
    {
     "data": {
      "text/markdown": [
       "<span style=\"color:#33cc33\">Correct:</span> \n",
       "\n",
       "One solution looks like:\n",
       "```python\n",
       "return not ketchup and not mustard and not onion\n",
       "```\n",
       "\n",
       "We can also [\"factor out\" the nots](https://en.wikipedia.org/wiki/De_Morgan%27s_laws) to get:\n",
       "\n",
       "```python\n",
       "return not (ketchup or mustard or onion)\n",
       "```"
      ],
      "text/plain": [
       "Correct: \n",
       "\n",
       "One solution looks like:\n",
       "```python\n",
       "return not ketchup and not mustard and not onion\n",
       "```\n",
       "\n",
       "We can also [\"factor out\" the nots](https://en.wikipedia.org/wiki/De_Morgan%27s_laws) to get:\n",
       "\n",
       "```python\n",
       "return not (ketchup or mustard or onion)\n",
       "```"
      ]
     },
     "metadata": {},
     "output_type": "display_data"
    }
   ],
   "source": [
    "def wants_plain_hotdog(ketchup, mustard, onion):\n",
    "    \"\"\"Return whether the customer wants a plain hot dog with no toppings.\n",
    "    \"\"\"\n",
    "    return not ketchup and not mustard and not onion\n",
    "# Check your answer\n",
    "q5.b.check()"
   ]
  },
  {
   "cell_type": "code",
   "execution_count": 16,
   "id": "00f25e8a",
   "metadata": {
    "execution": {
     "iopub.execute_input": "2025-03-10T15:00:28.228397Z",
     "iopub.status.busy": "2025-03-10T15:00:28.228039Z",
     "iopub.status.idle": "2025-03-10T15:00:28.232016Z",
     "shell.execute_reply": "2025-03-10T15:00:28.230891Z"
    },
    "papermill": {
     "duration": 0.016373,
     "end_time": "2025-03-10T15:00:28.233687",
     "exception": false,
     "start_time": "2025-03-10T15:00:28.217314",
     "status": "completed"
    },
    "tags": []
   },
   "outputs": [],
   "source": [
    "#q5.b.hint()\n",
    "# q5.b.solution()"
   ]
  },
  {
   "cell_type": "markdown",
   "id": "46f13f7c",
   "metadata": {
    "papermill": {
     "duration": 0.010157,
     "end_time": "2025-03-10T15:00:28.253664",
     "exception": false,
     "start_time": "2025-03-10T15:00:28.243507",
     "status": "completed"
    },
    "tags": []
   },
   "source": [
    "# 5c.\n",
    "\n",
    "You know what to do: for the next function, fill in the body to match the English description in the docstring."
   ]
  },
  {
   "cell_type": "code",
   "execution_count": 17,
   "id": "8aa2767e",
   "metadata": {
    "execution": {
     "iopub.execute_input": "2025-03-10T15:00:28.273574Z",
     "iopub.status.busy": "2025-03-10T15:00:28.273169Z",
     "iopub.status.idle": "2025-03-10T15:00:28.281045Z",
     "shell.execute_reply": "2025-03-10T15:00:28.280068Z"
    },
    "papermill": {
     "duration": 0.019672,
     "end_time": "2025-03-10T15:00:28.282673",
     "exception": false,
     "start_time": "2025-03-10T15:00:28.263001",
     "status": "completed"
    },
    "tags": []
   },
   "outputs": [
    {
     "data": {
      "application/javascript": [
       "parent.postMessage({\"jupyterEvent\": \"custom.exercise_interaction\", \"data\": {\"outcomeType\": 1, \"valueTowardsCompletion\": 0.2, \"interactionType\": 1, \"questionType\": 2, \"questionId\": \"5.3_OneSauce\", \"learnToolsVersion\": \"0.3.4\", \"failureMessage\": \"\", \"exceptionClass\": \"\", \"trace\": \"\"}}, \"*\")"
      ],
      "text/plain": [
       "<IPython.core.display.Javascript object>"
      ]
     },
     "metadata": {},
     "output_type": "display_data"
    },
    {
     "data": {
      "text/markdown": [
       "<span style=\"color:#33cc33\">Correct</span>"
      ],
      "text/plain": [
       "Correct"
      ]
     },
     "metadata": {},
     "output_type": "display_data"
    }
   ],
   "source": [
    "def exactly_one_sauce(ketchup, mustard, onion):\n",
    "    \"\"\"Return whether the customer wants either ketchup or mustard, but not both.\n",
    "    (You may be familiar with this operation under the name \"exclusive or\")\n",
    "    \"\"\"\n",
    "    return (ketchup and not mustard) or (mustard and not ketchup)\n",
    "# Check your answer\n",
    "q5.c.check()"
   ]
  },
  {
   "cell_type": "code",
   "execution_count": 18,
   "id": "96249a62",
   "metadata": {
    "execution": {
     "iopub.execute_input": "2025-03-10T15:00:28.303508Z",
     "iopub.status.busy": "2025-03-10T15:00:28.303141Z",
     "iopub.status.idle": "2025-03-10T15:00:28.306825Z",
     "shell.execute_reply": "2025-03-10T15:00:28.305826Z"
    },
    "papermill": {
     "duration": 0.016078,
     "end_time": "2025-03-10T15:00:28.308507",
     "exception": false,
     "start_time": "2025-03-10T15:00:28.292429",
     "status": "completed"
    },
    "tags": []
   },
   "outputs": [],
   "source": [
    "#q5.c.hint()\n",
    "# q5.c.solution()"
   ]
  },
  {
   "cell_type": "markdown",
   "id": "123f5a31",
   "metadata": {
    "papermill": {
     "duration": 0.009181,
     "end_time": "2025-03-10T15:00:28.327873",
     "exception": false,
     "start_time": "2025-03-10T15:00:28.318692",
     "status": "completed"
    },
    "tags": []
   },
   "source": [
    "# 6. <span title=\"A bit spicy\" style=\"color: darkgreen \">🌶️</span>\n",
    "\n",
    "We’ve seen that calling `bool()` on an integer returns `False` if it’s equal to 0 and `True` otherwise. What happens if we call `int()` on a bool? Try it out in the notebook cell below.\n",
    "\n",
    "Can you take advantage of this to write a succinct function that corresponds to the English sentence \"does the customer want exactly one topping?\"?"
   ]
  },
  {
   "cell_type": "code",
   "execution_count": 19,
   "id": "5ceeeb55",
   "metadata": {
    "execution": {
     "iopub.execute_input": "2025-03-10T15:00:28.348182Z",
     "iopub.status.busy": "2025-03-10T15:00:28.347743Z",
     "iopub.status.idle": "2025-03-10T15:00:28.355929Z",
     "shell.execute_reply": "2025-03-10T15:00:28.354657Z"
    },
    "papermill": {
     "duration": 0.020438,
     "end_time": "2025-03-10T15:00:28.357676",
     "exception": false,
     "start_time": "2025-03-10T15:00:28.337238",
     "status": "completed"
    },
    "tags": []
   },
   "outputs": [
    {
     "data": {
      "application/javascript": [
       "parent.postMessage({\"jupyterEvent\": \"custom.exercise_interaction\", \"data\": {\"outcomeType\": 1, \"valueTowardsCompletion\": 0.2, \"interactionType\": 1, \"questionType\": 2, \"questionId\": \"6_OneTopping\", \"learnToolsVersion\": \"0.3.4\", \"failureMessage\": \"\", \"exceptionClass\": \"\", \"trace\": \"\"}}, \"*\")"
      ],
      "text/plain": [
       "<IPython.core.display.Javascript object>"
      ]
     },
     "metadata": {},
     "output_type": "display_data"
    },
    {
     "data": {
      "text/markdown": [
       "<span style=\"color:#33cc33\">Correct:</span> \n",
       "\n",
       "This condition would be pretty complicated to express using just `and`, `or` and `not`, but using boolean-to-integer conversion gives us this short solution:\n",
       "```python\n",
       "return (int(ketchup) + int(mustard) + int(onion)) == 1\n",
       "```\n",
       "\n",
       "Fun fact: we don't technically need to call `int` on the arguments. Just by doing addition with booleans, Python implicitly does the integer conversion. So we could also write...\n",
       "\n",
       "```python\n",
       "return (ketchup + mustard + onion) == 1\n",
       "```"
      ],
      "text/plain": [
       "Correct: \n",
       "\n",
       "This condition would be pretty complicated to express using just `and`, `or` and `not`, but using boolean-to-integer conversion gives us this short solution:\n",
       "```python\n",
       "return (int(ketchup) + int(mustard) + int(onion)) == 1\n",
       "```\n",
       "\n",
       "Fun fact: we don't technically need to call `int` on the arguments. Just by doing addition with booleans, Python implicitly does the integer conversion. So we could also write...\n",
       "\n",
       "```python\n",
       "return (ketchup + mustard + onion) == 1\n",
       "```"
      ]
     },
     "metadata": {},
     "output_type": "display_data"
    }
   ],
   "source": [
    "def exactly_one_topping(ketchup, mustard, onion):\n",
    "    \"\"\"Return whether the customer wants exactly one of the three available toppings\n",
    "    on their hot dog.\n",
    "    \"\"\"\n",
    "    return (ketchup + mustard + onion) == 1\n",
    "\n",
    "# Check your answer\n",
    "q6.check()"
   ]
  },
  {
   "cell_type": "code",
   "execution_count": 20,
   "id": "c44680c3",
   "metadata": {
    "execution": {
     "iopub.execute_input": "2025-03-10T15:00:28.379677Z",
     "iopub.status.busy": "2025-03-10T15:00:28.379289Z",
     "iopub.status.idle": "2025-03-10T15:00:28.383127Z",
     "shell.execute_reply": "2025-03-10T15:00:28.381995Z"
    },
    "papermill": {
     "duration": 0.017095,
     "end_time": "2025-03-10T15:00:28.384923",
     "exception": false,
     "start_time": "2025-03-10T15:00:28.367828",
     "status": "completed"
    },
    "tags": []
   },
   "outputs": [],
   "source": [
    "#q6.hint()\n",
    "# q6.solution()"
   ]
  },
  {
   "cell_type": "markdown",
   "id": "5113aa10",
   "metadata": {
    "papermill": {
     "duration": 0.009519,
     "end_time": "2025-03-10T15:00:28.404288",
     "exception": false,
     "start_time": "2025-03-10T15:00:28.394769",
     "status": "completed"
    },
    "tags": []
   },
   "source": [
    "# 7. <span title=\"A bit spicy\" style=\"color: darkgreen \">🌶️</span> (Optional)\n",
    "\n",
    "In this problem we'll be working with a simplified version of [blackjack](https://en.wikipedia.org/wiki/Blackjack) (aka twenty-one). In this version there is one player (who you'll control) and a dealer. Play proceeds as follows:\n",
    "\n",
    "- The player is dealt two face-up cards. The dealer is dealt one face-up card.\n",
    "- The player may ask to be dealt another card ('hit') as many times as they wish. If the sum of their cards exceeds 21, they lose the round immediately.\n",
    "- The dealer then deals additional cards to himself until either:\n",
    "    - the sum of the dealer's cards exceeds 21, in which case the player wins the round\n",
    "    - the sum of the dealer's cards is greater than or equal to 17. If the player's total is greater than the dealer's, the player wins. Otherwise, the dealer wins (even in case of a tie).\n",
    "    \n",
    "When calculating the sum of cards, Jack, Queen, and King count for 10. Aces can count as 1 or 11 (when referring to a player's \"total\" above, we mean the largest total that can be made without exceeding 21. So e.g. A+8 = 19, A+8+8 = 17)\n",
    "\n",
    "For this problem, you'll write a function representing the player's decision-making strategy in this game. We've provided a very unintelligent implementation below:"
   ]
  },
  {
   "cell_type": "code",
   "execution_count": 21,
   "id": "8878b91f",
   "metadata": {
    "execution": {
     "iopub.execute_input": "2025-03-10T15:00:28.425199Z",
     "iopub.status.busy": "2025-03-10T15:00:28.424825Z",
     "iopub.status.idle": "2025-03-10T15:00:28.429190Z",
     "shell.execute_reply": "2025-03-10T15:00:28.427979Z"
    },
    "papermill": {
     "duration": 0.016847,
     "end_time": "2025-03-10T15:00:28.430830",
     "exception": false,
     "start_time": "2025-03-10T15:00:28.413983",
     "status": "completed"
    },
    "tags": []
   },
   "outputs": [],
   "source": [
    "def should_hit(dealer_total, player_total, player_low_aces, player_high_aces):\n",
    "    \"\"\"Return True if the player should hit (request another card) given the current game\n",
    "    state, or False if the player should stay.\n",
    "    When calculating a hand's total value, we count aces as \"high\" (with value 11) if doing so\n",
    "    doesn't bring the total above 21, otherwise we count them as low (with value 1). \n",
    "    For example, if the player's hand is {A, A, A, 7}, we will count it as 11 + 1 + 1 + 7,\n",
    "    and therefore set player_total=20, player_low_aces=2, player_high_aces=1.\n",
    "    \"\"\"\n",
    "    return False"
   ]
  },
  {
   "cell_type": "markdown",
   "id": "81adce90",
   "metadata": {
    "papermill": {
     "duration": 0.009547,
     "end_time": "2025-03-10T15:00:28.450495",
     "exception": false,
     "start_time": "2025-03-10T15:00:28.440948",
     "status": "completed"
    },
    "tags": []
   },
   "source": [
    "This very conservative agent *always* sticks with the hand of two cards that they're dealt.\n",
    "\n",
    "We'll be simulating games between your player agent and our own dealer agent by calling your function.\n",
    "\n",
    "Try running the function below to see an example of a simulated game:"
   ]
  },
  {
   "cell_type": "code",
   "execution_count": 22,
   "id": "869c999d",
   "metadata": {
    "execution": {
     "iopub.execute_input": "2025-03-10T15:00:28.471271Z",
     "iopub.status.busy": "2025-03-10T15:00:28.470914Z",
     "iopub.status.idle": "2025-03-10T15:00:28.477630Z",
     "shell.execute_reply": "2025-03-10T15:00:28.476566Z"
    },
    "papermill": {
     "duration": 0.01907,
     "end_time": "2025-03-10T15:00:28.479348",
     "exception": false,
     "start_time": "2025-03-10T15:00:28.460278",
     "status": "completed"
    },
    "tags": []
   },
   "outputs": [
    {
     "name": "stdout",
     "output_type": "stream",
     "text": [
      "Player starts with 7 and 10 (total = 17)\n",
      "Dealer starts with 4\n",
      "\n",
      "__Player's turn__\n",
      "Player stays\n",
      "\n",
      "__Dealer's turn__\n",
      "Dealer hits and receives 7. (total = 11)\n",
      "Dealer hits and receives 2. (total = 13)\n",
      "Dealer hits and receives 3. (total = 16)\n",
      "Dealer hits and receives J. (total = 26)\n",
      "Dealer busts! Player wins.\n"
     ]
    }
   ],
   "source": [
    "q7.simulate_one_game()"
   ]
  },
  {
   "cell_type": "markdown",
   "id": "75cc8bc9",
   "metadata": {
    "papermill": {
     "duration": 0.009791,
     "end_time": "2025-03-10T15:00:28.499820",
     "exception": false,
     "start_time": "2025-03-10T15:00:28.490029",
     "status": "completed"
    },
    "tags": []
   },
   "source": [
    "The real test of your agent's mettle is their average win rate over many games. Try calling the function below to simulate 50000 games of blackjack (it may take a couple seconds):"
   ]
  },
  {
   "cell_type": "code",
   "execution_count": 23,
   "id": "b69d9059",
   "metadata": {
    "execution": {
     "iopub.execute_input": "2025-03-10T15:00:28.521297Z",
     "iopub.status.busy": "2025-03-10T15:00:28.520921Z",
     "iopub.status.idle": "2025-03-10T15:00:29.605687Z",
     "shell.execute_reply": "2025-03-10T15:00:29.604348Z"
    },
    "papermill": {
     "duration": 1.097872,
     "end_time": "2025-03-10T15:00:29.607690",
     "exception": false,
     "start_time": "2025-03-10T15:00:28.509818",
     "status": "completed"
    },
    "tags": []
   },
   "outputs": [
    {
     "name": "stdout",
     "output_type": "stream",
     "text": [
      "Player won 19138 out of 50000 games (win rate = 38.3%)\n"
     ]
    }
   ],
   "source": [
    "q7.simulate(n_games=50000)"
   ]
  },
  {
   "cell_type": "markdown",
   "id": "7328bca4",
   "metadata": {
    "papermill": {
     "duration": 0.010287,
     "end_time": "2025-03-10T15:00:29.628758",
     "exception": false,
     "start_time": "2025-03-10T15:00:29.618471",
     "status": "completed"
    },
    "tags": []
   },
   "source": [
    "Our dumb agent that completely ignores the game state still manages to win shockingly often!\n",
    "\n",
    "Try adding some more smarts to the `should_hit` function and see how it affects the results."
   ]
  },
  {
   "cell_type": "code",
   "execution_count": 24,
   "id": "968991c7",
   "metadata": {
    "execution": {
     "iopub.execute_input": "2025-03-10T15:00:29.651720Z",
     "iopub.status.busy": "2025-03-10T15:00:29.651286Z",
     "iopub.status.idle": "2025-03-10T15:00:30.783912Z",
     "shell.execute_reply": "2025-03-10T15:00:30.782082Z"
    },
    "papermill": {
     "duration": 1.146411,
     "end_time": "2025-03-10T15:00:30.786078",
     "exception": false,
     "start_time": "2025-03-10T15:00:29.639667",
     "status": "completed"
    },
    "tags": []
   },
   "outputs": [
    {
     "name": "stdout",
     "output_type": "stream",
     "text": [
      "Player won 19012 out of 50000 games (win rate = 38.0%)\n"
     ]
    }
   ],
   "source": [
    "def should_hit(dealer_total, player_total, player_low_aces, player_high_aces):\n",
    "    \"\"\"Return True if the player should hit (request another card) given the current game\n",
    "    state, or False if the player should stay.\n",
    "    When calculating a hand's total value, we count aces as \"high\" (with value 11) if doing so\n",
    "    doesn't bring the total above 21, otherwise we count them as low (with value 1). \n",
    "    For example, if the player's hand is {A, A, A, 7}, we will count it as 11 + 1 + 1 + 7,\n",
    "    and therefore set player_total=20, player_low_aces=2, player_high_aces=1.\n",
    "    \"\"\"\n",
    "    return False\n",
    "\n",
    "q7.simulate(n_games=50000)"
   ]
  },
  {
   "cell_type": "markdown",
   "id": "bc21fa69",
   "metadata": {
    "papermill": {
     "duration": 0.009848,
     "end_time": "2025-03-10T15:00:30.806329",
     "exception": false,
     "start_time": "2025-03-10T15:00:30.796481",
     "status": "completed"
    },
    "tags": []
   },
   "source": [
    "# Keep Going\n",
    "\n",
    "Learn about **[lists and tuples](https://www.kaggle.com/colinmorris/lists)** to handle multiple items of data in a systematic way."
   ]
  },
  {
   "cell_type": "markdown",
   "id": "8b4bd280",
   "metadata": {
    "papermill": {
     "duration": 0.009689,
     "end_time": "2025-03-10T15:00:30.826015",
     "exception": false,
     "start_time": "2025-03-10T15:00:30.816326",
     "status": "completed"
    },
    "tags": []
   },
   "source": [
    "---\n",
    "\n",
    "\n",
    "\n",
    "\n",
    "*Have questions or comments? Visit the [course discussion forum](https://www.kaggle.com/learn/python/discussion) to chat with other learners.*"
   ]
  }
 ],
 "metadata": {
  "kaggle": {
   "accelerator": "none",
   "dataSources": [],
   "isGpuEnabled": false,
   "isInternetEnabled": false,
   "language": "python",
   "sourceType": "notebook"
  },
  "kernelspec": {
   "display_name": "Python 3",
   "language": "python",
   "name": "python3"
  },
  "language_info": {
   "codemirror_mode": {
    "name": "ipython",
    "version": 3
   },
   "file_extension": ".py",
   "mimetype": "text/x-python",
   "name": "python",
   "nbconvert_exporter": "python",
   "pygments_lexer": "ipython3",
   "version": "3.10.12"
  },
  "learntools_metadata": {
   "lesson_index": 2,
   "type": "exercise"
  },
  "papermill": {
   "default_parameters": {},
   "duration": 7.966997,
   "end_time": "2025-03-10T15:00:31.456033",
   "environment_variables": {},
   "exception": null,
   "input_path": "__notebook__.ipynb",
   "output_path": "__notebook__.ipynb",
   "parameters": {},
   "start_time": "2025-03-10T15:00:23.489036",
   "version": "2.6.0"
  }
 },
 "nbformat": 4,
 "nbformat_minor": 5
}
