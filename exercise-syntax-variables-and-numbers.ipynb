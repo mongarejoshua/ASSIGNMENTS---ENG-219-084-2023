{
 "cells": [
  {
   "cell_type": "markdown",
   "id": "6d45beef",
   "metadata": {
    "papermill": {
     "duration": 0.006925,
     "end_time": "2025-03-10T15:06:55.655085",
     "exception": false,
     "start_time": "2025-03-10T15:06:55.648160",
     "status": "completed"
    },
    "tags": []
   },
   "source": [
    "**This notebook is an exercise in the [Python](https://www.kaggle.com/learn/python) course.  You can reference the tutorial at [this link](https://www.kaggle.com/colinmorris/hello-python).**\n",
    "\n",
    "---\n"
   ]
  },
  {
   "cell_type": "markdown",
   "id": "f8602db4",
   "metadata": {
    "papermill": {
     "duration": 0.005824,
     "end_time": "2025-03-10T15:06:55.666818",
     "exception": false,
     "start_time": "2025-03-10T15:06:55.660994",
     "status": "completed"
    },
    "tags": []
   },
   "source": [
    "**ENG-219-084/2023**"
   ]
  },
  {
   "cell_type": "markdown",
   "id": "7a0a35d5",
   "metadata": {
    "papermill": {
     "duration": 0.005657,
     "end_time": "2025-03-10T15:06:55.678572",
     "exception": false,
     "start_time": "2025-03-10T15:06:55.672915",
     "status": "completed"
    },
    "tags": []
   },
   "source": [
    "Welcome to your first set of Python coding problems.  If this is your first time using Kaggle Notebooks, welcome! \n",
    "\n",
    "Notebooks are composed of blocks (called \"cells\") of text and code. Each of these is editable, though you'll mainly be editing the code cells to answer some questions.\n",
    "\n",
    "To get started, try running the code cell below (by pressing the ► button, or clicking on the cell and pressing ctrl+enter on your keyboard)."
   ]
  },
  {
   "cell_type": "code",
   "execution_count": 1,
   "id": "405d6fe2",
   "metadata": {
    "execution": {
     "iopub.execute_input": "2025-03-10T15:06:55.693089Z",
     "iopub.status.busy": "2025-03-10T15:06:55.692556Z",
     "iopub.status.idle": "2025-03-10T15:06:55.700700Z",
     "shell.execute_reply": "2025-03-10T15:06:55.699374Z"
    },
    "papermill": {
     "duration": 0.017991,
     "end_time": "2025-03-10T15:06:55.702283",
     "exception": false,
     "start_time": "2025-03-10T15:06:55.684292",
     "status": "completed"
    },
    "tags": []
   },
   "outputs": [
    {
     "name": "stdout",
     "output_type": "stream",
     "text": [
      "You've successfully run some Python code\n",
      "Congratulations!\n"
     ]
    }
   ],
   "source": [
    "print(\"You've successfully run some Python code\")\n",
    "print(\"Congratulations!\")"
   ]
  },
  {
   "cell_type": "markdown",
   "id": "690853b2",
   "metadata": {
    "papermill": {
     "duration": 0.00611,
     "end_time": "2025-03-10T15:06:55.714520",
     "exception": false,
     "start_time": "2025-03-10T15:06:55.708410",
     "status": "completed"
    },
    "tags": []
   },
   "source": [
    "Try adding another line of code in the cell above and re-running it. \n",
    "\n",
    "Now let's get a little fancier:  Add a new code cell by clicking on an existing code cell, hitting the escape key, and then hitting the `a` or `b` key.  The `a` key will add a cell above the current cell, and `b` adds a cell below.\n",
    "\n",
    "Great! Now you know how to use Notebooks.\n",
    "\n",
    "Each hands-on exercise starts by setting up our feedback and code checking mechanism. Run the code cell below to do that. Then you'll be ready to move on to question 0."
   ]
  },
  {
   "cell_type": "code",
   "execution_count": 2,
   "id": "cbf29256",
   "metadata": {
    "_kg_hide-input": true,
    "_kg_hide-output": true,
    "execution": {
     "iopub.execute_input": "2025-03-10T15:06:55.727801Z",
     "iopub.status.busy": "2025-03-10T15:06:55.727448Z",
     "iopub.status.idle": "2025-03-10T15:06:56.768386Z",
     "shell.execute_reply": "2025-03-10T15:06:56.766881Z"
    },
    "papermill": {
     "duration": 1.049871,
     "end_time": "2025-03-10T15:06:56.770502",
     "exception": false,
     "start_time": "2025-03-10T15:06:55.720631",
     "status": "completed"
    },
    "tags": []
   },
   "outputs": [
    {
     "name": "stdout",
     "output_type": "stream",
     "text": [
      "Setup complete! You're ready to start question 0.\n"
     ]
    }
   ],
   "source": [
    "from learntools.core import binder; binder.bind(globals())\n",
    "from learntools.python.ex1 import *\n",
    "print(\"Setup complete! You're ready to start question 0.\")"
   ]
  },
  {
   "cell_type": "markdown",
   "id": "fba93155",
   "metadata": {
    "papermill": {
     "duration": 0.00603,
     "end_time": "2025-03-10T15:06:56.783411",
     "exception": false,
     "start_time": "2025-03-10T15:06:56.777381",
     "status": "completed"
    },
    "tags": []
   },
   "source": [
    "# 0.\n",
    "\n",
    "*This is a silly question intended as an introduction to the format we use for hands-on exercises throughout all Kaggle courses.*\n",
    "\n",
    "**What is your favorite color? **\n",
    "\n",
    "To complete this question, create a variable called `color` in the cell below with an appropriate value. The function call `q0.check()` (which we've already provided in the cell below) will check your answer."
   ]
  },
  {
   "cell_type": "code",
   "execution_count": 3,
   "id": "b215f8f9",
   "metadata": {
    "execution": {
     "iopub.execute_input": "2025-03-10T15:06:56.797211Z",
     "iopub.status.busy": "2025-03-10T15:06:56.796704Z",
     "iopub.status.idle": "2025-03-10T15:06:56.805484Z",
     "shell.execute_reply": "2025-03-10T15:06:56.804333Z"
    },
    "papermill": {
     "duration": 0.018053,
     "end_time": "2025-03-10T15:06:56.807369",
     "exception": false,
     "start_time": "2025-03-10T15:06:56.789316",
     "status": "completed"
    },
    "tags": []
   },
   "outputs": [
    {
     "data": {
      "application/javascript": [
       "parent.postMessage({\"jupyterEvent\": \"custom.exercise_interaction\", \"data\": {\"outcomeType\": 1, \"valueTowardsCompletion\": 0.25, \"interactionType\": 1, \"questionType\": 2, \"questionId\": \"0_ExerciseFormatTutorial\", \"learnToolsVersion\": \"0.3.4\", \"failureMessage\": \"\", \"exceptionClass\": \"\", \"trace\": \"\"}}, \"*\")"
      ],
      "text/plain": [
       "<IPython.core.display.Javascript object>"
      ]
     },
     "metadata": {},
     "output_type": "display_data"
    },
    {
     "data": {
      "text/markdown": [
       "<span style=\"color:#33cc33\">Correct:</span> What?! You got it right without needing a hint or anything? Drats. Well hey, you should still continue to the next step to get some practice asking for a hint and checking solutions. (Even though you obviously don't need any help here.)"
      ],
      "text/plain": [
       "Correct: What?! You got it right without needing a hint or anything? Drats. Well hey, you should still continue to the next step to get some practice asking for a hint and checking solutions. (Even though you obviously don't need any help here.)"
      ]
     },
     "metadata": {},
     "output_type": "display_data"
    }
   ],
   "source": [
    "# create a variable called color with an appropriate value on the line below\n",
    "# (Remember, strings in Python must be enclosed in 'single' or \"double\" quotes)\n",
    "color = 'blue'\n",
    "\n",
    "# Check your answer\n",
    "q0.check()"
   ]
  },
  {
   "cell_type": "markdown",
   "id": "6a85c9f1",
   "metadata": {
    "papermill": {
     "duration": 0.005778,
     "end_time": "2025-03-10T15:06:56.819801",
     "exception": false,
     "start_time": "2025-03-10T15:06:56.814023",
     "status": "completed"
    },
    "tags": []
   },
   "source": [
    "Didn't get the right answer? How do you not even know your own favorite color?!\n",
    "\n",
    "Delete the `#` in the line below to make one of the lines run. You can choose between getting a hint or the full answer by choosing which line to remove the `#` from. \n",
    "\n",
    "Removing the `#` is called uncommenting, because it changes that line from a \"comment\" which Python doesn't run to code, which Python does run."
   ]
  },
  {
   "cell_type": "code",
   "execution_count": 4,
   "id": "8ae5f0d6",
   "metadata": {
    "execution": {
     "iopub.execute_input": "2025-03-10T15:06:56.835237Z",
     "iopub.status.busy": "2025-03-10T15:06:56.834816Z",
     "iopub.status.idle": "2025-03-10T15:06:56.846381Z",
     "shell.execute_reply": "2025-03-10T15:06:56.844929Z"
    },
    "papermill": {
     "duration": 0.020944,
     "end_time": "2025-03-10T15:06:56.848411",
     "exception": false,
     "start_time": "2025-03-10T15:06:56.827467",
     "status": "completed"
    },
    "tags": []
   },
   "outputs": [
    {
     "data": {
      "application/javascript": [
       "parent.postMessage({\"jupyterEvent\": \"custom.exercise_interaction\", \"data\": {\"interactionType\": 2, \"questionType\": 2, \"questionId\": \"0_ExerciseFormatTutorial\", \"learnToolsVersion\": \"0.3.4\", \"valueTowardsCompletion\": 0.0, \"failureMessage\": \"\", \"exceptionClass\": \"\", \"trace\": \"\", \"outcomeType\": 4}}, \"*\")"
      ],
      "text/plain": [
       "<IPython.core.display.Javascript object>"
      ]
     },
     "metadata": {},
     "output_type": "display_data"
    },
    {
     "data": {
      "text/markdown": [
       "<span style=\"color:#3366cc\">Hint:</span> Your favorite color rhymes with *glue*."
      ],
      "text/plain": [
       "Hint: Your favorite color rhymes with *glue*."
      ]
     },
     "metadata": {},
     "output_type": "display_data"
    },
    {
     "data": {
      "application/javascript": [
       "parent.postMessage({\"jupyterEvent\": \"custom.exercise_interaction\", \"data\": {\"interactionType\": 3, \"questionType\": 2, \"questionId\": \"0_ExerciseFormatTutorial\", \"learnToolsVersion\": \"0.3.4\", \"valueTowardsCompletion\": 0.0, \"failureMessage\": \"\", \"exceptionClass\": \"\", \"trace\": \"\", \"outcomeType\": 4}}, \"*\")"
      ],
      "text/plain": [
       "<IPython.core.display.Javascript object>"
      ]
     },
     "metadata": {},
     "output_type": "display_data"
    },
    {
     "data": {
      "text/markdown": [
       "<span style=\"color:#33cc99\">Solution:</span> \n",
       "```python\n",
       "color = \"blue\"\n",
       "```"
      ],
      "text/plain": [
       "Solution: \n",
       "```python\n",
       "color = \"blue\"\n",
       "```"
      ]
     },
     "metadata": {},
     "output_type": "display_data"
    }
   ],
   "source": [
    "q0.hint()\n",
    "q0.solution()"
   ]
  },
  {
   "cell_type": "markdown",
   "id": "e286e828",
   "metadata": {
    "papermill": {
     "duration": 0.007875,
     "end_time": "2025-03-10T15:06:56.862940",
     "exception": false,
     "start_time": "2025-03-10T15:06:56.855065",
     "status": "completed"
    },
    "tags": []
   },
   "source": [
    "The upcoming questions work the same way. The only thing that will change are the question numbers. For the next question, you'll call `q1.check()`, `q1.hint()`, `q1.solution()`, for question 2, you'll call `q2.check()`, and so on."
   ]
  },
  {
   "cell_type": "markdown",
   "id": "598a5e7f",
   "metadata": {
    "papermill": {
     "duration": 0.006505,
     "end_time": "2025-03-10T15:06:56.877911",
     "exception": false,
     "start_time": "2025-03-10T15:06:56.871406",
     "status": "completed"
    },
    "tags": []
   },
   "source": [
    "<hr/>\n",
    "\n",
    "# 1.\n",
    "\n",
    "Complete the code below. In case it's helpful, here is the table of available arithmetic operations:\n",
    "\n",
    "\n",
    "\n",
    "| Operator     | Name           | Description                                            |\n",
    "|--------------|----------------|--------------------------------------------------------|\n",
    "| ``a + b``    | Addition       | Sum of ``a`` and ``b``                                 |\n",
    "| ``a - b``    | Subtraction    | Difference of ``a`` and ``b``                          |\n",
    "| ``a * b``    | Multiplication | Product of ``a`` and ``b``                             |\n",
    "| ``a / b``    | True division  | Quotient of ``a`` and ``b``                            |\n",
    "| ``a // b``   | Floor division | Quotient of ``a`` and ``b``, removing fractional parts |\n",
    "| ``a % b``    | Modulus        | Integer remainder after division of ``a`` by ``b``     |\n",
    "| ``a ** b``   | Exponentiation | ``a`` raised to the power of ``b``                     |\n",
    "| ``-a``       | Negation       | The negative of ``a``                                  |\n",
    "\n",
    "<span style=\"display:none\"></span>\n"
   ]
  },
  {
   "cell_type": "code",
   "execution_count": 5,
   "id": "848c2662",
   "metadata": {
    "execution": {
     "iopub.execute_input": "2025-03-10T15:06:56.894445Z",
     "iopub.status.busy": "2025-03-10T15:06:56.893888Z",
     "iopub.status.idle": "2025-03-10T15:06:56.904138Z",
     "shell.execute_reply": "2025-03-10T15:06:56.902488Z"
    },
    "papermill": {
     "duration": 0.021173,
     "end_time": "2025-03-10T15:06:56.906430",
     "exception": false,
     "start_time": "2025-03-10T15:06:56.885257",
     "status": "completed"
    },
    "tags": []
   },
   "outputs": [
    {
     "data": {
      "application/javascript": [
       "parent.postMessage({\"jupyterEvent\": \"custom.exercise_interaction\", \"data\": {\"outcomeType\": 1, \"valueTowardsCompletion\": 0.25, \"interactionType\": 1, \"questionType\": 1, \"questionId\": \"1_CircleArea\", \"learnToolsVersion\": \"0.3.4\", \"failureMessage\": \"\", \"exceptionClass\": \"\", \"trace\": \"\"}}, \"*\")"
      ],
      "text/plain": [
       "<IPython.core.display.Javascript object>"
      ]
     },
     "metadata": {},
     "output_type": "display_data"
    },
    {
     "data": {
      "text/markdown": [
       "<span style=\"color:#33cc33\">Correct</span>"
      ],
      "text/plain": [
       "Correct"
      ]
     },
     "metadata": {},
     "output_type": "display_data"
    }
   ],
   "source": [
    "pi = 3.14159 # approximate\n",
    "diameter = 3\n",
    "\n",
    "# Create a variable called 'radius' equal to half the diameter\n",
    "radius = diameter / 2\n",
    "\n",
    "# Create a variable called 'area', using the formula for the area of a circle: pi times the radius squared\n",
    "area = pi * radius ** 2\n",
    "\n",
    "# Check your answer\n",
    "q1.check()"
   ]
  },
  {
   "cell_type": "code",
   "execution_count": 6,
   "id": "3b820b67",
   "metadata": {
    "execution": {
     "iopub.execute_input": "2025-03-10T15:06:56.922602Z",
     "iopub.status.busy": "2025-03-10T15:06:56.922207Z",
     "iopub.status.idle": "2025-03-10T15:06:56.926227Z",
     "shell.execute_reply": "2025-03-10T15:06:56.925022Z"
    },
    "papermill": {
     "duration": 0.013641,
     "end_time": "2025-03-10T15:06:56.927929",
     "exception": false,
     "start_time": "2025-03-10T15:06:56.914288",
     "status": "completed"
    },
    "tags": []
   },
   "outputs": [],
   "source": [
    "# Uncomment and run the lines below if you need help.\n",
    "#q1.hint()\n",
    "#q1.solution()"
   ]
  },
  {
   "cell_type": "markdown",
   "id": "7b0cc0e6",
   "metadata": {
    "papermill": {
     "duration": 0.006417,
     "end_time": "2025-03-10T15:06:56.941443",
     "exception": false,
     "start_time": "2025-03-10T15:06:56.935026",
     "status": "completed"
    },
    "tags": []
   },
   "source": [
    "<hr/>\n",
    "\n",
    "# 2.\n",
    "\n",
    "Add code to the following cell to swap variables `a` and `b` (so that `a` refers to the object previously referred to by `b` and vice versa)."
   ]
  },
  {
   "cell_type": "code",
   "execution_count": 7,
   "id": "7383ebf0",
   "metadata": {
    "execution": {
     "iopub.execute_input": "2025-03-10T15:06:56.957548Z",
     "iopub.status.busy": "2025-03-10T15:06:56.957206Z",
     "iopub.status.idle": "2025-03-10T15:06:56.966140Z",
     "shell.execute_reply": "2025-03-10T15:06:56.965076Z"
    },
    "papermill": {
     "duration": 0.019045,
     "end_time": "2025-03-10T15:06:56.968349",
     "exception": false,
     "start_time": "2025-03-10T15:06:56.949304",
     "status": "completed"
    },
    "tags": []
   },
   "outputs": [
    {
     "data": {
      "application/javascript": [
       "parent.postMessage({\"jupyterEvent\": \"custom.exercise_interaction\", \"data\": {\"outcomeType\": 1, \"valueTowardsCompletion\": 0.25, \"interactionType\": 1, \"questionType\": 2, \"questionId\": \"2_VariableSwap\", \"learnToolsVersion\": \"0.3.4\", \"failureMessage\": \"\", \"exceptionClass\": \"\", \"trace\": \"\"}}, \"*\")"
      ],
      "text/plain": [
       "<IPython.core.display.Javascript object>"
      ]
     },
     "metadata": {},
     "output_type": "display_data"
    },
    {
     "data": {
      "text/markdown": [
       "<span style=\"color:#33cc33\">Correct:</span> \n",
       "\n",
       "The most straightforward solution is to use a third variable to temporarily store one of the old values. e.g.:\n",
       "\n",
       "    tmp = a\n",
       "    a = b\n",
       "    b = tmp\n",
       "\n",
       "If you've read lots of Python code, you might have seen the following trick to swap two variables in one line:\n",
       "\n",
       "    a, b = b, a\n",
       "\n",
       "We'll demystify this bit of Python magic later when we talk about *tuples*."
      ],
      "text/plain": [
       "Correct: \n",
       "\n",
       "The most straightforward solution is to use a third variable to temporarily store one of the old values. e.g.:\n",
       "\n",
       "    tmp = a\n",
       "    a = b\n",
       "    b = tmp\n",
       "\n",
       "If you've read lots of Python code, you might have seen the following trick to swap two variables in one line:\n",
       "\n",
       "    a, b = b, a\n",
       "\n",
       "We'll demystify this bit of Python magic later when we talk about *tuples*."
      ]
     },
     "metadata": {},
     "output_type": "display_data"
    }
   ],
   "source": [
    "########### Setup code - don't touch this part ######################\n",
    "# If you're curious, these are examples of lists. We'll talk about \n",
    "# them in depth a few lessons from now. For now, just know that they're\n",
    "# yet another type of Python object, like int or float.\n",
    "a = [1, 2, 3]\n",
    "b = [3, 2, 1]\n",
    "q2.store_original_ids()\n",
    "######################################################################\n",
    "\n",
    "# Your code goes here. Swap the values to which a and b refer.\n",
    "# If you get stuck, you can always uncomment one or both of the lines in\n",
    "# the next cell for a hint, or to peek at the solution.\n",
    "\n",
    "temporary_var = a\n",
    "a = b\n",
    "b = temporary_var\n",
    "######################################################################\n",
    "\n",
    "# Check your answer\n",
    "q2.check()"
   ]
  },
  {
   "cell_type": "code",
   "execution_count": 8,
   "id": "523a3bb9",
   "metadata": {
    "execution": {
     "iopub.execute_input": "2025-03-10T15:06:56.986477Z",
     "iopub.status.busy": "2025-03-10T15:06:56.986086Z",
     "iopub.status.idle": "2025-03-10T15:06:56.991289Z",
     "shell.execute_reply": "2025-03-10T15:06:56.990004Z"
    },
    "papermill": {
     "duration": 0.016618,
     "end_time": "2025-03-10T15:06:56.993830",
     "exception": false,
     "start_time": "2025-03-10T15:06:56.977212",
     "status": "completed"
    },
    "tags": []
   },
   "outputs": [],
   "source": [
    "#q2.hint()"
   ]
  },
  {
   "cell_type": "code",
   "execution_count": 9,
   "id": "2d7a10dc",
   "metadata": {
    "execution": {
     "iopub.execute_input": "2025-03-10T15:06:57.012756Z",
     "iopub.status.busy": "2025-03-10T15:06:57.012362Z",
     "iopub.status.idle": "2025-03-10T15:06:57.016350Z",
     "shell.execute_reply": "2025-03-10T15:06:57.015219Z"
    },
    "papermill": {
     "duration": 0.015731,
     "end_time": "2025-03-10T15:06:57.018523",
     "exception": false,
     "start_time": "2025-03-10T15:06:57.002792",
     "status": "completed"
    },
    "tags": []
   },
   "outputs": [],
   "source": [
    "#q2.solution()"
   ]
  },
  {
   "cell_type": "markdown",
   "id": "c4d1aa0e",
   "metadata": {
    "papermill": {
     "duration": 0.009071,
     "end_time": "2025-03-10T15:06:57.034828",
     "exception": false,
     "start_time": "2025-03-10T15:06:57.025757",
     "status": "completed"
    },
    "tags": []
   },
   "source": [
    "<hr/>\n",
    "\n",
    "# 3a.\n",
    "\n",
    "Add parentheses to the following expression so that it evaluates to 1."
   ]
  },
  {
   "cell_type": "code",
   "execution_count": 10,
   "id": "a792ef46",
   "metadata": {
    "execution": {
     "iopub.execute_input": "2025-03-10T15:06:57.051151Z",
     "iopub.status.busy": "2025-03-10T15:06:57.050772Z",
     "iopub.status.idle": "2025-03-10T15:06:57.057390Z",
     "shell.execute_reply": "2025-03-10T15:06:57.056006Z"
    },
    "papermill": {
     "duration": 0.017287,
     "end_time": "2025-03-10T15:06:57.059382",
     "exception": false,
     "start_time": "2025-03-10T15:06:57.042095",
     "status": "completed"
    },
    "tags": []
   },
   "outputs": [
    {
     "data": {
      "text/plain": [
       "1"
      ]
     },
     "execution_count": 10,
     "metadata": {},
     "output_type": "execute_result"
    }
   ],
   "source": [
    "(5 - 3)// 2"
   ]
  },
  {
   "cell_type": "code",
   "execution_count": 11,
   "id": "026f54f1",
   "metadata": {
    "execution": {
     "iopub.execute_input": "2025-03-10T15:06:57.076500Z",
     "iopub.status.busy": "2025-03-10T15:06:57.076134Z",
     "iopub.status.idle": "2025-03-10T15:06:57.080322Z",
     "shell.execute_reply": "2025-03-10T15:06:57.078978Z"
    },
    "papermill": {
     "duration": 0.014895,
     "end_time": "2025-03-10T15:06:57.082769",
     "exception": false,
     "start_time": "2025-03-10T15:06:57.067874",
     "status": "completed"
    },
    "tags": []
   },
   "outputs": [],
   "source": [
    "#q3.a.hint()"
   ]
  },
  {
   "cell_type": "code",
   "execution_count": 12,
   "id": "5d3b3a4f",
   "metadata": {
    "execution": {
     "iopub.execute_input": "2025-03-10T15:06:57.099086Z",
     "iopub.status.busy": "2025-03-10T15:06:57.098645Z",
     "iopub.status.idle": "2025-03-10T15:06:57.105867Z",
     "shell.execute_reply": "2025-03-10T15:06:57.104858Z"
    },
    "papermill": {
     "duration": 0.01739,
     "end_time": "2025-03-10T15:06:57.107882",
     "exception": false,
     "start_time": "2025-03-10T15:06:57.090492",
     "status": "completed"
    },
    "tags": []
   },
   "outputs": [
    {
     "data": {
      "application/javascript": [
       "parent.postMessage({\"jupyterEvent\": \"custom.exercise_interaction\", \"data\": {\"interactionType\": 3, \"questionType\": 4, \"questionId\": \"3.1_ArithmeticParensEasy\", \"learnToolsVersion\": \"0.3.4\", \"valueTowardsCompletion\": 0.0, \"failureMessage\": \"\", \"exceptionClass\": \"\", \"trace\": \"\", \"outcomeType\": 4}}, \"*\")"
      ],
      "text/plain": [
       "<IPython.core.display.Javascript object>"
      ]
     },
     "metadata": {},
     "output_type": "display_data"
    },
    {
     "data": {
      "text/markdown": [
       "<span style=\"color:#33cc99\">Solution:</span> \n",
       "```python\n",
       "(5 - 3) // 2\n",
       "```"
      ],
      "text/plain": [
       "Solution: \n",
       "```python\n",
       "(5 - 3) // 2\n",
       "```"
      ]
     },
     "metadata": {},
     "output_type": "display_data"
    }
   ],
   "source": [
    "# Check your answer (Run this code cell to receive credit!)\n",
    "q3.a.solution()"
   ]
  },
  {
   "cell_type": "markdown",
   "id": "ceedaf3e",
   "metadata": {
    "papermill": {
     "duration": 0.007074,
     "end_time": "2025-03-10T15:06:57.123132",
     "exception": false,
     "start_time": "2025-03-10T15:06:57.116058",
     "status": "completed"
    },
    "tags": []
   },
   "source": [
    "# 3b.  <span title=\"A bit spicy\" style=\"color: darkgreen \">🌶️</span>\n",
    "\n",
    "<small>Questions, like this one, marked a spicy pepper are a bit harder.</small>\n",
    "\n",
    "Add parentheses to the following expression so that it evaluates to 0."
   ]
  },
  {
   "cell_type": "code",
   "execution_count": 13,
   "id": "0f4166ff",
   "metadata": {
    "execution": {
     "iopub.execute_input": "2025-03-10T15:06:57.139517Z",
     "iopub.status.busy": "2025-03-10T15:06:57.139071Z",
     "iopub.status.idle": "2025-03-10T15:06:57.145921Z",
     "shell.execute_reply": "2025-03-10T15:06:57.144682Z"
    },
    "papermill": {
     "duration": 0.017455,
     "end_time": "2025-03-10T15:06:57.147771",
     "exception": false,
     "start_time": "2025-03-10T15:06:57.130316",
     "status": "completed"
    },
    "tags": []
   },
   "outputs": [
    {
     "data": {
      "text/plain": [
       "0"
      ]
     },
     "execution_count": 13,
     "metadata": {},
     "output_type": "execute_result"
    }
   ],
   "source": [
    "(8 - (3 * 2)) - (1 + 1)"
   ]
  },
  {
   "cell_type": "code",
   "execution_count": 14,
   "id": "5798fc2f",
   "metadata": {
    "execution": {
     "iopub.execute_input": "2025-03-10T15:06:57.164765Z",
     "iopub.status.busy": "2025-03-10T15:06:57.164422Z",
     "iopub.status.idle": "2025-03-10T15:06:57.168920Z",
     "shell.execute_reply": "2025-03-10T15:06:57.167620Z"
    },
    "papermill": {
     "duration": 0.015796,
     "end_time": "2025-03-10T15:06:57.171150",
     "exception": false,
     "start_time": "2025-03-10T15:06:57.155354",
     "status": "completed"
    },
    "tags": []
   },
   "outputs": [],
   "source": [
    "#q3.b.hint()"
   ]
  },
  {
   "cell_type": "code",
   "execution_count": 15,
   "id": "6cb4c91c",
   "metadata": {
    "execution": {
     "iopub.execute_input": "2025-03-10T15:06:57.189181Z",
     "iopub.status.busy": "2025-03-10T15:06:57.188810Z",
     "iopub.status.idle": "2025-03-10T15:06:57.196279Z",
     "shell.execute_reply": "2025-03-10T15:06:57.195243Z"
    },
    "papermill": {
     "duration": 0.018452,
     "end_time": "2025-03-10T15:06:57.198353",
     "exception": false,
     "start_time": "2025-03-10T15:06:57.179901",
     "status": "completed"
    },
    "tags": []
   },
   "outputs": [
    {
     "data": {
      "application/javascript": [
       "parent.postMessage({\"jupyterEvent\": \"custom.exercise_interaction\", \"data\": {\"interactionType\": 3, \"questionType\": 4, \"questionId\": \"3.2_ArithmeticParensHard\", \"learnToolsVersion\": \"0.3.4\", \"valueTowardsCompletion\": 0.0, \"failureMessage\": \"\", \"exceptionClass\": \"\", \"trace\": \"\", \"outcomeType\": 4}}, \"*\")"
      ],
      "text/plain": [
       "<IPython.core.display.Javascript object>"
      ]
     },
     "metadata": {},
     "output_type": "display_data"
    },
    {
     "data": {
      "text/markdown": [
       "<span style=\"color:#33cc99\">Solution:</span> `(8 - 3) * (2 - (1 + 1))` is one solution. There may be others."
      ],
      "text/plain": [
       "Solution: `(8 - 3) * (2 - (1 + 1))` is one solution. There may be others."
      ]
     },
     "metadata": {},
     "output_type": "display_data"
    }
   ],
   "source": [
    "# Check your answer (Run this code cell to receive credit!)\n",
    "q3.b.solution()"
   ]
  },
  {
   "cell_type": "markdown",
   "id": "883eba0d",
   "metadata": {
    "papermill": {
     "duration": 0.008051,
     "end_time": "2025-03-10T15:06:57.215402",
     "exception": false,
     "start_time": "2025-03-10T15:06:57.207351",
     "status": "completed"
    },
    "tags": []
   },
   "source": [
    "<hr/>\n",
    "\n",
    "# 4. \n",
    "Alice, Bob and Carol have agreed to pool their Halloween candy and split it evenly among themselves.\n",
    "For the sake of their friendship, any candies left over will be smashed. For example, if they collectively\n",
    "bring home 91 candies, they'll take 30 each and smash 1.\n",
    "\n",
    "Write an arithmetic expression below to calculate how many candies they must smash for a given haul."
   ]
  },
  {
   "cell_type": "code",
   "execution_count": 16,
   "id": "431e9e22",
   "metadata": {
    "execution": {
     "iopub.execute_input": "2025-03-10T15:06:57.234524Z",
     "iopub.status.busy": "2025-03-10T15:06:57.234160Z",
     "iopub.status.idle": "2025-03-10T15:06:57.243616Z",
     "shell.execute_reply": "2025-03-10T15:06:57.242042Z"
    },
    "papermill": {
     "duration": 0.021538,
     "end_time": "2025-03-10T15:06:57.245372",
     "exception": false,
     "start_time": "2025-03-10T15:06:57.223834",
     "status": "completed"
    },
    "tags": []
   },
   "outputs": [
    {
     "data": {
      "application/javascript": [
       "parent.postMessage({\"jupyterEvent\": \"custom.exercise_interaction\", \"data\": {\"outcomeType\": 1, \"valueTowardsCompletion\": 0.25, \"interactionType\": 1, \"questionType\": 1, \"questionId\": \"4_CandySplitting\", \"learnToolsVersion\": \"0.3.4\", \"failureMessage\": \"\", \"exceptionClass\": \"\", \"trace\": \"\"}}, \"*\")"
      ],
      "text/plain": [
       "<IPython.core.display.Javascript object>"
      ]
     },
     "metadata": {},
     "output_type": "display_data"
    },
    {
     "data": {
      "text/markdown": [
       "<span style=\"color:#33cc33\">Correct</span>"
      ],
      "text/plain": [
       "Correct"
      ]
     },
     "metadata": {},
     "output_type": "display_data"
    }
   ],
   "source": [
    "# Variables representing the number of candies collected by alice, bob, and carol\n",
    "alice_candies = 121\n",
    "bob_candies = 77\n",
    "carol_candies = 109\n",
    "\n",
    "total = (alice_candies + bob_candies + carol_candies)\n",
    "smashed_candies = total % 3\n",
    "\n",
    "# Your code goes here! Replace the right-hand side of this assignment with an expression\n",
    "# involving alice_candies, bob_candies, and carol_candies\n",
    "\n",
    "to_smash = smashed_candies\n",
    "\n",
    "# Check your answer\n",
    "q4.check()"
   ]
  },
  {
   "cell_type": "code",
   "execution_count": 17,
   "id": "7eff3e98",
   "metadata": {
    "execution": {
     "iopub.execute_input": "2025-03-10T15:06:57.266197Z",
     "iopub.status.busy": "2025-03-10T15:06:57.265772Z",
     "iopub.status.idle": "2025-03-10T15:06:57.269920Z",
     "shell.execute_reply": "2025-03-10T15:06:57.268932Z"
    },
    "papermill": {
     "duration": 0.016166,
     "end_time": "2025-03-10T15:06:57.271733",
     "exception": false,
     "start_time": "2025-03-10T15:06:57.255567",
     "status": "completed"
    },
    "tags": []
   },
   "outputs": [],
   "source": [
    "#q4.hint()\n",
    "#q4.solution()"
   ]
  },
  {
   "cell_type": "markdown",
   "id": "4b9f23a6",
   "metadata": {
    "papermill": {
     "duration": 0.009892,
     "end_time": "2025-03-10T15:06:57.290168",
     "exception": false,
     "start_time": "2025-03-10T15:06:57.280276",
     "status": "completed"
    },
    "tags": []
   },
   "source": [
    "# Keep Going\n",
    "\n",
    "Next up, you'll **[learn to write new functions and understand functions others write](https://www.kaggle.com/colinmorris/functions-and-getting-help)**. This will make you at least 10 times more productive as a Python programmer. "
   ]
  },
  {
   "cell_type": "markdown",
   "id": "b4fdd199",
   "metadata": {
    "papermill": {
     "duration": 0.007709,
     "end_time": "2025-03-10T15:06:57.306155",
     "exception": false,
     "start_time": "2025-03-10T15:06:57.298446",
     "status": "completed"
    },
    "tags": []
   },
   "source": [
    "---\n",
    "\n",
    "\n",
    "\n",
    "\n",
    "*Have questions or comments? Visit the [course discussion forum](https://www.kaggle.com/learn/python/discussion) to chat with other learners.*"
   ]
  }
 ],
 "metadata": {
  "kaggle": {
   "accelerator": "none",
   "dataSources": [],
   "isGpuEnabled": false,
   "isInternetEnabled": false,
   "language": "python",
   "sourceType": "notebook"
  },
  "kernelspec": {
   "display_name": "Python 3",
   "language": "python",
   "name": "python3"
  },
  "language_info": {
   "codemirror_mode": {
    "name": "ipython",
    "version": 3
   },
   "file_extension": ".py",
   "mimetype": "text/x-python",
   "name": "python",
   "nbconvert_exporter": "python",
   "pygments_lexer": "ipython3",
   "version": "3.10.12"
  },
  "learntools_metadata": {
   "lesson_index": 0,
   "type": "exercise"
  },
  "papermill": {
   "default_parameters": {},
   "duration": 5.545289,
   "end_time": "2025-03-10T15:06:58.037344",
   "environment_variables": {},
   "exception": null,
   "input_path": "__notebook__.ipynb",
   "output_path": "__notebook__.ipynb",
   "parameters": {},
   "start_time": "2025-03-10T15:06:52.492055",
   "version": "2.6.0"
  }
 },
 "nbformat": 4,
 "nbformat_minor": 5
}
