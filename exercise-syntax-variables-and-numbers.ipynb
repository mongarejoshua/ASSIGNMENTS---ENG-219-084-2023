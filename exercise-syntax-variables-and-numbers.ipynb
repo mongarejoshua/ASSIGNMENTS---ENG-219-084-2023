{
 "cells": [
  {
   "cell_type": "markdown",
   "id": "341bba2e",
   "metadata": {
    "papermill": {
     "duration": 0.00664,
     "end_time": "2025-02-28T08:08:56.800859",
     "exception": false,
     "start_time": "2025-02-28T08:08:56.794219",
     "status": "completed"
    },
    "tags": []
   },
   "source": [
    "**This notebook is an exercise in the [Python](https://www.kaggle.com/learn/python) course.  You can reference the tutorial at [this link](https://www.kaggle.com/colinmorris/hello-python).**\n",
    "\n",
    "---\n"
   ]
  },
  {
   "cell_type": "markdown",
   "id": "2d16a480",
   "metadata": {
    "papermill": {
     "duration": 0.005357,
     "end_time": "2025-02-28T08:08:56.812088",
     "exception": false,
     "start_time": "2025-02-28T08:08:56.806731",
     "status": "completed"
    },
    "tags": []
   },
   "source": [
    "Welcome to your first set of Python coding problems.  If this is your first time using Kaggle Notebooks, welcome! \n",
    "\n",
    "Notebooks are composed of blocks (called \"cells\") of text and code. Each of these is editable, though you'll mainly be editing the code cells to answer some questions.\n",
    "\n",
    "To get started, try running the code cell below (by pressing the ► button, or clicking on the cell and pressing ctrl+enter on your keyboard)."
   ]
  },
  {
   "cell_type": "code",
   "execution_count": 1,
   "id": "89b12695",
   "metadata": {
    "execution": {
     "iopub.execute_input": "2025-02-28T08:08:56.824915Z",
     "iopub.status.busy": "2025-02-28T08:08:56.824292Z",
     "iopub.status.idle": "2025-02-28T08:08:56.831677Z",
     "shell.execute_reply": "2025-02-28T08:08:56.830078Z"
    },
    "papermill": {
     "duration": 0.016127,
     "end_time": "2025-02-28T08:08:56.833577",
     "exception": false,
     "start_time": "2025-02-28T08:08:56.817450",
     "status": "completed"
    },
    "tags": []
   },
   "outputs": [
    {
     "name": "stdout",
     "output_type": "stream",
     "text": [
      "You've successfully run some Python code\n",
      "Congratulations!\n"
     ]
    }
   ],
   "source": [
    "print(\"You've successfully run some Python code\")\n",
    "print(\"Congratulations!\")"
   ]
  },
  {
   "cell_type": "markdown",
   "id": "65024e12",
   "metadata": {
    "papermill": {
     "duration": 0.005573,
     "end_time": "2025-02-28T08:08:56.845584",
     "exception": false,
     "start_time": "2025-02-28T08:08:56.840011",
     "status": "completed"
    },
    "tags": []
   },
   "source": [
    "Try adding another line of code in the cell above and re-running it. \n",
    "\n",
    "Now let's get a little fancier:  Add a new code cell by clicking on an existing code cell, hitting the escape key, and then hitting the `a` or `b` key.  The `a` key will add a cell above the current cell, and `b` adds a cell below.\n",
    "\n",
    "Great! Now you know how to use Notebooks.\n",
    "\n",
    "Each hands-on exercise starts by setting up our feedback and code checking mechanism. Run the code cell below to do that. Then you'll be ready to move on to question 0."
   ]
  },
  {
   "cell_type": "code",
   "execution_count": 2,
   "id": "0ec87b1b",
   "metadata": {
    "_kg_hide-input": true,
    "_kg_hide-output": true,
    "execution": {
     "iopub.execute_input": "2025-02-28T08:08:56.858624Z",
     "iopub.status.busy": "2025-02-28T08:08:56.858241Z",
     "iopub.status.idle": "2025-02-28T08:08:57.841439Z",
     "shell.execute_reply": "2025-02-28T08:08:57.840230Z"
    },
    "papermill": {
     "duration": 0.991965,
     "end_time": "2025-02-28T08:08:57.843498",
     "exception": false,
     "start_time": "2025-02-28T08:08:56.851533",
     "status": "completed"
    },
    "tags": []
   },
   "outputs": [
    {
     "name": "stdout",
     "output_type": "stream",
     "text": [
      "Setup complete! You're ready to start question 0.\n"
     ]
    }
   ],
   "source": [
    "from learntools.core import binder; binder.bind(globals())\n",
    "from learntools.python.ex1 import *\n",
    "print(\"Setup complete! You're ready to start question 0.\")"
   ]
  },
  {
   "cell_type": "markdown",
   "id": "2d73143b",
   "metadata": {
    "papermill": {
     "duration": 0.00585,
     "end_time": "2025-02-28T08:08:57.855918",
     "exception": false,
     "start_time": "2025-02-28T08:08:57.850068",
     "status": "completed"
    },
    "tags": []
   },
   "source": [
    "# 0.\n",
    "\n",
    "*This is a silly question intended as an introduction to the format we use for hands-on exercises throughout all Kaggle courses.*\n",
    "\n",
    "**What is your favorite color? **\n",
    "\n",
    "To complete this question, create a variable called `color` in the cell below with an appropriate value. The function call `q0.check()` (which we've already provided in the cell below) will check your answer."
   ]
  },
  {
   "cell_type": "code",
   "execution_count": 3,
   "id": "d62633c5",
   "metadata": {
    "execution": {
     "iopub.execute_input": "2025-02-28T08:08:57.869721Z",
     "iopub.status.busy": "2025-02-28T08:08:57.869111Z",
     "iopub.status.idle": "2025-02-28T08:08:57.878648Z",
     "shell.execute_reply": "2025-02-28T08:08:57.877618Z"
    },
    "papermill": {
     "duration": 0.018485,
     "end_time": "2025-02-28T08:08:57.880505",
     "exception": false,
     "start_time": "2025-02-28T08:08:57.862020",
     "status": "completed"
    },
    "tags": []
   },
   "outputs": [
    {
     "data": {
      "application/javascript": [
       "parent.postMessage({\"jupyterEvent\": \"custom.exercise_interaction\", \"data\": {\"outcomeType\": 1, \"valueTowardsCompletion\": 0.25, \"interactionType\": 1, \"questionType\": 2, \"questionId\": \"0_ExerciseFormatTutorial\", \"learnToolsVersion\": \"0.3.4\", \"failureMessage\": \"\", \"exceptionClass\": \"\", \"trace\": \"\"}}, \"*\")"
      ],
      "text/plain": [
       "<IPython.core.display.Javascript object>"
      ]
     },
     "metadata": {},
     "output_type": "display_data"
    },
    {
     "data": {
      "text/markdown": [
       "<span style=\"color:#33cc33\">Correct:</span> What?! You got it right without needing a hint or anything? Drats. Well hey, you should still continue to the next step to get some practice asking for a hint and checking solutions. (Even though you obviously don't need any help here.)"
      ],
      "text/plain": [
       "Correct: What?! You got it right without needing a hint or anything? Drats. Well hey, you should still continue to the next step to get some practice asking for a hint and checking solutions. (Even though you obviously don't need any help here.)"
      ]
     },
     "metadata": {},
     "output_type": "display_data"
    }
   ],
   "source": [
    "# create a variable called color with an appropriate value on the line below\n",
    "# (Remember, strings in Python must be enclosed in 'single' or \"double\" quotes)\n",
    "color = 'blue'\n",
    "\n",
    "# Check your answer\n",
    "q0.check()"
   ]
  },
  {
   "cell_type": "markdown",
   "id": "e1f17ad2",
   "metadata": {
    "papermill": {
     "duration": 0.005983,
     "end_time": "2025-02-28T08:08:57.892910",
     "exception": false,
     "start_time": "2025-02-28T08:08:57.886927",
     "status": "completed"
    },
    "tags": []
   },
   "source": [
    "Didn't get the right answer? How do you not even know your own favorite color?!\n",
    "\n",
    "Delete the `#` in the line below to make one of the lines run. You can choose between getting a hint or the full answer by choosing which line to remove the `#` from. \n",
    "\n",
    "Removing the `#` is called uncommenting, because it changes that line from a \"comment\" which Python doesn't run to code, which Python does run."
   ]
  },
  {
   "cell_type": "code",
   "execution_count": 4,
   "id": "824e08b3",
   "metadata": {
    "execution": {
     "iopub.execute_input": "2025-02-28T08:08:57.906672Z",
     "iopub.status.busy": "2025-02-28T08:08:57.906292Z",
     "iopub.status.idle": "2025-02-28T08:08:57.917946Z",
     "shell.execute_reply": "2025-02-28T08:08:57.916676Z"
    },
    "papermill": {
     "duration": 0.020504,
     "end_time": "2025-02-28T08:08:57.919744",
     "exception": false,
     "start_time": "2025-02-28T08:08:57.899240",
     "status": "completed"
    },
    "tags": []
   },
   "outputs": [
    {
     "data": {
      "application/javascript": [
       "parent.postMessage({\"jupyterEvent\": \"custom.exercise_interaction\", \"data\": {\"interactionType\": 2, \"questionType\": 2, \"questionId\": \"0_ExerciseFormatTutorial\", \"learnToolsVersion\": \"0.3.4\", \"valueTowardsCompletion\": 0.0, \"failureMessage\": \"\", \"exceptionClass\": \"\", \"trace\": \"\", \"outcomeType\": 4}}, \"*\")"
      ],
      "text/plain": [
       "<IPython.core.display.Javascript object>"
      ]
     },
     "metadata": {},
     "output_type": "display_data"
    },
    {
     "data": {
      "text/markdown": [
       "<span style=\"color:#3366cc\">Hint:</span> Your favorite color rhymes with *glue*."
      ],
      "text/plain": [
       "Hint: Your favorite color rhymes with *glue*."
      ]
     },
     "metadata": {},
     "output_type": "display_data"
    },
    {
     "data": {
      "application/javascript": [
       "parent.postMessage({\"jupyterEvent\": \"custom.exercise_interaction\", \"data\": {\"interactionType\": 3, \"questionType\": 2, \"questionId\": \"0_ExerciseFormatTutorial\", \"learnToolsVersion\": \"0.3.4\", \"valueTowardsCompletion\": 0.0, \"failureMessage\": \"\", \"exceptionClass\": \"\", \"trace\": \"\", \"outcomeType\": 4}}, \"*\")"
      ],
      "text/plain": [
       "<IPython.core.display.Javascript object>"
      ]
     },
     "metadata": {},
     "output_type": "display_data"
    },
    {
     "data": {
      "text/markdown": [
       "<span style=\"color:#33cc99\">Solution:</span> \n",
       "```python\n",
       "color = \"blue\"\n",
       "```"
      ],
      "text/plain": [
       "Solution: \n",
       "```python\n",
       "color = \"blue\"\n",
       "```"
      ]
     },
     "metadata": {},
     "output_type": "display_data"
    }
   ],
   "source": [
    "q0.hint()\n",
    "q0.solution()"
   ]
  },
  {
   "cell_type": "markdown",
   "id": "990bed52",
   "metadata": {
    "papermill": {
     "duration": 0.006382,
     "end_time": "2025-02-28T08:08:57.932909",
     "exception": false,
     "start_time": "2025-02-28T08:08:57.926527",
     "status": "completed"
    },
    "tags": []
   },
   "source": [
    "The upcoming questions work the same way. The only thing that will change are the question numbers. For the next question, you'll call `q1.check()`, `q1.hint()`, `q1.solution()`, for question 2, you'll call `q2.check()`, and so on."
   ]
  },
  {
   "cell_type": "markdown",
   "id": "2d1a1252",
   "metadata": {
    "papermill": {
     "duration": 0.006033,
     "end_time": "2025-02-28T08:08:57.945353",
     "exception": false,
     "start_time": "2025-02-28T08:08:57.939320",
     "status": "completed"
    },
    "tags": []
   },
   "source": [
    "<hr/>\n",
    "\n",
    "# 1.\n",
    "\n",
    "Complete the code below. In case it's helpful, here is the table of available arithmetic operations:\n",
    "\n",
    "\n",
    "\n",
    "| Operator     | Name           | Description                                            |\n",
    "|--------------|----------------|--------------------------------------------------------|\n",
    "| ``a + b``    | Addition       | Sum of ``a`` and ``b``                                 |\n",
    "| ``a - b``    | Subtraction    | Difference of ``a`` and ``b``                          |\n",
    "| ``a * b``    | Multiplication | Product of ``a`` and ``b``                             |\n",
    "| ``a / b``    | True division  | Quotient of ``a`` and ``b``                            |\n",
    "| ``a // b``   | Floor division | Quotient of ``a`` and ``b``, removing fractional parts |\n",
    "| ``a % b``    | Modulus        | Integer remainder after division of ``a`` by ``b``     |\n",
    "| ``a ** b``   | Exponentiation | ``a`` raised to the power of ``b``                     |\n",
    "| ``-a``       | Negation       | The negative of ``a``                                  |\n",
    "\n",
    "<span style=\"display:none\"></span>\n"
   ]
  },
  {
   "cell_type": "code",
   "execution_count": 5,
   "id": "7f8107d4",
   "metadata": {
    "execution": {
     "iopub.execute_input": "2025-02-28T08:08:57.959788Z",
     "iopub.status.busy": "2025-02-28T08:08:57.959373Z",
     "iopub.status.idle": "2025-02-28T08:08:57.967460Z",
     "shell.execute_reply": "2025-02-28T08:08:57.966371Z"
    },
    "papermill": {
     "duration": 0.017235,
     "end_time": "2025-02-28T08:08:57.969144",
     "exception": false,
     "start_time": "2025-02-28T08:08:57.951909",
     "status": "completed"
    },
    "tags": []
   },
   "outputs": [
    {
     "data": {
      "application/javascript": [
       "parent.postMessage({\"jupyterEvent\": \"custom.exercise_interaction\", \"data\": {\"outcomeType\": 1, \"valueTowardsCompletion\": 0.25, \"interactionType\": 1, \"questionType\": 1, \"questionId\": \"1_CircleArea\", \"learnToolsVersion\": \"0.3.4\", \"failureMessage\": \"\", \"exceptionClass\": \"\", \"trace\": \"\"}}, \"*\")"
      ],
      "text/plain": [
       "<IPython.core.display.Javascript object>"
      ]
     },
     "metadata": {},
     "output_type": "display_data"
    },
    {
     "data": {
      "text/markdown": [
       "<span style=\"color:#33cc33\">Correct</span>"
      ],
      "text/plain": [
       "Correct"
      ]
     },
     "metadata": {},
     "output_type": "display_data"
    }
   ],
   "source": [
    "pi = 3.14159 # approximate\n",
    "diameter = 3\n",
    "\n",
    "# Create a variable called 'radius' equal to half the diameter\n",
    "radius = diameter / 2\n",
    "\n",
    "# Create a variable called 'area', using the formula for the area of a circle: pi times the radius squared\n",
    "area = pi * radius ** 2\n",
    "\n",
    "# Check your answer\n",
    "q1.check()"
   ]
  },
  {
   "cell_type": "code",
   "execution_count": 6,
   "id": "8779dc28",
   "metadata": {
    "execution": {
     "iopub.execute_input": "2025-02-28T08:08:57.984433Z",
     "iopub.status.busy": "2025-02-28T08:08:57.984068Z",
     "iopub.status.idle": "2025-02-28T08:08:57.988180Z",
     "shell.execute_reply": "2025-02-28T08:08:57.986953Z"
    },
    "papermill": {
     "duration": 0.01381,
     "end_time": "2025-02-28T08:08:57.989927",
     "exception": false,
     "start_time": "2025-02-28T08:08:57.976117",
     "status": "completed"
    },
    "tags": []
   },
   "outputs": [],
   "source": [
    "# Uncomment and run the lines below if you need help.\n",
    "#q1.hint()\n",
    "#q1.solution()"
   ]
  },
  {
   "cell_type": "markdown",
   "id": "0d66363c",
   "metadata": {
    "papermill": {
     "duration": 0.006597,
     "end_time": "2025-02-28T08:08:58.003319",
     "exception": false,
     "start_time": "2025-02-28T08:08:57.996722",
     "status": "completed"
    },
    "tags": []
   },
   "source": [
    "<hr/>\n",
    "\n",
    "# 2.\n",
    "\n",
    "Add code to the following cell to swap variables `a` and `b` (so that `a` refers to the object previously referred to by `b` and vice versa)."
   ]
  },
  {
   "cell_type": "code",
   "execution_count": 7,
   "id": "c458c54c",
   "metadata": {
    "execution": {
     "iopub.execute_input": "2025-02-28T08:08:58.018433Z",
     "iopub.status.busy": "2025-02-28T08:08:58.018064Z",
     "iopub.status.idle": "2025-02-28T08:08:58.027001Z",
     "shell.execute_reply": "2025-02-28T08:08:58.025790Z"
    },
    "papermill": {
     "duration": 0.018351,
     "end_time": "2025-02-28T08:08:58.028646",
     "exception": false,
     "start_time": "2025-02-28T08:08:58.010295",
     "status": "completed"
    },
    "tags": []
   },
   "outputs": [
    {
     "data": {
      "application/javascript": [
       "parent.postMessage({\"jupyterEvent\": \"custom.exercise_interaction\", \"data\": {\"outcomeType\": 1, \"valueTowardsCompletion\": 0.25, \"interactionType\": 1, \"questionType\": 2, \"questionId\": \"2_VariableSwap\", \"learnToolsVersion\": \"0.3.4\", \"failureMessage\": \"\", \"exceptionClass\": \"\", \"trace\": \"\"}}, \"*\")"
      ],
      "text/plain": [
       "<IPython.core.display.Javascript object>"
      ]
     },
     "metadata": {},
     "output_type": "display_data"
    },
    {
     "data": {
      "text/markdown": [
       "<span style=\"color:#33cc33\">Correct:</span> \n",
       "\n",
       "The most straightforward solution is to use a third variable to temporarily store one of the old values. e.g.:\n",
       "\n",
       "    tmp = a\n",
       "    a = b\n",
       "    b = tmp\n",
       "\n",
       "If you've read lots of Python code, you might have seen the following trick to swap two variables in one line:\n",
       "\n",
       "    a, b = b, a\n",
       "\n",
       "We'll demystify this bit of Python magic later when we talk about *tuples*."
      ],
      "text/plain": [
       "Correct: \n",
       "\n",
       "The most straightforward solution is to use a third variable to temporarily store one of the old values. e.g.:\n",
       "\n",
       "    tmp = a\n",
       "    a = b\n",
       "    b = tmp\n",
       "\n",
       "If you've read lots of Python code, you might have seen the following trick to swap two variables in one line:\n",
       "\n",
       "    a, b = b, a\n",
       "\n",
       "We'll demystify this bit of Python magic later when we talk about *tuples*."
      ]
     },
     "metadata": {},
     "output_type": "display_data"
    }
   ],
   "source": [
    "########### Setup code - don't touch this part ######################\n",
    "# If you're curious, these are examples of lists. We'll talk about \n",
    "# them in depth a few lessons from now. For now, just know that they're\n",
    "# yet another type of Python object, like int or float.\n",
    "a = [1, 2, 3]\n",
    "b = [3, 2, 1]\n",
    "q2.store_original_ids()\n",
    "######################################################################\n",
    "\n",
    "# Your code goes here. Swap the values to which a and b refer.\n",
    "# If you get stuck, you can always uncomment one or both of the lines in\n",
    "# the next cell for a hint, or to peek at the solution.\n",
    "\n",
    "temporary_var = a\n",
    "a = b\n",
    "b = temporary_var\n",
    "######################################################################\n",
    "\n",
    "# Check your answer\n",
    "q2.check()"
   ]
  },
  {
   "cell_type": "code",
   "execution_count": 8,
   "id": "4cbd6815",
   "metadata": {
    "execution": {
     "iopub.execute_input": "2025-02-28T08:08:58.044159Z",
     "iopub.status.busy": "2025-02-28T08:08:58.043694Z",
     "iopub.status.idle": "2025-02-28T08:08:58.048356Z",
     "shell.execute_reply": "2025-02-28T08:08:58.047182Z"
    },
    "papermill": {
     "duration": 0.014246,
     "end_time": "2025-02-28T08:08:58.049981",
     "exception": false,
     "start_time": "2025-02-28T08:08:58.035735",
     "status": "completed"
    },
    "tags": []
   },
   "outputs": [],
   "source": [
    "#q2.hint()"
   ]
  },
  {
   "cell_type": "code",
   "execution_count": 9,
   "id": "b2400eaa",
   "metadata": {
    "execution": {
     "iopub.execute_input": "2025-02-28T08:08:58.065332Z",
     "iopub.status.busy": "2025-02-28T08:08:58.064956Z",
     "iopub.status.idle": "2025-02-28T08:08:58.069183Z",
     "shell.execute_reply": "2025-02-28T08:08:58.068167Z"
    },
    "papermill": {
     "duration": 0.014074,
     "end_time": "2025-02-28T08:08:58.071060",
     "exception": false,
     "start_time": "2025-02-28T08:08:58.056986",
     "status": "completed"
    },
    "tags": []
   },
   "outputs": [],
   "source": [
    "#q2.solution()"
   ]
  },
  {
   "cell_type": "markdown",
   "id": "26d63604",
   "metadata": {
    "papermill": {
     "duration": 0.006293,
     "end_time": "2025-02-28T08:08:58.084542",
     "exception": false,
     "start_time": "2025-02-28T08:08:58.078249",
     "status": "completed"
    },
    "tags": []
   },
   "source": [
    "<hr/>\n",
    "\n",
    "# 3a.\n",
    "\n",
    "Add parentheses to the following expression so that it evaluates to 1."
   ]
  },
  {
   "cell_type": "code",
   "execution_count": 10,
   "id": "83eaf756",
   "metadata": {
    "execution": {
     "iopub.execute_input": "2025-02-28T08:08:58.099425Z",
     "iopub.status.busy": "2025-02-28T08:08:58.098986Z",
     "iopub.status.idle": "2025-02-28T08:08:58.105058Z",
     "shell.execute_reply": "2025-02-28T08:08:58.104026Z"
    },
    "papermill": {
     "duration": 0.015894,
     "end_time": "2025-02-28T08:08:58.106997",
     "exception": false,
     "start_time": "2025-02-28T08:08:58.091103",
     "status": "completed"
    },
    "tags": []
   },
   "outputs": [
    {
     "data": {
      "text/plain": [
       "1"
      ]
     },
     "execution_count": 10,
     "metadata": {},
     "output_type": "execute_result"
    }
   ],
   "source": [
    "(5 - 3)// 2"
   ]
  },
  {
   "cell_type": "code",
   "execution_count": 11,
   "id": "b517d392",
   "metadata": {
    "execution": {
     "iopub.execute_input": "2025-02-28T08:08:58.123036Z",
     "iopub.status.busy": "2025-02-28T08:08:58.122441Z",
     "iopub.status.idle": "2025-02-28T08:08:58.127102Z",
     "shell.execute_reply": "2025-02-28T08:08:58.125946Z"
    },
    "papermill": {
     "duration": 0.014501,
     "end_time": "2025-02-28T08:08:58.128899",
     "exception": false,
     "start_time": "2025-02-28T08:08:58.114398",
     "status": "completed"
    },
    "tags": []
   },
   "outputs": [],
   "source": [
    "#q3.a.hint()"
   ]
  },
  {
   "cell_type": "code",
   "execution_count": 12,
   "id": "80ee0e28",
   "metadata": {
    "execution": {
     "iopub.execute_input": "2025-02-28T08:08:58.144676Z",
     "iopub.status.busy": "2025-02-28T08:08:58.144268Z",
     "iopub.status.idle": "2025-02-28T08:08:58.152194Z",
     "shell.execute_reply": "2025-02-28T08:08:58.151166Z"
    },
    "papermill": {
     "duration": 0.017445,
     "end_time": "2025-02-28T08:08:58.153686",
     "exception": false,
     "start_time": "2025-02-28T08:08:58.136241",
     "status": "completed"
    },
    "tags": []
   },
   "outputs": [
    {
     "data": {
      "application/javascript": [
       "parent.postMessage({\"jupyterEvent\": \"custom.exercise_interaction\", \"data\": {\"interactionType\": 3, \"questionType\": 4, \"questionId\": \"3.1_ArithmeticParensEasy\", \"learnToolsVersion\": \"0.3.4\", \"valueTowardsCompletion\": 0.0, \"failureMessage\": \"\", \"exceptionClass\": \"\", \"trace\": \"\", \"outcomeType\": 4}}, \"*\")"
      ],
      "text/plain": [
       "<IPython.core.display.Javascript object>"
      ]
     },
     "metadata": {},
     "output_type": "display_data"
    },
    {
     "data": {
      "text/markdown": [
       "<span style=\"color:#33cc99\">Solution:</span> \n",
       "```python\n",
       "(5 - 3) // 2\n",
       "```"
      ],
      "text/plain": [
       "Solution: \n",
       "```python\n",
       "(5 - 3) // 2\n",
       "```"
      ]
     },
     "metadata": {},
     "output_type": "display_data"
    }
   ],
   "source": [
    "# Check your answer (Run this code cell to receive credit!)\n",
    "q3.a.solution()"
   ]
  },
  {
   "cell_type": "markdown",
   "id": "ffa216cc",
   "metadata": {
    "papermill": {
     "duration": 0.006711,
     "end_time": "2025-02-28T08:08:58.167490",
     "exception": false,
     "start_time": "2025-02-28T08:08:58.160779",
     "status": "completed"
    },
    "tags": []
   },
   "source": [
    "# 3b.  <span title=\"A bit spicy\" style=\"color: darkgreen \">🌶️</span>\n",
    "\n",
    "<small>Questions, like this one, marked a spicy pepper are a bit harder.</small>\n",
    "\n",
    "Add parentheses to the following expression so that it evaluates to 0."
   ]
  },
  {
   "cell_type": "code",
   "execution_count": 13,
   "id": "82d41956",
   "metadata": {
    "execution": {
     "iopub.execute_input": "2025-02-28T08:08:58.182761Z",
     "iopub.status.busy": "2025-02-28T08:08:58.182338Z",
     "iopub.status.idle": "2025-02-28T08:08:58.188551Z",
     "shell.execute_reply": "2025-02-28T08:08:58.187572Z"
    },
    "papermill": {
     "duration": 0.016162,
     "end_time": "2025-02-28T08:08:58.190502",
     "exception": false,
     "start_time": "2025-02-28T08:08:58.174340",
     "status": "completed"
    },
    "tags": []
   },
   "outputs": [
    {
     "data": {
      "text/plain": [
       "0"
      ]
     },
     "execution_count": 13,
     "metadata": {},
     "output_type": "execute_result"
    }
   ],
   "source": [
    "(8 - (3 * 2)) - (1 + 1)"
   ]
  },
  {
   "cell_type": "code",
   "execution_count": 14,
   "id": "f2fea1ff",
   "metadata": {
    "execution": {
     "iopub.execute_input": "2025-02-28T08:08:58.206967Z",
     "iopub.status.busy": "2025-02-28T08:08:58.206511Z",
     "iopub.status.idle": "2025-02-28T08:08:58.211147Z",
     "shell.execute_reply": "2025-02-28T08:08:58.209888Z"
    },
    "papermill": {
     "duration": 0.014919,
     "end_time": "2025-02-28T08:08:58.213155",
     "exception": false,
     "start_time": "2025-02-28T08:08:58.198236",
     "status": "completed"
    },
    "tags": []
   },
   "outputs": [],
   "source": [
    "#q3.b.hint()"
   ]
  },
  {
   "cell_type": "code",
   "execution_count": 15,
   "id": "bfdbf376",
   "metadata": {
    "execution": {
     "iopub.execute_input": "2025-02-28T08:08:58.229647Z",
     "iopub.status.busy": "2025-02-28T08:08:58.229261Z",
     "iopub.status.idle": "2025-02-28T08:08:58.237157Z",
     "shell.execute_reply": "2025-02-28T08:08:58.236102Z"
    },
    "papermill": {
     "duration": 0.018529,
     "end_time": "2025-02-28T08:08:58.239100",
     "exception": false,
     "start_time": "2025-02-28T08:08:58.220571",
     "status": "completed"
    },
    "tags": []
   },
   "outputs": [
    {
     "data": {
      "application/javascript": [
       "parent.postMessage({\"jupyterEvent\": \"custom.exercise_interaction\", \"data\": {\"interactionType\": 3, \"questionType\": 4, \"questionId\": \"3.2_ArithmeticParensHard\", \"learnToolsVersion\": \"0.3.4\", \"valueTowardsCompletion\": 0.0, \"failureMessage\": \"\", \"exceptionClass\": \"\", \"trace\": \"\", \"outcomeType\": 4}}, \"*\")"
      ],
      "text/plain": [
       "<IPython.core.display.Javascript object>"
      ]
     },
     "metadata": {},
     "output_type": "display_data"
    },
    {
     "data": {
      "text/markdown": [
       "<span style=\"color:#33cc99\">Solution:</span> `(8 - 3) * (2 - (1 + 1))` is one solution. There may be others."
      ],
      "text/plain": [
       "Solution: `(8 - 3) * (2 - (1 + 1))` is one solution. There may be others."
      ]
     },
     "metadata": {},
     "output_type": "display_data"
    }
   ],
   "source": [
    "# Check your answer (Run this code cell to receive credit!)\n",
    "q3.b.solution()"
   ]
  },
  {
   "cell_type": "markdown",
   "id": "ab19f684",
   "metadata": {
    "papermill": {
     "duration": 0.006898,
     "end_time": "2025-02-28T08:08:58.253649",
     "exception": false,
     "start_time": "2025-02-28T08:08:58.246751",
     "status": "completed"
    },
    "tags": []
   },
   "source": [
    "<hr/>\n",
    "\n",
    "# 4. \n",
    "Alice, Bob and Carol have agreed to pool their Halloween candy and split it evenly among themselves.\n",
    "For the sake of their friendship, any candies left over will be smashed. For example, if they collectively\n",
    "bring home 91 candies, they'll take 30 each and smash 1.\n",
    "\n",
    "Write an arithmetic expression below to calculate how many candies they must smash for a given haul."
   ]
  },
  {
   "cell_type": "code",
   "execution_count": 16,
   "id": "64e72732",
   "metadata": {
    "execution": {
     "iopub.execute_input": "2025-02-28T08:08:58.270793Z",
     "iopub.status.busy": "2025-02-28T08:08:58.270385Z",
     "iopub.status.idle": "2025-02-28T08:08:58.280099Z",
     "shell.execute_reply": "2025-02-28T08:08:58.278937Z"
    },
    "papermill": {
     "duration": 0.020555,
     "end_time": "2025-02-28T08:08:58.281885",
     "exception": false,
     "start_time": "2025-02-28T08:08:58.261330",
     "status": "completed"
    },
    "tags": []
   },
   "outputs": [
    {
     "data": {
      "application/javascript": [
       "parent.postMessage({\"jupyterEvent\": \"custom.exercise_interaction\", \"data\": {\"outcomeType\": 1, \"valueTowardsCompletion\": 0.25, \"interactionType\": 1, \"questionType\": 1, \"questionId\": \"4_CandySplitting\", \"learnToolsVersion\": \"0.3.4\", \"failureMessage\": \"\", \"exceptionClass\": \"\", \"trace\": \"\"}}, \"*\")"
      ],
      "text/plain": [
       "<IPython.core.display.Javascript object>"
      ]
     },
     "metadata": {},
     "output_type": "display_data"
    },
    {
     "data": {
      "text/markdown": [
       "<span style=\"color:#33cc33\">Correct</span>"
      ],
      "text/plain": [
       "Correct"
      ]
     },
     "metadata": {},
     "output_type": "display_data"
    }
   ],
   "source": [
    "# Variables representing the number of candies collected by alice, bob, and carol\n",
    "alice_candies = 121\n",
    "bob_candies = 77\n",
    "carol_candies = 109\n",
    "\n",
    "total = (alice_candies + bob_candies + carol_candies)\n",
    "smashed_candies = total % 3\n",
    "\n",
    "# Your code goes here! Replace the right-hand side of this assignment with an expression\n",
    "# involving alice_candies, bob_candies, and carol_candies\n",
    "\n",
    "to_smash = smashed_candies\n",
    "\n",
    "# Check your answer\n",
    "q4.check()"
   ]
  },
  {
   "cell_type": "code",
   "execution_count": 17,
   "id": "bd6bbda6",
   "metadata": {
    "execution": {
     "iopub.execute_input": "2025-02-28T08:08:58.298991Z",
     "iopub.status.busy": "2025-02-28T08:08:58.298594Z",
     "iopub.status.idle": "2025-02-28T08:08:58.302419Z",
     "shell.execute_reply": "2025-02-28T08:08:58.301386Z"
    },
    "papermill": {
     "duration": 0.013986,
     "end_time": "2025-02-28T08:08:58.303953",
     "exception": false,
     "start_time": "2025-02-28T08:08:58.289967",
     "status": "completed"
    },
    "tags": []
   },
   "outputs": [],
   "source": [
    "#q4.hint()\n",
    "#q4.solution()"
   ]
  },
  {
   "cell_type": "markdown",
   "id": "0f11925c",
   "metadata": {
    "papermill": {
     "duration": 0.007252,
     "end_time": "2025-02-28T08:08:58.319158",
     "exception": false,
     "start_time": "2025-02-28T08:08:58.311906",
     "status": "completed"
    },
    "tags": []
   },
   "source": [
    "# Keep Going\n",
    "\n",
    "Next up, you'll **[learn to write new functions and understand functions others write](https://www.kaggle.com/colinmorris/functions-and-getting-help)**. This will make you at least 10 times more productive as a Python programmer. "
   ]
  },
  {
   "cell_type": "markdown",
   "id": "6cd41761",
   "metadata": {
    "papermill": {
     "duration": 0.007149,
     "end_time": "2025-02-28T08:08:58.333629",
     "exception": false,
     "start_time": "2025-02-28T08:08:58.326480",
     "status": "completed"
    },
    "tags": []
   },
   "source": [
    "---\n",
    "\n",
    "\n",
    "\n",
    "\n",
    "*Have questions or comments? Visit the [course discussion forum](https://www.kaggle.com/learn/python/discussion) to chat with other learners.*"
   ]
  }
 ],
 "metadata": {
  "kaggle": {
   "accelerator": "none",
   "dataSources": [],
   "isGpuEnabled": false,
   "isInternetEnabled": false,
   "language": "python",
   "sourceType": "notebook"
  },
  "kernelspec": {
   "display_name": "Python 3",
   "language": "python",
   "name": "python3"
  },
  "language_info": {
   "codemirror_mode": {
    "name": "ipython",
    "version": 3
   },
   "file_extension": ".py",
   "mimetype": "text/x-python",
   "name": "python",
   "nbconvert_exporter": "python",
   "pygments_lexer": "ipython3",
   "version": "3.10.12"
  },
  "learntools_metadata": {
   "lesson_index": 0,
   "type": "exercise"
  },
  "papermill": {
   "default_parameters": {},
   "duration": 4.985702,
   "end_time": "2025-02-28T08:08:58.863776",
   "environment_variables": {},
   "exception": null,
   "input_path": "__notebook__.ipynb",
   "output_path": "__notebook__.ipynb",
   "parameters": {},
   "start_time": "2025-02-28T08:08:53.878074",
   "version": "2.6.0"
  }
 },
 "nbformat": 4,
 "nbformat_minor": 5
}
